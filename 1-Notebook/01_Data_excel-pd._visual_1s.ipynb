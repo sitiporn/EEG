{
 "cells": [
  {
   "cell_type": "markdown",
   "id": "immediate-latter",
   "metadata": {},
   "source": [
    "## 01 Data_Excel-pd"
   ]
  },
  {
   "cell_type": "code",
   "execution_count": 1,
   "id": "imperial-authorization",
   "metadata": {},
   "outputs": [],
   "source": [
    "import numpy as np\n",
    "import pandas as pd\n",
    "import matplotlib.pyplot as plt\n",
    "import random\n",
    "from IPython.display import clear_output"
   ]
  },
  {
   "cell_type": "markdown",
   "id": "statistical-procedure",
   "metadata": {},
   "source": [
    "### 1. Loading Data"
   ]
  },
  {
   "cell_type": "markdown",
   "id": "tribal-acrobat",
   "metadata": {},
   "source": [
    "#### Load CSV"
   ]
  },
  {
   "cell_type": "code",
   "execution_count": 2,
   "id": "whole-ending",
   "metadata": {},
   "outputs": [],
   "source": [
    "par = \"par1\"\n",
    "file = \"par1_com2_data_2021-03-27-13.52.44\"\n",
    "path = \"data/csv/{file}.csv\".format(file = file)"
   ]
  },
  {
   "cell_type": "markdown",
   "id": "oriental-cornell",
   "metadata": {},
   "source": [
    "Load CSV and remove timestamps"
   ]
  },
  {
   "cell_type": "markdown",
   "id": "convenient-force",
   "metadata": {},
   "source": [
    "#### 1.1 Visual 1s"
   ]
  },
  {
   "cell_type": "code",
   "execution_count": 3,
   "id": "aerial-hands",
   "metadata": {},
   "outputs": [
    {
     "name": "stderr",
     "output_type": "stream",
     "text": [
      "/root/.local/lib/python3.6/site-packages/IPython/core/interactiveshell.py:3072: DtypeWarning: Columns (17) have mixed types.Specify dtype option on import or set low_memory=False.\n",
      "  interactivity=interactivity, compiler=compiler, result=result)\n"
     ]
    }
   ],
   "source": [
    "df_visual_1 = pd.read_csv(path)\n",
    "df_visual_1 = df_visual_1.drop([\"timestamps\"], axis=1)\n",
    "# df_visual_1.head()"
   ]
  },
  {
   "cell_type": "markdown",
   "id": "ceramic-parking",
   "metadata": {},
   "source": [
    "#### 1.2 Visual 2s"
   ]
  },
  {
   "cell_type": "code",
   "execution_count": 4,
   "id": "brown-reggae",
   "metadata": {},
   "outputs": [],
   "source": [
    "df_visual_2 = pd.read_csv(path)\n",
    "df_visual_2 = df_visual_2.drop([\"timestamps\"], axis=1)\n",
    "# df_visual_1.head()"
   ]
  },
  {
   "cell_type": "markdown",
   "id": "metric-oregon",
   "metadata": {},
   "source": [
    "#### 1.3 Imagery 1s"
   ]
  },
  {
   "cell_type": "code",
   "execution_count": 5,
   "id": "russian-album",
   "metadata": {},
   "outputs": [],
   "source": [
    "df_imagery_1 = pd.read_csv(path)\n",
    "df_imagery_1 = df_imagery_1.drop([\"timestamps\"], axis=1)\n",
    "# df_imagery.head()"
   ]
  },
  {
   "cell_type": "markdown",
   "id": "desperate-steps",
   "metadata": {},
   "source": [
    "#### 1.4 Imagery 2s"
   ]
  },
  {
   "cell_type": "code",
   "execution_count": 6,
   "id": "medical-tongue",
   "metadata": {},
   "outputs": [],
   "source": [
    "df_imagery_2 = pd.read_csv(path)\n",
    "df_imagery_2 = df_imagery_2.drop([\"timestamps\"], axis=1)\n",
    "# df_imagery.head()"
   ]
  },
  {
   "cell_type": "markdown",
   "id": "english-python",
   "metadata": {},
   "source": [
    "### 2. Checking Markers"
   ]
  },
  {
   "cell_type": "markdown",
   "id": "shaped-client",
   "metadata": {},
   "source": [
    "Let's look at how the marker was generated.  Here is the format:\n",
    "\n",
    "- [block, trial, label, time] <br>\n",
    "label = 1,2,3,4,5,6,black <br>\n",
    "time = 1s,2s\n",
    "\n",
    "- [0] = warmup"
   ]
  },
  {
   "cell_type": "code",
   "execution_count": 7,
   "id": "protecting-custody",
   "metadata": {},
   "outputs": [
    {
     "name": "stdout",
     "output_type": "stream",
     "text": [
      "['0' 'Training' '1,trial break,Fixation' '1,0,4,1' '1,task break,Fixation'\n",
      " '1,0,black,1' '1,0,1,2' '1,0,black,2' '1,0,5,2' '1,0,2,2' '1,0,6,2'\n",
      " '1,0,3,1' '1,1,4,2' '1,1,black,2' '1,1,1,2' '1,1,5,2' '1,1,2,1'\n",
      " '1,1,black,1' '1,1,6,2' '1,1,3,2' '1,2,4,1' '1,2,black,1' '1,2,1,1'\n",
      " '1,2,5,2' '1,2,black,2' '1,2,2,1' '1,2,6,1' '1,2,3,1' '1,3,4,1'\n",
      " '1,3,black,1' '1,3,1,1' '1,3,5,2' '1,3,black,2' '1,3,2,1' '1,3,6,1'\n",
      " '1,3,3,2' '1,4,4,1' '1,4,black,1' '1,4,1,2' '1,4,black,2' '1,4,5,1'\n",
      " '1,4,2,2' '1,4,6,1' '1,4,3,1' '2,trial break,Fixation' '2,0,4,1'\n",
      " '2,task break,Fixation' '2,0,black,1' '2,0,1,2' '2,0,black,2' '2,0,5,2'\n",
      " '2,0,2,2' '2,0,6,2' '2,0,3,2' '2,1,4,1' '2,1,black,1' '2,1,1,2'\n",
      " '2,1,black,2' '2,1,5,2' '2,1,2,1' '2,1,6,1' '2,1,3,1' '2,2,4,1'\n",
      " '2,2,black,1' '2,2,1,2' '2,2,black,2' '2,2,5,1' '2,2,2,2' '2,2,6,2'\n",
      " '2,2,3,1' '2,3,4,1' '2,3,black,1' '2,3,1,1' '2,3,5,1' '2,3,2,2'\n",
      " '2,3,black,2' '2,3,6,2' '2,3,3,2' '2,4,4,1' '2,4,black,1' '2,4,1,2'\n",
      " '2,4,black,2' '2,4,5,2' '2,4,2,2' '2,4,6,2' '2,4,3,2'\n",
      " '3,trial break,Fixation' '3,0,4,1' '3,task break,Fixation' '3,0,black,1'\n",
      " '3,0,1,1' '3,0,5,1' '3,0,2,2' '3,0,black,2' '3,0,6,2' '3,0,3,1' '3,1,4,1'\n",
      " '3,1,black,1' '3,1,1,1' '3,1,5,1' '3,1,2,1' '3,1,6,2' '3,1,black,2'\n",
      " '3,1,3,2' '3,2,4,2' '3,2,black,2' '3,2,1,2' '3,2,5,1' '3,2,black,1'\n",
      " '3,2,2,2' '3,2,6,1' '3,2,3,1' '3,3,4,1' '3,3,black,1' '3,3,1,2'\n",
      " '3,3,black,2' '3,3,5,2' '3,3,2,1' '3,3,6,1' '3,3,3,2' '3,4,4,2'\n",
      " '3,4,black,2' '3,4,1,1' '3,4,black,1' '3,4,5,1' '3,4,2,1' '3,4,6,2'\n",
      " '3,4,3,2' '4,trial break,Fixation' '4,0,4,1' '4,task break,Fixation'\n",
      " '4,0,black,1' '4,0,1,1' '4,0,5,1' '4,0,2,1' '4,0,6,2' '4,0,black,2'\n",
      " '4,0,3,2' '4,1,4,2' '4,1,black,2' '4,1,1,2' '4,1,5,2' '4,1,2,1'\n",
      " '4,1,black,1' '4,1,6,1' '4,1,3,2' '4,2,4,2' '4,2,black,2' '4,2,1,1'\n",
      " '4,2,black,1' '4,2,5,2' '4,2,2,2' '4,2,6,1' '4,2,3,2' '4,3,4,1'\n",
      " '4,3,black,1' '4,3,1,1' '4,3,5,1' '4,3,2,2' '4,3,black,2' '4,3,6,1'\n",
      " '4,3,3,2' '4,4,4,1' '4,4,black,1' '4,4,1,1' '4,4,5,2' '4,4,black,2'\n",
      " '4,4,2,1' '4,4,6,2' '4,4,3,1' '5,trial break,Fixation' '5,0,4,1'\n",
      " '5,task break,Fixation' '5,0,black,1' '5,0,1,2' '5,0,black,2' '5,0,5,2'\n",
      " '5,0,2,1' '5,0,6,1' '5,0,3,2' '5,1,4,2' '5,1,black,2' '5,1,1,2' '5,1,5,1'\n",
      " '5,1,black,1' '5,1,2,2' '5,1,6,1' '5,1,3,2' '5,2,4,2' '5,2,black,2'\n",
      " '5,2,1,1' '5,2,black,1' '5,2,5,1' '5,2,2,1' '5,2,6,2' '5,2,3,2' '5,3,4,2'\n",
      " '5,3,black,2' '5,3,1,1' '5,3,black,1' '5,3,5,2' '5,3,2,2' '5,3,6,2'\n",
      " '5,3,3,1' '5,4,4,1' '5,4,black,1' '5,4,1,2' '5,4,black,2' '5,4,5,1'\n",
      " '5,4,2,1' '5,4,6,1' '5,4,3,1' '6,trial break,Fixation' '6,0,4,2'\n",
      " '6,task break,Fixation' '6,0,black,2' '6,0,1,1' '6,0,black,1' '6,0,5,2'\n",
      " '6,0,2,2' '6,0,6,1' '6,0,3,2' '6,1,4,2' '6,1,black,2' '6,1,1,2' '6,1,5,1'\n",
      " '6,1,black,1' '6,1,2,2' '6,1,6,2' '6,1,3,2' '6,2,4,1' '6,2,black,1'\n",
      " '6,2,1,1' '6,2,5,1' '6,2,2,2' '6,2,black,2' '6,2,6,1' '6,2,3,2' '6,3,4,1'\n",
      " '6,3,black,1' '6,3,1,2' '6,3,black,2' '6,3,5,2' '6,3,2,1' '6,3,6,1'\n",
      " '6,3,3,1' '6,4,4,1' '6,4,black,1' '6,4,1,2' '6,4,black,2' '6,4,5,1'\n",
      " '6,4,2,1' '6,4,6,2' '6,4,3,2' '7,trial break,Fixation' '7,0,4,1'\n",
      " '7,task break,Fixation' '7,0,black,1' '7,0,1,2' '7,0,black,2' '7,0,5,1'\n",
      " '7,0,2,2' '7,0,6,2' '7,0,3,1' '7,1,4,2' '7,1,black,2' '7,1,1,2' '7,1,5,1'\n",
      " '7,1,black,1' '7,1,2,2' '7,1,6,1' '7,1,3,1' '7,2,4,1' '7,2,black,1'\n",
      " '7,2,1,1' '7,2,5,2' '7,2,black,2' '7,2,2,1' '7,2,6,2' '7,2,3,1' '7,3,4,2'\n",
      " '7,3,black,2' '7,3,1,2' '7,3,5,1' '7,3,black,1' '7,3,2,1' '7,3,6,1'\n",
      " '7,3,3,2' '7,4,4,1' '7,4,black,1' '7,4,1,2' '7,4,black,2' '7,4,5,2'\n",
      " '7,4,2,2' '7,4,6,1' '7,4,3,2' '8,trial break,Fixation' '8,0,4,1'\n",
      " '8,task break,Fixation' '8,0,black,1' '8,0,1,2' '8,0,black,2' '8,0,5,1'\n",
      " '8,0,2,2' '8,0,6,2' '8,0,3,1' '8,1,4,1' '8,1,black,1' '8,1,1,1' '8,1,5,2'\n",
      " '8,1,black,2' '8,1,2,1' '8,1,6,2' '8,1,3,1' '8,2,4,2' '8,2,black,2'\n",
      " '8,2,1,2' '8,2,5,1' '8,2,black,1' '8,2,2,1' '8,2,6,1' '8,2,3,2' '8,3,4,2'\n",
      " '8,3,black,2' '8,3,1,1' '8,3,black,1' '8,3,5,1' '8,3,2,2' '8,3,6,1'\n",
      " '8,3,3,2' '8,4,4,2' '8,4,black,2' '8,4,1,1' '8,4,black,1' '8,4,5,1'\n",
      " '8,4,2,2' '8,4,6,1' '8,4,3,1' '9,trial break,Fixation' '9,0,4,2'\n",
      " '9,task break,Fixation' '9,0,black,2' '9,0,1,2' '9,0,5,2' '9,0,2,1'\n",
      " '9,0,black,1' '9,0,6,1' '9,0,3,2' '9,1,4,1' '9,1,black,1' '9,1,1,2'\n",
      " '9,1,black,2' '9,1,5,1' '9,1,2,2' '9,1,6,1' '9,1,3,1' '9,2,4,2'\n",
      " '9,2,black,2' '9,2,1,2' '9,2,5,1' '9,2,black,1' '9,2,2,1' '9,2,6,1'\n",
      " '9,2,3,1' '9,3,4,1' '9,3,black,1' '9,3,1,2' '9,3,black,2' '9,3,5,2'\n",
      " '9,3,2,1' '9,3,6,1' '9,3,3,2' '9,4,4,2' '9,4,black,2' '9,4,1,2' '9,4,5,2'\n",
      " '9,4,2,2' '9,4,6,2' '9,4,3,1' '9,4,black,1' '10,trial break,Fixation'\n",
      " '10,0,4,2' '10,task break,Fixation' '10,0,black,2' '10,0,1,2' '10,0,5,1'\n",
      " '10,0,black,1' '10,0,2,1' '10,0,6,1' '10,0,3,1' '10,1,4,2' '10,1,black,2'\n",
      " '10,1,1,1' '10,1,black,1' '10,1,5,2' '10,1,2,2' '10,1,6,2' '10,1,3,1'\n",
      " '10,2,4,2' '10,2,black,2' '10,2,1,2' '10,2,5,2' '10,2,2,2' '10,2,6,1'\n",
      " '10,2,black,1' '10,2,3,1' '10,3,4,1' '10,3,black,1' '10,3,1,2'\n",
      " '10,3,black,2' '10,3,5,1' '10,3,2,2' '10,3,6,1' '10,3,3,1' '10,4,4,2'\n",
      " '10,4,black,2' '10,4,1,1' '10,4,black,1' '10,4,5,2' '10,4,2,2' '10,4,6,1'\n",
      " '10,4,3,1' '11,trial break,Fixation' '11,0,4,2' '11,task break,Fixation'\n",
      " '11,0,black,2' '11,0,1,2' '11,0,5,2' '11,0,2,2' '11,0,6,1' '11,0,black,1'\n",
      " '11,0,3,1' '11,1,4,2' '11,1,black,2' '11,1,1,1' '11,1,black,1' '11,1,5,1'\n",
      " '11,1,2,1' '11,1,6,1' '11,1,3,1' '11,2,4,2' '11,2,black,2' '11,2,1,1'\n",
      " '11,2,black,1' '11,2,5,2' '11,2,2,2' '11,2,6,2' '11,2,3,1' '11,3,4,2'\n",
      " '11,3,black,2' '11,3,1,2' '11,3,5,1' '11,3,black,1' '11,3,2,2' '11,3,6,1'\n",
      " '11,3,3,1' '11,4,4,2' '11,4,black,2' '11,4,1,1' '11,4,black,1' '11,4,5,2'\n",
      " '11,4,2,1' '11,4,6,2' '11,4,3,1' '12,trial break,Fixation' '12,0,4,2'\n",
      " '12,task break,Fixation' '12,0,black,2' '12,0,1,1' '12,0,black,1'\n",
      " '12,0,5,2' '12,0,2,2' '12,0,6,2' '12,0,3,2' '12,1,4,2' '12,1,black,2'\n",
      " '12,1,1,2' '12,1,5,1' '12,1,black,1' '12,1,2,1' '12,1,6,2' '12,1,3,1'\n",
      " '12,2,4,2' '12,2,black,2' '12,2,1,2' '12,2,5,2' '12,2,2,1' '12,2,black,1'\n",
      " '12,2,6,1' '12,2,3,2' '12,3,4,1' '12,3,black,1' '12,3,1,1' '12,3,5,2'\n",
      " '12,3,black,2' '12,3,2,1' '12,3,6,2' '12,3,3,1' '12,4,4,2' '12,4,black,2'\n",
      " '12,4,1,1' '12,4,black,1' '12,4,5,1' '12,4,2,2' '12,4,6,2' '12,4,3,2'\n",
      " '13,trial break,Fixation' '13,0,4,1' '13,task break,Fixation'\n",
      " '13,0,black,1' '13,0,1,1' '13,0,5,1' '13,0,2,2' '13,0,black,2' '13,0,6,1'\n",
      " '13,0,3,2' '13,1,4,2' '13,1,black,2' '13,1,1,1' '13,1,black,1' '13,1,5,2'\n",
      " '13,1,2,2' '13,1,6,1' '13,1,3,2' '13,2,4,1' '13,2,black,1' '13,2,1,2'\n",
      " '13,2,black,2' '13,2,5,2' '13,2,2,2' '13,2,6,2' '13,2,3,1' '13,3,4,1'\n",
      " '13,3,black,1' '13,3,1,1' '13,3,5,1' '13,3,2,1' '13,3,6,2' '13,3,black,2'\n",
      " '13,3,3,2' '13,4,4,2' '13,4,black,2' '13,4,1,2' '13,4,5,2' '13,4,2,1'\n",
      " '13,4,black,1' '13,4,6,2' '13,4,3,1' '14,trial break,Fixation' '14,0,4,2'\n",
      " '14,task break,Fixation' '14,0,black,2' '14,0,1,1' '14,0,black,1'\n",
      " '14,0,5,2' '14,0,2,2' '14,0,6,2' '14,0,3,2' '14,1,4,1' '14,1,black,1'\n",
      " '14,1,1,2' '14,1,black,2' '14,1,5,1' '14,1,2,1' '14,1,6,2' '14,1,3,2'\n",
      " '14,2,4,1' '14,2,black,1' '14,2,1,2' '14,2,black,2' '14,2,5,2' '14,2,2,1'\n",
      " '14,2,6,1' '14,2,3,1' '14,3,4,2' '14,3,black,2' '14,3,1,1' '14,3,black,1'\n",
      " '14,3,5,1' '14,3,2,2' '14,3,6,2' '14,3,3,2' '14,4,4,2' '14,4,black,2'\n",
      " '14,4,1,1' '14,4,black,1' '14,4,5,2' '14,4,2,2' '14,4,6,1' '14,4,3,1'\n",
      " '15,trial break,Fixation' '15,0,4,2' '15,task break,Fixation'\n",
      " '15,0,black,2' '15,0,1,1' '15,0,black,1' '15,0,5,1' '15,0,2,1' '15,0,6,1'\n",
      " '15,0,3,1' '15,1,4,2' '15,1,black,2' '15,1,1,2' '15,1,5,2' '15,1,2,1'\n",
      " '15,1,black,1' '15,1,6,2' '15,1,3,1' '15,2,4,1' '15,2,black,1' '15,2,1,1'\n",
      " '15,2,5,1' '15,2,2,1' '15,2,6,2' '15,2,black,2' '15,2,3,2' '15,3,4,2'\n",
      " '15,3,black,2' '15,3,1,2' '15,3,5,2' '15,3,2,1' '15,3,black,1' '15,3,6,2'\n",
      " '15,3,3,1' '15,4,4,2' '15,4,black,2' '15,4,1,1' '15,4,black,1' '15,4,5,2'\n",
      " '15,4,2,1' '15,4,6,1' '15,4,3,2' 0]\n"
     ]
    }
   ],
   "source": [
    "print(df_visual_1['Marker'].unique())"
   ]
  },
  {
   "cell_type": "markdown",
   "id": "crucial-webster",
   "metadata": {},
   "source": [
    "Since we set our marker to have 4 info: #block, #trial, label, time.  We gonna split and get the class for the markers.   **Note that we shall reserve 0 for no event for raw mne, thus we shall represent class 0-9 using label 1-10.**"
   ]
  },
  {
   "cell_type": "markdown",
   "id": "duplicate-poverty",
   "metadata": {},
   "source": [
    "#### 2.1 Visual 1 s"
   ]
  },
  {
   "cell_type": "code",
   "execution_count": 8,
   "id": "isolated-sport",
   "metadata": {},
   "outputs": [
    {
     "name": "stdout",
     "output_type": "stream",
     "text": [
      "397380\n",
      "['0' '1' '2' '3' '4' '5' '6']\n"
     ]
    }
   ],
   "source": [
    "#use numpy as another view of the pandas columns for faster operation\n",
    "marker_np_visual_1 = df_visual_1['Marker'].values\n",
    "marker_np_visual_1 = marker_np_visual_1.astype(str)\n",
    "\n",
    "print(len(marker_np_visual_1))\n",
    "### collecting indices of visual 1 s\n",
    "visual_1_idx = []\n",
    "\n",
    "for idx, marker in enumerate(marker_np_visual_1):\n",
    "    if marker != '0':\n",
    "        m = marker.split(\",\")\n",
    "        if \"Fixation\" in marker:\n",
    "            marker_np_visual_1[idx] = 0\n",
    "        elif \"trial break\" in marker:\n",
    "            marker_np_visual_1[idx] = 0\n",
    "        elif \"task break\" in marker:\n",
    "            marker_np_visual_1[idx] = 0\n",
    "        elif \"black\" in marker: # remove black --> visual\n",
    "            marker_np_visual_1[idx] = 0\n",
    "        elif marker[-1] == '2':   # remove time = 2s --> 1s \n",
    "#             print('im HEREEEEEEEEEEEEEEEEEEEEE')\n",
    "            marker_np_visual_1[idx] = 0\n",
    "        elif \",\" in marker:\n",
    "            marker_np_visual_1[idx] = m[2] # get classes\n",
    "            visual_1_idx.append(idx)\n",
    "        else:\n",
    "            marker_np_visual_1[idx] = 0\n",
    "\n",
    "# print(df_visual_1['Marker'].unique())\n",
    "print(np.unique(marker_np_visual_1))\n",
    "df_visual_1['Marker']= marker_np_visual_1"
   ]
  },
  {
   "cell_type": "code",
   "execution_count": 9,
   "id": "expected-understanding",
   "metadata": {},
   "outputs": [
    {
     "name": "stdout",
     "output_type": "stream",
     "text": [
      "            T3      T4      P4      P3      F4      F7      F3      F8  \\\n",
      "Marker                                                                   \n",
      "0       177381  184309  201863  116909  182432  263091  254786  171227   \n",
      "1           35      35      35      35      35      35      35      35   \n",
      "2           37      37      37      37      37      37      37      37   \n",
      "3           39      39      39      39      39      39      39      39   \n",
      "4           35      35      35      35      35      35      35      35   \n",
      "5           36      36      36      36      36      36      36      36   \n",
      "6           39      39      39      39      39      39      39      39   \n",
      "\n",
      "            O2      O1      T5      T6      C3      C4     FP1     FP2  \n",
      "Marker                                                                  \n",
      "0       139609  262757  147247  187322  231999  194774  217978  138447  \n",
      "1           35      35      35      35      35      35      35      35  \n",
      "2           37      37      37      37      37      37      37      37  \n",
      "3           39      39      39      39      39      39      39      39  \n",
      "4           35      35      35      35      35      35      35      35  \n",
      "5           36      36      36      36      36      36      36      36  \n",
      "6           39      39      39      39      39      39      39      39  \n"
     ]
    }
   ],
   "source": [
    "print(df_visual_1.groupby('Marker').nunique())"
   ]
  },
  {
   "cell_type": "code",
   "execution_count": 10,
   "id": "touched-constant",
   "metadata": {},
   "outputs": [
    {
     "name": "stdout",
     "output_type": "stream",
     "text": [
      "the number of stim in total:  221\n",
      "[13886, 18258, 21670, 24188, 24874, 26438, 27118, 27784, 28451, 29117, 30719, 31375, 32946, 34532, 36127, 36791, 38693, 44005, 46506, 47213, 47902, 48564, 50120, 52589, 53256, 53919, 54594, 58049, 64549, 65217, 65907, 68410, 69074, 69722, 70384, 71079, 75464, 77058, 77731, 78400, 80899, 81569, 84084, 84742, 85426, 89192, 89855, 90527, 91209, 96489, 97181, 99701, 102226, 103790, 104439, 105113, 106741, 108340, 109013, 110633, 112187, 114096, 116569, 117263, 120668, 122244, 124716, 125397, 126081, 129546, 132999, 133676, 135281, 135945, 136634, 137281, 140118, 142614, 146096, 149533, 150203, 150857, 152442, 154028, 156489, 157181, 157829, 158482, 160081, 160749, 164492, 166061, 168650, 171245, 172886, 173583, 174267, 174933, 176520, 178148, 180712, 181376, 182103, 183706, 187147, 190018, 191610, 194174, 194867, 195525, 197138, 198732, 201404, 202121, 202809, 205326, 205980, 207620, 210177, 210869, 212501, 213154, 217879, 218550, 220176, 221786, 223357, 224043, 226578, 227244, 227912, 228599, 229281, 231805, 232504, 238723, 242530, 243212, 243884, 244536, 246134, 249574, 253908, 254581, 255267, 256869, 258505, 259205, 260824, 263316, 263988, 269644, 270311, 271905, 272599, 273288, 273985, 274683, 276285, 279765, 282268, 283887, 284570, 286169, 287792, 289389, 292245, 298548, 299206, 300810, 304265, 304932, 306536, 307204, 308805, 310381, 311961, 312619, 317327, 317988, 318642, 320240, 322740, 325308, 326922, 331381, 332041, 332742, 333429, 334104, 339401, 341011, 343893, 348289, 349878, 350531, 353083, 355608, 356272, 356967, 358560, 359218, 363596, 366141, 366815, 369721, 370408, 371094, 371773, 372445, 375872, 377503, 378154, 378851, 379517, 380200, 385532, 387133, 388752, 390381, 391053]\n"
     ]
    }
   ],
   "source": [
    "print('the number of stim in total: ',len(visual_1_idx))\n",
    "print(visual_1_idx)"
   ]
  },
  {
   "cell_type": "markdown",
   "id": "warming-bunch",
   "metadata": {},
   "source": [
    "#### 2.2 Imagery 1 s"
   ]
  },
  {
   "cell_type": "code",
   "execution_count": 11,
   "id": "english-guide",
   "metadata": {},
   "outputs": [],
   "source": [
    "marker_np_imagery_1 = df_imagery_1['Marker'].values\n",
    "marker_np_imagery_1 = marker_np_imagery_1.astype(str)\n",
    "\n",
    "### collecting indices of imagery 1 s (the values of these indices will need to be replaced by the values of visual indices)\n",
    "imagery_1_idx = [] # rows we need\n",
    "\n",
    "for idx, marker in enumerate(marker_np_imagery_1):\n",
    "    if marker != '0':\n",
    "        m = marker.split(\",\")\n",
    "        if \"black\" in marker and marker[-1] == '1' : # get black and 1s\n",
    "            imagery_1_idx.append(idx)"
   ]
  },
  {
   "cell_type": "code",
   "execution_count": 12,
   "id": "actual-shoot",
   "metadata": {},
   "outputs": [
    {
     "name": "stdout",
     "output_type": "stream",
     "text": [
      "the number of stim in total:  221\n",
      "[14141, 18527, 21920, 24461, 25108, 26701, 27371, 28038, 28703, 29366, 30956, 31631, 33191, 34792, 36377, 37022, 38926, 44243, 46757, 47483, 48149, 48803, 50368, 52838, 53506, 54175, 54862, 58285, 64803, 65491, 66176, 68659, 69308, 69969, 70664, 71351, 75742, 77316, 77981, 78632, 81152, 81831, 84325, 85009, 85676, 89441, 90111, 90793, 91445, 96764, 97454, 99978, 102473, 104024, 104696, 105389, 106998, 108600, 109277, 110869, 112424, 114327, 116845, 117506, 120908, 122484, 124980, 125667, 126345, 129813, 133262, 133918, 135531, 136216, 136866, 137541, 140377, 142893, 146366, 149789, 150440, 151103, 152709, 154262, 156764, 157415, 158067, 158733, 160335, 161008, 164739, 166335, 168910, 171504, 173165, 173846, 174518, 175177, 176800, 178427, 180957, 181653, 182364, 183973, 187400, 190267, 191888, 194445, 195107, 195798, 197381, 198987, 201642, 202383, 203075, 205564, 206245, 207852, 210446, 211136, 212737, 213397, 218132, 218827, 220452, 222022, 223623, 224310, 226822, 227490, 228178, 228861, 229520, 232082, 232748, 238988, 242798, 243467, 244120, 244786, 246376, 249830, 254163, 254846, 255539, 257139, 258785, 259483, 261065, 263568, 264228, 269892, 270558, 272176, 272868, 273565, 274263, 274926, 276542, 280019, 282545, 284153, 284825, 286422, 288029, 289645, 292485, 298787, 299479, 301052, 304510, 305179, 306786, 307471, 309049, 310626, 312196, 312864, 317571, 318222, 318884, 320502, 323015, 325559, 327204, 331623, 332323, 333009, 333683, 334379, 339658, 341280, 344135, 348530, 350112, 350805, 353321, 355850, 356549, 357233, 358797, 359480, 363835, 366390, 367094, 369989, 370675, 371352, 372026, 372694, 376145, 377737, 378432, 379097, 379781, 380468, 385801, 387409, 389027, 390632, 391298]\n"
     ]
    }
   ],
   "source": [
    "print('the number of stim in total: ',len(imagery_1_idx))\n",
    "print(imagery_1_idx)"
   ]
  },
  {
   "cell_type": "markdown",
   "id": "seasonal-pakistan",
   "metadata": {},
   "source": [
    "### For example\n",
    "df_imagery_1['Marker'][14141] = df_visual_1['Marker'].iloc[13886]"
   ]
  },
  {
   "cell_type": "code",
   "execution_count": 13,
   "id": "august-galaxy",
   "metadata": {},
   "outputs": [
    {
     "name": "stderr",
     "output_type": "stream",
     "text": [
      "/usr/local/lib/python3.6/dist-packages/pandas/core/indexing.py:670: SettingWithCopyWarning: \n",
      "A value is trying to be set on a copy of a slice from a DataFrame\n",
      "\n",
      "See the caveats in the documentation: https://pandas.pydata.org/pandas-docs/stable/user_guide/indexing.html#returning-a-view-versus-a-copy\n",
      "  iloc._setitem_with_indexer(indexer, value)\n"
     ]
    }
   ],
   "source": [
    "df_imagery_1['Marker'] = 0\n",
    "for i in range(len(imagery_1_idx)):\n",
    "    df_imagery_1['Marker'].iloc[imagery_1_idx[i]] = df_visual_1['Marker'].iloc[visual_1_idx[i]]"
   ]
  },
  {
   "cell_type": "code",
   "execution_count": 14,
   "id": "authentic-census",
   "metadata": {},
   "outputs": [
    {
     "data": {
      "text/plain": [
       "'4'"
      ]
     },
     "execution_count": 14,
     "metadata": {},
     "output_type": "execute_result"
    }
   ],
   "source": [
    "df_visual_1['Marker'].iloc[visual_1_idx[0]]"
   ]
  },
  {
   "cell_type": "code",
   "execution_count": 15,
   "id": "celtic-internship",
   "metadata": {},
   "outputs": [
    {
     "name": "stdout",
     "output_type": "stream",
     "text": [
      "            T3      T4      P4      P3      F4      F7      F3      F8  \\\n",
      "Marker                                                                   \n",
      "0       177375  184315  201863  116901  182438  263114  254787  171223   \n",
      "1           35      35      35      35      35      35      35      35   \n",
      "2           37      37      37      37      37      37      37      37   \n",
      "3           39      39      39      39      39      39      39      39   \n",
      "4           35      35      35      35      35      35      35      35   \n",
      "5           36      36      36      36      36      36      36      36   \n",
      "6           39      39      39      39      39      39      39      39   \n",
      "\n",
      "            O2      O1      T5      T6      C3      C4     FP1     FP2  \n",
      "Marker                                                                  \n",
      "0       139613  262762  147245  187307  231992  194782  217983  138453  \n",
      "1           35      35      35      35      35      35      35      35  \n",
      "2           37      37      37      37      37      37      37      37  \n",
      "3           39      39      39      39      39      39      39      39  \n",
      "4           35      35      35      35      35      35      35      35  \n",
      "5           36      36      36      36      36      36      36      36  \n",
      "6           39      39      39      39      39      39      39      39  \n"
     ]
    }
   ],
   "source": [
    "print(df_imagery_1.groupby('Marker').nunique())"
   ]
  },
  {
   "cell_type": "markdown",
   "id": "hourly-heritage",
   "metadata": {},
   "source": [
    "#### 2.3 Visual 2 s"
   ]
  },
  {
   "cell_type": "code",
   "execution_count": 16,
   "id": "structured-terrain",
   "metadata": {},
   "outputs": [
    {
     "name": "stdout",
     "output_type": "stream",
     "text": [
      "['0' '1' '2' '3' '4' '5' '6']\n"
     ]
    }
   ],
   "source": [
    "#use numpy as another view of the pandas columns for faster operation\n",
    "marker_np_visual_2 = df_visual_2['Marker'].values\n",
    "marker_np_visual_2 = marker_np_visual_2.astype(str)\n",
    "\n",
    "### collecting indices of visual 2 s\n",
    "visual_2_idx = []\n",
    "\n",
    "for idx, marker in enumerate(marker_np_visual_2):\n",
    "    if marker != '0':\n",
    "        m = marker.split(\",\")\n",
    "#         print(m[-1])\n",
    "        if \"Fixation\" in marker:\n",
    "            marker_np_visual_2[idx] = 0\n",
    "        elif \"trial break\" in marker:\n",
    "            marker_np_visual_2[idx] = 0\n",
    "        elif \"task break\" in marker:\n",
    "            marker_np_visual_2[idx] = 0\n",
    "        elif \"black\" in marker: # remove black --> visual\n",
    "            marker_np_visual_2[idx] = 0\n",
    "        elif marker[-1] == '1':   # remove time = 1s --> 2s \n",
    "#             print('im HEREEEEEEEEEEEEEEEEEEEEE')\n",
    "            marker_np_visual_2[idx] = 0\n",
    "        elif \",\" in marker:\n",
    "            marker_np_visual_2[idx] = m[2] # get classes\n",
    "            visual_2_idx.append(idx)\n",
    "        else:\n",
    "            marker_np_visual_2[idx] = 0\n",
    "\n",
    "# print(df_visual_1['Marker'].unique())\n",
    "print(np.unique(marker_np_visual_2))\n",
    "df_visual_2['Marker']= marker_np_visual_2"
   ]
  },
  {
   "cell_type": "code",
   "execution_count": 17,
   "id": "chicken-wealth",
   "metadata": {},
   "outputs": [
    {
     "name": "stdout",
     "output_type": "stream",
     "text": [
      "the number of stim in total:  229\n",
      "[14556, 15495, 16403, 17335, 18940, 19846, 20765, 22335, 23260, 25525, 29783, 32046, 33604, 35207, 39339, 40280, 41218, 42154, 43075, 44656, 45574, 49218, 50782, 51686, 55277, 56188, 57121, 58700, 59626, 60527, 61465, 62386, 66591, 67505, 71766, 72673, 73616, 74523, 76158, 79045, 79968, 82247, 83150, 86093, 87023, 91863, 92771, 93707, 94613, 95545, 97869, 98795, 100397, 101299, 102891, 105803, 107414, 109694, 111286, 114744, 115660, 117921, 118842, 119764, 121323, 122899, 123797, 126766, 127695, 128614, 130234, 131160, 132092, 134332, 139213, 140795, 141700, 143309, 144257, 145155, 146782, 147728, 148623, 151518, 153124, 154676, 155589, 159147, 161424, 162329, 165154, 166750, 167669, 169347, 170283, 171952, 175594, 177216, 178844, 179774, 182779, 184388, 185299, 186240, 187815, 190695, 192307, 193240, 196222, 197803, 199407, 200411, 203491, 204419, 206677, 208267, 209244, 211581, 215096, 216011, 216939, 219244, 220877, 222450, 224729, 225648, 229938, 230885, 233167, 234093, 235011, 235926, 236867, 237777, 240673, 241586, 245215, 246798, 247744, 248659, 250252, 251173, 252097, 252999, 255956, 257558, 259903, 261486, 262406, 265906, 266842, 267749, 268695, 270976, 275345, 276962, 277888, 278821, 280439, 281340, 282964, 285239, 286842, 288450, 291324, 292904, 293836, 294752, 295702, 296649, 297597, 299900, 301471, 302413, 303345, 305601, 307894, 309469, 311045, 313319, 314246, 315164, 319304, 320922, 321835, 323437, 324376, 325978, 327620, 328561, 329504, 330439, 334800, 335706, 336631, 337566, 338495, 340078, 342952, 344554, 345505, 346424, 347358, 348948, 351227, 352176, 353738, 354661, 357653, 359900, 360818, 361732, 362678, 364256, 365200, 368773, 373112, 374047, 374952, 376567, 380889, 381824, 382742, 383685, 384606, 386223, 387829, 389449, 391718]\n"
     ]
    }
   ],
   "source": [
    "print('the number of stim in total: ',len(visual_2_idx))\n",
    "print(visual_2_idx)"
   ]
  },
  {
   "cell_type": "code",
   "execution_count": 18,
   "id": "oriented-edmonton",
   "metadata": {},
   "outputs": [
    {
     "name": "stdout",
     "output_type": "stream",
     "text": [
      "            T3      T4      P4      P3      F4      F7      F3      F8  \\\n",
      "Marker                                                                   \n",
      "0       177381  184313  201848  116910  182440  263117  254789  171237   \n",
      "1           40      40      40      40      40      40      40      40   \n",
      "2           38      38      38      38      38      38      38      38   \n",
      "3           36      36      36      36      36      36      36      36   \n",
      "4           40      40      40      40      40      40      40      40   \n",
      "5           39      39      39      39      39      39      39      39   \n",
      "6           36      36      36      36      36      36      36      36   \n",
      "\n",
      "            O2      O1      T5      T6      C3      C4     FP1     FP2  \n",
      "Marker                                                                  \n",
      "0       139610  262754  147249  187322  231985  194769  217972  138450  \n",
      "1           40      40      40      40      40      40      40      40  \n",
      "2           38      38      38      38      38      38      38      38  \n",
      "3           36      36      36      36      36      36      36      36  \n",
      "4           40      40      40      40      40      40      40      40  \n",
      "5           39      39      39      39      39      39      39      39  \n",
      "6           36      36      36      36      36      36      36      36  \n"
     ]
    }
   ],
   "source": [
    "print(df_visual_2.groupby('Marker').nunique())"
   ]
  },
  {
   "cell_type": "markdown",
   "id": "exact-arrangement",
   "metadata": {},
   "source": [
    "#### 2.4 Imagery 2 s"
   ]
  },
  {
   "cell_type": "code",
   "execution_count": 19,
   "id": "apparent-service",
   "metadata": {},
   "outputs": [],
   "source": [
    "marker_np_imagery_2 = df_imagery_2['Marker'].values\n",
    "marker_np_imagery_2 = marker_np_imagery_2.astype(str)\n",
    "\n",
    "### collecting indices of imagery 2 s (the values of these indices will need to be replaced by the values of visual indices)\n",
    "imagery_2_idx = []\n",
    "for idx, marker in enumerate(marker_np_imagery_2):\n",
    "    if marker != '0':\n",
    "        m = marker.split(\",\")\n",
    "        if \"black\" in marker and marker[-1] == '2' : # get black and 2s\n",
    "            imagery_2_idx.append(idx)\n"
   ]
  },
  {
   "cell_type": "code",
   "execution_count": 20,
   "id": "earlier-northern",
   "metadata": {},
   "outputs": [
    {
     "name": "stdout",
     "output_type": "stream",
     "text": [
      "the number of stim in total:  229\n",
      "[14953, 15863, 16794, 17720, 19309, 20223, 21132, 22721, 23648, 25897, 30179, 32407, 33992, 35586, 39739, 40680, 41613, 42537, 43465, 45033, 45967, 49579, 51145, 52050, 55645, 56582, 57507, 59086, 59987, 60923, 61847, 62753, 66964, 67871, 72133, 73076, 73985, 74921, 76517, 79426, 80358, 82610, 83545, 86482, 87394, 92230, 93166, 94073, 95003, 95946, 98254, 99162, 100759, 101683, 103249, 106198, 107799, 110092, 111644, 115117, 116030, 118302, 119224, 120125, 121697, 123257, 124177, 127155, 128074, 129007, 130613, 131550, 132458, 134739, 139580, 141161, 142074, 143711, 144616, 145555, 147186, 148084, 148991, 151900, 153487, 155048, 155949, 159539, 161787, 162695, 165517, 167124, 168067, 169743, 170678, 172341, 175980, 177609, 179229, 180161, 183167, 184758, 185700, 186603, 188210, 191058, 192694, 193629, 196589, 198185, 199775, 200801, 203877, 204787, 207076, 208673, 209633, 211959, 215470, 216397, 217341, 219634, 221246, 222810, 225104, 226032, 230338, 231260, 233544, 234463, 235381, 236320, 237229, 238173, 241045, 241988, 245589, 247198, 248114, 249031, 250630, 251550, 252455, 253361, 256323, 257954, 260279, 261862, 262770, 266299, 267202, 268149, 269098, 271360, 275741, 277345, 278273, 279220, 280797, 281723, 283341, 285625, 287249, 288846, 291702, 293291, 294206, 295158, 296105, 297055, 298000, 300264, 301867, 302798, 303719, 305991, 308259, 309832, 311417, 313687, 314612, 315523, 319695, 321291, 322196, 323831, 324763, 326379, 328013, 328958, 329895, 330833, 335161, 336084, 337024, 337948, 338859, 340467, 343349, 344960, 345879, 346814, 347743, 349323, 351632, 352541, 354115, 355062, 358019, 360273, 361191, 362134, 363053, 364657, 365596, 369177, 373504, 374407, 375327, 376957, 381281, 382198, 383143, 384059, 384986, 386590, 388209, 389837, 392110]\n"
     ]
    }
   ],
   "source": [
    "print('the number of stim in total: ',len(imagery_2_idx))\n",
    "print(imagery_2_idx)"
   ]
  },
  {
   "cell_type": "code",
   "execution_count": 21,
   "id": "weekly-creek",
   "metadata": {},
   "outputs": [
    {
     "name": "stderr",
     "output_type": "stream",
     "text": [
      "/usr/local/lib/python3.6/dist-packages/pandas/core/indexing.py:670: SettingWithCopyWarning: \n",
      "A value is trying to be set on a copy of a slice from a DataFrame\n",
      "\n",
      "See the caveats in the documentation: https://pandas.pydata.org/pandas-docs/stable/user_guide/indexing.html#returning-a-view-versus-a-copy\n",
      "  iloc._setitem_with_indexer(indexer, value)\n"
     ]
    }
   ],
   "source": [
    "df_imagery_2['Marker'] = '0'\n",
    "for i in range(len(imagery_2_idx)):\n",
    "    df_imagery_2['Marker'].iloc[imagery_2_idx[i]] = df_visual_2['Marker'].iloc[visual_2_idx[i]]"
   ]
  },
  {
   "cell_type": "code",
   "execution_count": 22,
   "id": "latin-reduction",
   "metadata": {},
   "outputs": [
    {
     "name": "stdout",
     "output_type": "stream",
     "text": [
      "            T3      T4      P4      P3      F4      F7      F3      F8  \\\n",
      "Marker                                                                   \n",
      "0       177388  184310  201862  116900  182436  263096  254782  171227   \n",
      "1           40      40      40      40      40      40      40      40   \n",
      "2           38      38      38      38      38      38      38      38   \n",
      "3           36      36      36      36      36      36      36      36   \n",
      "4           40      40      40      40      40      40      40      40   \n",
      "5           39      39      39      39      39      39      39      39   \n",
      "6           36      36      36      36      36      36      36      36   \n",
      "\n",
      "            O2      O1      T5      T6      C3      C4     FP1     FP2  \n",
      "Marker                                                                  \n",
      "0       139604  262763  147237  187312  231987  194763  217973  138453  \n",
      "1           40      40      40      40      40      40      40      40  \n",
      "2           38      38      38      38      38      38      38      38  \n",
      "3           36      36      36      36      36      36      36      36  \n",
      "4           40      40      40      40      40      40      40      40  \n",
      "5           39      39      39      39      39      39      39      39  \n",
      "6           36      36      36      36      36      36      36      36  \n"
     ]
    }
   ],
   "source": [
    "print(df_imagery_2.groupby('Marker').nunique())"
   ]
  },
  {
   "cell_type": "code",
   "execution_count": 23,
   "id": "atlantic-pennsylvania",
   "metadata": {},
   "outputs": [],
   "source": [
    "### color  ####\n",
    "\n",
    "color = { 'green': ['4','5'], 'red':['1','3'] , 'blue':['2','6'] }\n",
    "\n",
    "### shape ####\n",
    "shape = { 'cone':['2','3','4'] ,'cube': ['1','5','6'] }\n",
    "\n",
    "\n",
    "## time ###"
   ]
  },
  {
   "cell_type": "code",
   "execution_count": 24,
   "id": "average-clarity",
   "metadata": {},
   "outputs": [
    {
     "data": {
      "text/plain": [
       "array(['0', '4', '3', '2', '1', '6', '5'], dtype=object)"
      ]
     },
     "execution_count": 24,
     "metadata": {},
     "output_type": "execute_result"
    }
   ],
   "source": [
    "df_visual_1['Marker'].unique()"
   ]
  },
  {
   "cell_type": "markdown",
   "id": "protecting-address",
   "metadata": {},
   "source": [
    "### 2.1.1 Visual 1 s and green "
   ]
  },
  {
   "cell_type": "code",
   "execution_count": 25,
   "id": "opening-secretary",
   "metadata": {},
   "outputs": [],
   "source": [
    "df_visual_1_green = df_visual_1.copy()"
   ]
  },
  {
   "cell_type": "code",
   "execution_count": 26,
   "id": "white-salon",
   "metadata": {},
   "outputs": [],
   "source": [
    "#use numpy as another view of the pandas columns for faster operation\n",
    "marker_visual_1_green = df_visual_1_green['Marker'].values\n",
    "marker_visual_1_green = marker_visual_1_green.astype(str)\n",
    "\n",
    "### collecting\n",
    "visual_1_green_idx = []"
   ]
  },
  {
   "cell_type": "code",
   "execution_count": null,
   "id": "central-simpson",
   "metadata": {},
   "outputs": [],
   "source": []
  },
  {
   "cell_type": "code",
   "execution_count": 27,
   "id": "voluntary-above",
   "metadata": {},
   "outputs": [
    {
     "name": "stderr",
     "output_type": "stream",
     "text": [
      "/root/.local/lib/python3.6/site-packages/ipykernel_launcher.py:8: SettingWithCopyWarning: \n",
      "A value is trying to be set on a copy of a slice from a DataFrame\n",
      "\n",
      "See the caveats in the documentation: https://pandas.pydata.org/pandas-docs/stable/user_guide/indexing.html#returning-a-view-versus-a-copy\n",
      "  \n"
     ]
    }
   ],
   "source": [
    "for idx, marker in enumerate(marker_visual_1_green):\n",
    "    if marker != '0':\n",
    "#         print(m[-1])\n",
    "        if color['green'][0] in marker or color['green'][1] in marker:\n",
    "             #marker_visual_1_green[idx] = m[2] # get classes\n",
    "             visual_1_green_idx.append(idx)\n",
    "        else:\n",
    "            df_visual_1_green['Marker'][idx] = '0'\n",
    "        \n",
    "            \n",
    "\n",
    "# print(df_visual_1['Marker'].unique())\n",
    "# print(np.unique(marker_np_visual_2))\n",
    "# df_visual_2['Marker']= marker_np_visual_2"
   ]
  },
  {
   "cell_type": "code",
   "execution_count": 28,
   "id": "cosmetic-democracy",
   "metadata": {},
   "outputs": [
    {
     "name": "stdout",
     "output_type": "stream",
     "text": [
      "71\n"
     ]
    }
   ],
   "source": [
    "print(len(visual_1_green_idx)) "
   ]
  },
  {
   "cell_type": "code",
   "execution_count": 29,
   "id": "tough-paragraph",
   "metadata": {},
   "outputs": [
    {
     "data": {
      "text/plain": [
       "array(['0', '4', '5'], dtype=object)"
      ]
     },
     "execution_count": 29,
     "metadata": {},
     "output_type": "execute_result"
    }
   ],
   "source": [
    "df_visual_1_green['Marker'].unique()"
   ]
  },
  {
   "cell_type": "code",
   "execution_count": 30,
   "id": "becoming-vertical",
   "metadata": {},
   "outputs": [],
   "source": [
    "#visual_1_green_idx"
   ]
  },
  {
   "cell_type": "code",
   "execution_count": 31,
   "id": "vietnamese-moment",
   "metadata": {},
   "outputs": [
    {
     "data": {
      "text/plain": [
       "array(['4', '5'], dtype=object)"
      ]
     },
     "execution_count": 31,
     "metadata": {},
     "output_type": "execute_result"
    }
   ],
   "source": [
    "df_visual_1['Marker'][visual_1_green_idx].unique()"
   ]
  },
  {
   "cell_type": "markdown",
   "id": "patent-durham",
   "metadata": {},
   "source": [
    "### 2.1.2 Visual 1 s and red "
   ]
  },
  {
   "cell_type": "code",
   "execution_count": 32,
   "id": "instant-break",
   "metadata": {},
   "outputs": [
    {
     "data": {
      "text/plain": [
       "array(['0', '4', '3', '2', '1', '6', '5'], dtype=object)"
      ]
     },
     "execution_count": 32,
     "metadata": {},
     "output_type": "execute_result"
    }
   ],
   "source": [
    "df_visual_1['Marker'].unique()"
   ]
  },
  {
   "cell_type": "code",
   "execution_count": 33,
   "id": "naughty-albuquerque",
   "metadata": {},
   "outputs": [],
   "source": [
    "df_visual_1_red = df_visual_1.copy()"
   ]
  },
  {
   "cell_type": "code",
   "execution_count": 34,
   "id": "manual-replication",
   "metadata": {},
   "outputs": [
    {
     "data": {
      "text/plain": [
       "array(['0', '4', '3', '2', '1', '6', '5'], dtype=object)"
      ]
     },
     "execution_count": 34,
     "metadata": {},
     "output_type": "execute_result"
    }
   ],
   "source": [
    "df_visual_1_red['Marker'].unique()"
   ]
  },
  {
   "cell_type": "code",
   "execution_count": 35,
   "id": "intermediate-reading",
   "metadata": {},
   "outputs": [],
   "source": [
    "#use numpy as another view of the pandas columns for faster operation\n",
    "marker_visual_1_red = df_visual_1_red['Marker'].values\n",
    "marker_visual_1_red = marker_visual_1_red.astype(str)\n",
    "\n",
    "### collecting\n",
    "visual_1_red_idx = [] "
   ]
  },
  {
   "cell_type": "code",
   "execution_count": 36,
   "id": "colored-gnome",
   "metadata": {},
   "outputs": [],
   "source": [
    "#df_imagery_2"
   ]
  },
  {
   "cell_type": "code",
   "execution_count": null,
   "id": "stupid-dominican",
   "metadata": {},
   "outputs": [],
   "source": []
  },
  {
   "cell_type": "code",
   "execution_count": 37,
   "id": "million-cooler",
   "metadata": {},
   "outputs": [
    {
     "name": "stderr",
     "output_type": "stream",
     "text": [
      "/root/.local/lib/python3.6/site-packages/ipykernel_launcher.py:8: SettingWithCopyWarning: \n",
      "A value is trying to be set on a copy of a slice from a DataFrame\n",
      "\n",
      "See the caveats in the documentation: https://pandas.pydata.org/pandas-docs/stable/user_guide/indexing.html#returning-a-view-versus-a-copy\n",
      "  \n"
     ]
    }
   ],
   "source": [
    "for idx, marker in enumerate(marker_visual_1_red):\n",
    "    if marker != '0':\n",
    "#         print(m[-1])\n",
    "        if color['red'][0] in marker or color['red'][1] in marker:\n",
    "             #marker_visual_1_green[idx] = m[2] # get classes\n",
    "             visual_1_red_idx.append(idx)\n",
    "        else:\n",
    "            df_visual_1_red['Marker'][idx] = '0'\n",
    "            \n",
    "# print(df_visual_1['Marker'].unique())\n",
    "# print(np.unique(marker_np_visual_2))\n",
    "# df_visual_2['Marker']= marker_np_visual_2"
   ]
  },
  {
   "cell_type": "code",
   "execution_count": 38,
   "id": "material-intervention",
   "metadata": {},
   "outputs": [
    {
     "name": "stdout",
     "output_type": "stream",
     "text": [
      "74\n"
     ]
    }
   ],
   "source": [
    "print(len(visual_1_red_idx)) "
   ]
  },
  {
   "cell_type": "code",
   "execution_count": 39,
   "id": "received-europe",
   "metadata": {},
   "outputs": [
    {
     "data": {
      "text/plain": [
       "array(['0', '3', '1'], dtype=object)"
      ]
     },
     "execution_count": 39,
     "metadata": {},
     "output_type": "execute_result"
    }
   ],
   "source": [
    "df_visual_1_red['Marker'].unique()"
   ]
  },
  {
   "cell_type": "code",
   "execution_count": 40,
   "id": "moving-chapter",
   "metadata": {},
   "outputs": [],
   "source": [
    "#visual_1_green_idx"
   ]
  },
  {
   "cell_type": "code",
   "execution_count": 41,
   "id": "cosmetic-retreat",
   "metadata": {},
   "outputs": [
    {
     "data": {
      "text/plain": [
       "array(['3', '1'], dtype=object)"
      ]
     },
     "execution_count": 41,
     "metadata": {},
     "output_type": "execute_result"
    }
   ],
   "source": [
    "df_visual_1['Marker'][visual_1_red_idx].unique()"
   ]
  },
  {
   "cell_type": "markdown",
   "id": "equipped-poetry",
   "metadata": {},
   "source": [
    "### 2.1.3 Visual 1 s and blue"
   ]
  },
  {
   "cell_type": "code",
   "execution_count": null,
   "id": "agreed-interview",
   "metadata": {},
   "outputs": [],
   "source": []
  },
  {
   "cell_type": "code",
   "execution_count": 42,
   "id": "creative-athletics",
   "metadata": {},
   "outputs": [],
   "source": [
    "df_visual_1_blue = df_visual_1.copy()"
   ]
  },
  {
   "cell_type": "code",
   "execution_count": 43,
   "id": "worst-vegetation",
   "metadata": {},
   "outputs": [
    {
     "data": {
      "text/plain": [
       "array(['0', '4', '3', '2', '1', '6', '5'], dtype=object)"
      ]
     },
     "execution_count": 43,
     "metadata": {},
     "output_type": "execute_result"
    }
   ],
   "source": [
    "df_visual_1_blue['Marker'].unique()"
   ]
  },
  {
   "cell_type": "code",
   "execution_count": 44,
   "id": "pressing-girlfriend",
   "metadata": {},
   "outputs": [],
   "source": [
    "#use numpy as another view of the pandas columns for faster operation\n",
    "marker_visual_1_blue = df_visual_1_blue['Marker'].values\n",
    "marker_visual_1_blue = marker_visual_1_blue.astype(str)\n",
    "\n",
    "### collecting\n",
    "visual_1_blue_idx = []"
   ]
  },
  {
   "cell_type": "code",
   "execution_count": null,
   "id": "strange-magnitude",
   "metadata": {},
   "outputs": [],
   "source": []
  },
  {
   "cell_type": "code",
   "execution_count": 45,
   "id": "operational-grove",
   "metadata": {},
   "outputs": [
    {
     "name": "stderr",
     "output_type": "stream",
     "text": [
      "/root/.local/lib/python3.6/site-packages/ipykernel_launcher.py:8: SettingWithCopyWarning: \n",
      "A value is trying to be set on a copy of a slice from a DataFrame\n",
      "\n",
      "See the caveats in the documentation: https://pandas.pydata.org/pandas-docs/stable/user_guide/indexing.html#returning-a-view-versus-a-copy\n",
      "  \n"
     ]
    }
   ],
   "source": [
    "for idx, marker in enumerate(marker_visual_1_blue):\n",
    "    if marker != '0':\n",
    "#         print(m[-1])\n",
    "        if color['blue'][0] in marker or color['blue'][1] in marker:\n",
    "             #marker_visual_1_green[idx] = m[2] # get classes\n",
    "             visual_1_blue_idx.append(idx)\n",
    "        else:\n",
    "            df_visual_1_blue['Marker'][idx] = '0'\n",
    "        \n",
    "            \n",
    "\n",
    "# print(df_visual_1['Marker'].unique())\n",
    "# print(np.unique(marker_np_visual_2))\n",
    "# df_visual_2['Marker']= marker_np_visual_2"
   ]
  },
  {
   "cell_type": "code",
   "execution_count": 46,
   "id": "owned-coating",
   "metadata": {},
   "outputs": [
    {
     "name": "stdout",
     "output_type": "stream",
     "text": [
      "76\n"
     ]
    }
   ],
   "source": [
    "print(len(visual_1_blue_idx)) "
   ]
  },
  {
   "cell_type": "code",
   "execution_count": 47,
   "id": "directed-petersburg",
   "metadata": {},
   "outputs": [
    {
     "data": {
      "text/plain": [
       "array(['0', '2', '6'], dtype=object)"
      ]
     },
     "execution_count": 47,
     "metadata": {},
     "output_type": "execute_result"
    }
   ],
   "source": [
    "df_visual_1_blue['Marker'].unique()"
   ]
  },
  {
   "cell_type": "code",
   "execution_count": 48,
   "id": "approved-switzerland",
   "metadata": {},
   "outputs": [],
   "source": [
    "#visual_1_green_idx"
   ]
  },
  {
   "cell_type": "code",
   "execution_count": 49,
   "id": "established-commander",
   "metadata": {},
   "outputs": [
    {
     "data": {
      "text/plain": [
       "array(['2', '6'], dtype=object)"
      ]
     },
     "execution_count": 49,
     "metadata": {},
     "output_type": "execute_result"
    }
   ],
   "source": [
    "df_visual_1['Marker'][visual_1_blue_idx].unique()"
   ]
  },
  {
   "cell_type": "markdown",
   "id": "ahead-sleeping",
   "metadata": {},
   "source": [
    "### 2.1.4 Visual 1 s and Cone"
   ]
  },
  {
   "cell_type": "code",
   "execution_count": null,
   "id": "hidden-vegetarian",
   "metadata": {},
   "outputs": [],
   "source": []
  },
  {
   "cell_type": "code",
   "execution_count": 50,
   "id": "sunset-tours",
   "metadata": {},
   "outputs": [],
   "source": [
    "df_visual_1_cone = df_visual_1.copy()"
   ]
  },
  {
   "cell_type": "code",
   "execution_count": 51,
   "id": "connected-douglas",
   "metadata": {},
   "outputs": [
    {
     "data": {
      "text/plain": [
       "array(['0', '4', '3', '2', '1', '6', '5'], dtype=object)"
      ]
     },
     "execution_count": 51,
     "metadata": {},
     "output_type": "execute_result"
    }
   ],
   "source": [
    "df_visual_1_cone['Marker'].unique()"
   ]
  },
  {
   "cell_type": "code",
   "execution_count": 52,
   "id": "absent-minimum",
   "metadata": {},
   "outputs": [],
   "source": [
    "#use numpy as another view of the pandas columns for faster operation\n",
    "marker_visual_1_cone = df_visual_1_cone['Marker'].values\n",
    "marker_visual_1_cone = marker_visual_1_cone.astype(str)\n",
    "\n",
    "### collecting\n",
    "visual_1_cone_idx = []"
   ]
  },
  {
   "cell_type": "code",
   "execution_count": null,
   "id": "adjusted-allowance",
   "metadata": {},
   "outputs": [],
   "source": []
  },
  {
   "cell_type": "code",
   "execution_count": 53,
   "id": "intimate-tucson",
   "metadata": {},
   "outputs": [
    {
     "name": "stderr",
     "output_type": "stream",
     "text": [
      "/root/.local/lib/python3.6/site-packages/ipykernel_launcher.py:9: SettingWithCopyWarning: \n",
      "A value is trying to be set on a copy of a slice from a DataFrame\n",
      "\n",
      "See the caveats in the documentation: https://pandas.pydata.org/pandas-docs/stable/user_guide/indexing.html#returning-a-view-versus-a-copy\n",
      "  if __name__ == '__main__':\n"
     ]
    }
   ],
   "source": [
    "for idx, marker in enumerate(marker_visual_1_cone):\n",
    "    if marker != '0':\n",
    "#         print(m[-1])\n",
    "        if shape['cone'][0] in marker or shape['cone'][1] in marker or shape['cone'][2] in marker:\n",
    "             #marker_visual_1_green[idx] = m[2] # get classes\n",
    "             visual_1_cone_idx.append(idx)\n",
    "        \n",
    "        else:\n",
    "            df_visual_1_cone['Marker'][idx] = '0'\n",
    "\n",
    "# print(df_visual_1['Marker'].unique())\n",
    "# print(np.unique(marker_np_visual_2))\n",
    "# df_visual_2['Marker']= marker_np_visual_2"
   ]
  },
  {
   "cell_type": "code",
   "execution_count": 54,
   "id": "pregnant-culture",
   "metadata": {},
   "outputs": [
    {
     "name": "stdout",
     "output_type": "stream",
     "text": [
      "111\n"
     ]
    }
   ],
   "source": [
    "print(len(visual_1_cone_idx)) "
   ]
  },
  {
   "cell_type": "code",
   "execution_count": 55,
   "id": "affiliated-olive",
   "metadata": {},
   "outputs": [],
   "source": [
    "#visual_1_green_idx"
   ]
  },
  {
   "cell_type": "code",
   "execution_count": 56,
   "id": "polar-python",
   "metadata": {},
   "outputs": [
    {
     "data": {
      "text/plain": [
       "array(['4', '3', '2'], dtype=object)"
      ]
     },
     "execution_count": 56,
     "metadata": {},
     "output_type": "execute_result"
    }
   ],
   "source": [
    "df_visual_1_cone['Marker'][visual_1_cone_idx].unique()"
   ]
  },
  {
   "cell_type": "code",
   "execution_count": 57,
   "id": "global-visibility",
   "metadata": {},
   "outputs": [
    {
     "data": {
      "text/plain": [
       "array(['0', '4', '3', '2'], dtype=object)"
      ]
     },
     "execution_count": 57,
     "metadata": {},
     "output_type": "execute_result"
    }
   ],
   "source": [
    "df_visual_1_cone['Marker'].unique()"
   ]
  },
  {
   "cell_type": "markdown",
   "id": "comprehensive-shannon",
   "metadata": {},
   "source": [
    "### 2.1.4 Visual 1 s and Cube"
   ]
  },
  {
   "cell_type": "code",
   "execution_count": null,
   "id": "spatial-reynolds",
   "metadata": {},
   "outputs": [],
   "source": []
  },
  {
   "cell_type": "code",
   "execution_count": null,
   "id": "complimentary-dispatch",
   "metadata": {},
   "outputs": [],
   "source": []
  },
  {
   "cell_type": "code",
   "execution_count": 58,
   "id": "uniform-interval",
   "metadata": {},
   "outputs": [],
   "source": [
    "df_visual_1_cube = df_visual_1.copy()"
   ]
  },
  {
   "cell_type": "code",
   "execution_count": 59,
   "id": "metallic-nevada",
   "metadata": {},
   "outputs": [],
   "source": [
    "#use numpy as another view of the pandas columns for faster operation\n",
    "marker_visual_1_cube = df_visual_1_cube['Marker'].values\n",
    "marker_visual_1_cube = marker_visual_1_cube.astype(str)\n",
    "\n",
    "### collecting\n",
    "visual_1_cube_idx = []"
   ]
  },
  {
   "cell_type": "code",
   "execution_count": 60,
   "id": "interested-simon",
   "metadata": {},
   "outputs": [
    {
     "data": {
      "text/plain": [
       "'4'"
      ]
     },
     "execution_count": 60,
     "metadata": {},
     "output_type": "execute_result"
    }
   ],
   "source": [
    "shape['cone'][2]"
   ]
  },
  {
   "cell_type": "code",
   "execution_count": 61,
   "id": "independent-geometry",
   "metadata": {},
   "outputs": [
    {
     "name": "stderr",
     "output_type": "stream",
     "text": [
      "/root/.local/lib/python3.6/site-packages/ipykernel_launcher.py:8: SettingWithCopyWarning: \n",
      "A value is trying to be set on a copy of a slice from a DataFrame\n",
      "\n",
      "See the caveats in the documentation: https://pandas.pydata.org/pandas-docs/stable/user_guide/indexing.html#returning-a-view-versus-a-copy\n",
      "  \n"
     ]
    }
   ],
   "source": [
    "for idx, marker in enumerate(marker_visual_1_cube):\n",
    "    if marker != '0':\n",
    "#         print(m[-1])\n",
    "        if shape['cube'][0] in marker or shape['cube'][1] in marker or shape['cube'][2] in marker:\n",
    "             #marker_visual_1_green[idx] = m[2] # get classes\n",
    "             visual_1_cube_idx.append(idx)\n",
    "        else:\n",
    "            df_visual_1_cube['Marker'][idx] = '0'\n",
    "        \n",
    "            \n",
    "\n",
    "# print(df_visual_1['Marker'].unique())\n",
    "# print(np.unique(marker_np_visual_2))\n",
    "# df_visual_2['Marker']= marker_np_visual_2"
   ]
  },
  {
   "cell_type": "code",
   "execution_count": 62,
   "id": "sweet-answer",
   "metadata": {},
   "outputs": [
    {
     "name": "stdout",
     "output_type": "stream",
     "text": [
      "110\n"
     ]
    }
   ],
   "source": [
    "print(len(visual_1_cube_idx)) "
   ]
  },
  {
   "cell_type": "code",
   "execution_count": 64,
   "id": "fewer-dance",
   "metadata": {},
   "outputs": [],
   "source": [
    "#visual_1_green_idx"
   ]
  },
  {
   "cell_type": "code",
   "execution_count": 65,
   "id": "amateur-relation",
   "metadata": {},
   "outputs": [
    {
     "data": {
      "text/plain": [
       "array(['1', '6', '5'], dtype=object)"
      ]
     },
     "execution_count": 65,
     "metadata": {},
     "output_type": "execute_result"
    }
   ],
   "source": [
    "df_visual_1['Marker'][visual_1_cube_idx].unique()"
   ]
  },
  {
   "cell_type": "code",
   "execution_count": 66,
   "id": "saved-fields",
   "metadata": {},
   "outputs": [
    {
     "data": {
      "text/plain": [
       "array(['0', '1', '6', '5'], dtype=object)"
      ]
     },
     "execution_count": 66,
     "metadata": {},
     "output_type": "execute_result"
    }
   ],
   "source": [
    "df_visual_1_cube['Marker'].unique()"
   ]
  },
  {
   "cell_type": "code",
   "execution_count": null,
   "id": "handed-darkness",
   "metadata": {},
   "outputs": [],
   "source": []
  },
  {
   "cell_type": "code",
   "execution_count": 72,
   "id": "aquatic-bruce",
   "metadata": {},
   "outputs": [
    {
     "data": {
      "text/plain": [
       "array(['0', '1', '5', '2', '6', '4', '3'], dtype=object)"
      ]
     },
     "execution_count": 72,
     "metadata": {},
     "output_type": "execute_result"
    }
   ],
   "source": [
    "df_visual_2['Marker'].unique()"
   ]
  },
  {
   "cell_type": "code",
   "execution_count": 71,
   "id": "conceptual-crash",
   "metadata": {},
   "outputs": [
    {
     "data": {
      "text/plain": [
       "(array(['0', '3', '1'], dtype=object),\n",
       " array(['0', '4', '5'], dtype=object),\n",
       " array(['0', '2', '6'], dtype=object))"
      ]
     },
     "execution_count": 71,
     "metadata": {},
     "output_type": "execute_result"
    }
   ],
   "source": [
    "df_visual_1_red['Marker'].unique()  , df_visual_1_green['Marker'].unique() , df_visual_1_blue['Marker'].unique()  "
   ]
  },
  {
   "cell_type": "code",
   "execution_count": 73,
   "id": "complimentary-consolidation",
   "metadata": {},
   "outputs": [
    {
     "data": {
      "text/plain": [
       "(array(['0', '1', '6', '5'], dtype=object),\n",
       " array(['0', '4', '3', '2'], dtype=object))"
      ]
     },
     "execution_count": 73,
     "metadata": {},
     "output_type": "execute_result"
    }
   ],
   "source": [
    "df_visual_1_cube['Marker'].unique() , df_visual_1_cone['Marker'].unique() "
   ]
  },
  {
   "cell_type": "markdown",
   "id": "afraid-engineer",
   "metadata": {},
   "source": [
    "### 3. Save Data"
   ]
  },
  {
   "cell_type": "code",
   "execution_count": 74,
   "id": "alert-commercial",
   "metadata": {},
   "outputs": [],
   "source": [
    "# df_visual_1_red.to_pickle(\"data/pd/{par}/{file}_visual_1_red.pkl\".format(par=par, file=file))\n",
    "# df_visual_1_green.to_pickle(\"data/pd/{par}/{file}_visual_1_green.pkl\".format(par=par, file=file))\n",
    "# df_visual_1_blue.to_pickle(\"data/pd/{par}/{file}_visual_1_blue.pkl\".format(par=par, file=file))\n",
    "# df_visual_1_cube.to_pickle(\"data/pd/{par}/{file}_visual_1_cube.pkl\".format(par=par, file=file))\n",
    "# df_visual_1_cone.to_pickle(\"data/pd/{par}/{file}_visual_1_cone.pkl\".format(par=par, file=file))"
   ]
  },
  {
   "cell_type": "code",
   "execution_count": null,
   "id": "meaningful-foster",
   "metadata": {},
   "outputs": [],
   "source": []
  },
  {
   "cell_type": "code",
   "execution_count": null,
   "id": "suspected-metallic",
   "metadata": {},
   "outputs": [],
   "source": [
    "#df_visual_1.to_pickle(\"data/pd/{par}/{file}_visual_1.pkl\".format(par=par, file=file))"
   ]
  },
  {
   "cell_type": "code",
   "execution_count": 67,
   "id": "computational-portfolio",
   "metadata": {},
   "outputs": [],
   "source": [
    "df_visual_1.to_pickle(\"data/pd/{par}/{file}_visual_1.pkl\".format(par=par, file=file))\n",
    "# df_imagery_1.to_pickle(\"data/pd/{par}/{file}_imagery_1.pkl\".format(par=par, file=file))\n",
    "# df_visual_2.to_pickle(\"data/pd/{par}/{file}_visual_2.pkl\".format(par=par, file=file))\n",
    "# df_imagery_2.to_pickle(\"data/pd/{par}/{file}_imagery_2.pkl\".format(par=par, file=file))"
   ]
  }
 ],
 "metadata": {
  "kernelspec": {
   "display_name": "Python 3",
   "language": "python",
   "name": "python3"
  },
  "language_info": {
   "codemirror_mode": {
    "name": "ipython",
    "version": 3
   },
   "file_extension": ".py",
   "mimetype": "text/x-python",
   "name": "python",
   "nbconvert_exporter": "python",
   "pygments_lexer": "ipython3",
   "version": "3.6.9"
  }
 },
 "nbformat": 4,
 "nbformat_minor": 5
}
