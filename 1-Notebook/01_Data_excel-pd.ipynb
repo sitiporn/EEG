{
 "cells": [
  {
   "cell_type": "markdown",
   "id": "experimental-summer",
   "metadata": {},
   "source": [
    "## 01 Data_Excel-pd"
   ]
  },
  {
   "cell_type": "code",
   "execution_count": 1,
   "id": "confirmed-chance",
   "metadata": {},
   "outputs": [],
   "source": [
    "import numpy as np\n",
    "import pandas as pd\n",
    "import matplotlib.pyplot as plt\n",
    "import random\n",
    "from IPython.display import clear_output"
   ]
  },
  {
   "cell_type": "markdown",
   "id": "average-today",
   "metadata": {},
   "source": [
    "### 1. Loading Data"
   ]
  },
  {
   "cell_type": "markdown",
   "id": "every-gardening",
   "metadata": {},
   "source": [
    "#### Load CSV"
   ]
  },
  {
   "cell_type": "code",
   "execution_count": 2,
   "id": "comfortable-mother",
   "metadata": {},
   "outputs": [],
   "source": [
    "par = \"par16\"\n",
    "file = \"par16_com4_data_2021-04-01-09.40.51\"\n",
    "path = \"../data/csv/round1/{file}.csv\".format(file = file)"
   ]
  },
  {
   "cell_type": "markdown",
   "id": "planned-congress",
   "metadata": {},
   "source": [
    "Load CSV and remove timestamps"
   ]
  },
  {
   "cell_type": "markdown",
   "id": "acute-stationery",
   "metadata": {},
   "source": [
    "#### 1.1 Visual 1s"
   ]
  },
  {
   "cell_type": "code",
   "execution_count": 3,
   "id": "spatial-neighborhood",
   "metadata": {},
   "outputs": [],
   "source": [
    "df_visual_1 = pd.read_csv(path)\n",
    "df_visual_1 = df_visual_1.drop([\"timestamps\"], axis=1)"
   ]
  },
  {
   "cell_type": "markdown",
   "id": "chubby-cincinnati",
   "metadata": {},
   "source": [
    "#### 1.2 Visual 2s"
   ]
  },
  {
   "cell_type": "code",
   "execution_count": 4,
   "id": "incident-muslim",
   "metadata": {},
   "outputs": [],
   "source": [
    "df_visual_2 = pd.read_csv(path)\n",
    "df_visual_2 = df_visual_2.drop([\"timestamps\"], axis=1)\n",
    "# df_visual_1.head()"
   ]
  },
  {
   "cell_type": "markdown",
   "id": "blocked-dominant",
   "metadata": {},
   "source": [
    "#### 1.3 Imagery 1s"
   ]
  },
  {
   "cell_type": "code",
   "execution_count": 5,
   "id": "continental-proof",
   "metadata": {},
   "outputs": [],
   "source": [
    "df_imagery_1 = pd.read_csv(path)\n",
    "df_imagery_1 = df_imagery_1.drop([\"timestamps\"], axis=1)\n",
    "# df_imagery.head()"
   ]
  },
  {
   "cell_type": "markdown",
   "id": "other-manhattan",
   "metadata": {},
   "source": [
    "#### 1.4 Imagery 2s"
   ]
  },
  {
   "cell_type": "code",
   "execution_count": 6,
   "id": "streaming-metabolism",
   "metadata": {},
   "outputs": [],
   "source": [
    "df_imagery_2 = pd.read_csv(path)\n",
    "df_imagery_2 = df_imagery_2.drop([\"timestamps\"], axis=1)\n",
    "# df_imagery.head()"
   ]
  },
  {
   "cell_type": "markdown",
   "id": "alternate-cancer",
   "metadata": {},
   "source": [
    "### 2. Checking Markers"
   ]
  },
  {
   "cell_type": "markdown",
   "id": "chubby-sample",
   "metadata": {},
   "source": [
    "Let's look at how the marker was generated.  Here is the format:\n",
    "\n",
    "- [block, trial, label, time] <br>\n",
    "label = 1,2,3,4,5,6,black <br>\n",
    "time = 1s,2s\n",
    "- [0] = warmup"
   ]
  },
  {
   "cell_type": "code",
   "execution_count": 7,
   "id": "partial-skiing",
   "metadata": {},
   "outputs": [
    {
     "name": "stdout",
     "output_type": "stream",
     "text": [
      "['0' 'Training' '1,trial break,Fixation' '1,0,2,1' '1,task break,Fixation'\n",
      " '1,0,imagery,1' '1,0,4,2' '1,0,imagery,2' '1,0,6,2' '1,0,1,1' '1,0,3,1'\n",
      " '1,0,5,1' '1,1,2,2' '1,1,imagery,2' '1,1,4,1' '1,1,imagery,1' '1,1,6,1'\n",
      " '1,1,1,1' '1,1,3,2' '1,1,5,1' '1,2,2,2' '1,2,imagery,2' '1,2,4,2'\n",
      " '1,2,6,1' '1,2,imagery,1' '1,2,1,1' '1,2,3,2' '1,2,5,2' '1,3,2,2'\n",
      " '1,3,imagery,2' '1,3,4,1' '1,3,imagery,1' '1,3,6,1' '1,3,1,2' '1,3,3,1'\n",
      " '1,3,5,2' '1,4,2,1' '1,4,imagery,1' '1,4,4,1' '1,4,6,2' '1,4,imagery,2'\n",
      " '1,4,1,1' '1,4,3,2' '1,4,5,2' '2,trial break,Fixation' '2,0,2,2'\n",
      " '2,task break,Fixation' '2,0,imagery,2' '2,0,4,1' '2,0,imagery,1'\n",
      " '2,0,6,1' '2,0,1,1' '2,0,3,1' '2,0,5,2' '2,1,2,1' '2,1,imagery,1'\n",
      " '2,1,4,2' '2,1,imagery,2' '2,1,6,2' '2,1,1,1' '2,1,3,1' '2,1,5,2'\n",
      " '2,2,2,1' '2,2,imagery,1' '2,2,4,2' '2,2,imagery,2' '2,2,6,2' '2,2,1,1'\n",
      " '2,2,3,2' '2,2,5,2' '2,3,2,1' '2,3,imagery,1' '2,3,4,2' '2,3,imagery,2'\n",
      " '2,3,6,1' '2,3,1,2' '2,3,3,2' '2,3,5,2' '2,4,2,1' '2,4,imagery,1'\n",
      " '2,4,4,2' '2,4,imagery,2' '2,4,6,2' '2,4,1,2' '2,4,3,2' '2,4,5,1'\n",
      " '3,trial break,Fixation' '3,0,2,2' '3,task break,Fixation'\n",
      " '3,0,imagery,2' '3,0,4,2' '3,0,6,1' '3,0,imagery,1' '3,0,1,2' '3,0,3,1'\n",
      " '3,0,5,2' '3,1,2,2' '3,1,imagery,2' '3,1,4,2' '3,1,6,2' '3,1,1,2'\n",
      " '3,1,3,2' '3,1,5,1' '3,1,imagery,1' '3,2,2,2' '3,2,imagery,2' '3,2,4,1'\n",
      " '3,2,imagery,1' '3,2,6,2' '3,2,1,1' '3,2,3,1' '3,2,5,1' '3,3,2,2'\n",
      " '3,3,imagery,2' '3,3,4,1' '3,3,imagery,1' '3,3,6,2' '3,3,1,2' '3,3,3,2'\n",
      " '3,3,5,2' '3,4,2,1' '3,4,imagery,1' '3,4,4,2' '3,4,imagery,2' '3,4,6,2'\n",
      " '3,4,1,1' '3,4,3,1' '3,4,5,1' '4,trial break,Fixation' '4,0,2,1'\n",
      " '4,task break,Fixation' '4,0,imagery,1' '4,0,4,1' '4,0,6,2'\n",
      " '4,0,imagery,2' '4,0,1,1' '4,0,3,1' '4,0,5,1' '4,1,2,2' '4,1,imagery,2'\n",
      " '4,1,4,1' '4,1,imagery,1' '4,1,6,1' '4,1,1,1' '4,1,3,2' '4,1,5,1'\n",
      " '4,2,2,2' '4,2,imagery,2' '4,2,4,1' '4,2,imagery,1' '4,2,6,1' '4,2,1,1'\n",
      " '4,2,3,1' '4,2,5,2' '4,3,2,1' '4,3,imagery,1' '4,3,4,1' '4,3,6,1'\n",
      " '4,3,1,1' '4,3,3,2' '4,3,imagery,2' '4,3,5,2' '4,4,2,2' '4,4,imagery,2'\n",
      " '4,4,4,2' '4,4,6,1' '4,4,imagery,1' '4,4,1,2' '4,4,3,2' '4,4,5,2'\n",
      " '5,trial break,Fixation' '5,0,2,2' '5,task break,Fixation'\n",
      " '5,0,imagery,2' '5,0,4,2' '5,0,6,2' '5,0,1,2' '5,0,3,2' '5,0,5,2'\n",
      " '5,1,2,2' '5,1,imagery,2' '5,1,4,1' '5,1,imagery,1' '5,1,6,2' '5,1,1,2'\n",
      " '5,1,3,2' '5,1,5,1' '5,2,2,2' '5,2,imagery,2' '5,2,4,1' '5,2,imagery,1'\n",
      " '5,2,6,2' '5,2,1,2' '5,2,3,1' '5,2,5,1' '5,3,2,1' '5,3,imagery,1'\n",
      " '5,3,4,1' '5,3,6,2' '5,3,imagery,2' '5,3,1,1' '5,3,3,2' '5,3,5,2'\n",
      " '5,4,2,1' '5,4,imagery,1' '5,4,4,1' '5,4,6,2' '5,4,imagery,2' '5,4,1,1'\n",
      " '5,4,3,1' '5,4,5,2' '6,trial break,Fixation' '6,0,2,1'\n",
      " '6,task break,Fixation' '6,0,imagery,1' '6,0,4,2' '6,0,imagery,2'\n",
      " '6,0,6,2' '6,0,1,1' '6,0,3,1' '6,0,5,2' '6,1,2,1' '6,1,imagery,1'\n",
      " '6,1,4,2' '6,1,imagery,2' '6,1,6,2' '6,1,1,1' '6,1,3,1' '6,1,5,2'\n",
      " '6,2,2,1' '6,2,imagery,1' '6,2,4,2' '6,2,imagery,2' '6,2,6,2' '6,2,1,1'\n",
      " '6,2,3,2' '6,2,5,1' '6,3,2,2' '6,3,imagery,2' '6,3,4,1' '6,3,imagery,1'\n",
      " '6,3,6,2' '6,3,1,1' '6,3,3,1' '6,3,5,2' '6,4,2,1' '6,4,imagery,1'\n",
      " '6,4,4,2' '6,4,imagery,2' '6,4,6,2' '6,4,1,1' '6,4,3,2' '6,4,5,2'\n",
      " '7,trial break,Fixation' '7,0,2,2' '7,task break,Fixation'\n",
      " '7,0,imagery,2' '7,0,4,2' '7,0,6,2' '7,0,1,1' '7,0,imagery,1' '7,0,3,1'\n",
      " '7,0,5,1' '7,1,2,1' '7,1,imagery,1' '7,1,4,1' '7,1,6,2' '7,1,imagery,2'\n",
      " '7,1,1,2' '7,1,3,1' '7,1,5,2' '7,2,2,1' '7,2,imagery,1' '7,2,4,1'\n",
      " '7,2,6,2' '7,2,imagery,2' '7,2,1,2' '7,2,3,2' '7,2,5,2' '7,3,2,2'\n",
      " '7,3,imagery,2' '7,3,4,2' '7,3,6,2' '7,3,1,2' '7,3,3,2' '7,3,5,2'\n",
      " '7,4,2,2' '7,4,imagery,2' '7,4,4,1' '7,4,imagery,1' '7,4,6,2' '7,4,1,1'\n",
      " '7,4,3,2' '7,4,5,1' '8,trial break,Fixation' '8,0,2,1'\n",
      " '8,task break,Fixation' '8,0,imagery,1' '8,0,4,1' '8,0,6,2'\n",
      " '8,0,imagery,2' '8,0,1,2' '8,0,3,1' '8,0,5,2' '8,1,2,2' '8,1,imagery,2'\n",
      " '8,1,4,2' '8,1,6,2' '8,1,1,1' '8,1,imagery,1' '8,1,3,2' '8,1,5,1'\n",
      " '8,2,2,1' '8,2,imagery,1' '8,2,4,2' '8,2,imagery,2' '8,2,6,1' '8,2,1,2'\n",
      " '8,2,3,2' '8,2,5,1' '8,3,2,1' '8,3,imagery,1' '8,3,4,2' '8,3,imagery,2'\n",
      " '8,3,6,2' '8,3,1,1' '8,3,3,1' '8,3,5,1' '8,4,2,1' '8,4,imagery,1'\n",
      " '8,4,4,2' '8,4,imagery,2' '8,4,6,2' '8,4,1,1' '8,4,3,1' '8,4,5,1'\n",
      " '9,trial break,Fixation' '9,0,2,1' '9,task break,Fixation'\n",
      " '9,0,imagery,1' '9,0,4,2' '9,0,imagery,2' '9,0,6,2' '9,0,1,1' '9,0,3,1'\n",
      " '9,0,5,2' '9,1,2,1' '9,1,imagery,1' '9,1,4,1' '9,1,6,2' '9,1,imagery,2'\n",
      " '9,1,1,1' '9,1,3,2' '9,1,5,2' '9,2,2,1' '9,2,imagery,1' '9,2,4,1'\n",
      " '9,2,6,2' '9,2,imagery,2' '9,2,1,2' '9,2,3,1' '9,2,5,2' '9,3,2,1'\n",
      " '9,3,imagery,1' '9,3,4,1' '9,3,6,2' '9,3,imagery,2' '9,3,1,1' '9,3,3,2'\n",
      " '9,3,5,2' '9,4,2,2' '9,4,imagery,2' '9,4,4,1' '9,4,imagery,1' '9,4,6,1'\n",
      " '9,4,1,2' '9,4,3,1' '9,4,5,1' '10,trial break,Fixation' '10,0,2,1'\n",
      " '10,task break,Fixation' '10,0,imagery,1' '10,0,4,1' '10,0,6,1'\n",
      " '10,0,1,1' '10,0,3,1' '10,0,5,2' '10,0,imagery,2' '10,1,2,1'\n",
      " '10,1,imagery,1' '10,1,4,2' '10,1,imagery,2' '10,1,6,1' '10,1,1,1'\n",
      " '10,1,3,1' '10,1,5,2' '10,2,2,2' '10,2,imagery,2' '10,2,4,1'\n",
      " '10,2,imagery,1' '10,2,6,2' '10,2,1,2' '10,2,3,1' '10,2,5,2' '10,3,2,2'\n",
      " '10,3,imagery,2' '10,3,4,1' '10,3,imagery,1' '10,3,6,2' '10,3,1,2'\n",
      " '10,3,3,2' '10,3,5,2' '10,4,2,1' '10,4,imagery,1' '10,4,4,1' '10,4,6,1'\n",
      " '10,4,1,1' '10,4,3,1' '10,4,5,2' '10,4,imagery,2'\n",
      " '11,trial break,Fixation' '11,0,2,2' '11,task break,Fixation'\n",
      " '11,0,imagery,2' '11,0,4,2' '11,0,6,1' '11,0,imagery,1' '11,0,1,1'\n",
      " '11,0,3,2' '11,0,5,1' '11,1,2,1' '11,1,imagery,1' '11,1,4,2'\n",
      " '11,1,imagery,2' '11,1,6,1' '11,1,1,2' '11,1,3,1' '11,1,5,2' '11,2,2,1'\n",
      " '11,2,imagery,1' '11,2,4,2' '11,2,imagery,2' '11,2,6,1' '11,2,1,2'\n",
      " '11,2,3,1' '11,2,5,1' '11,3,2,1' '11,3,imagery,1' '11,3,4,2'\n",
      " '11,3,imagery,2' '11,3,6,2' '11,3,1,2' '11,3,3,1' '11,3,5,1' '11,4,2,1'\n",
      " '11,4,imagery,1' '11,4,4,2' '11,4,imagery,2' '11,4,6,2' '11,4,1,2'\n",
      " '11,4,3,1' '11,4,5,2' '12,trial break,Fixation' '12,0,2,1'\n",
      " '12,task break,Fixation' '12,0,imagery,1' '12,0,4,1' '12,0,6,1'\n",
      " '12,0,1,2' '12,0,imagery,2' '12,0,3,2' '12,0,5,1' '12,1,2,1'\n",
      " '12,1,imagery,1' '12,1,4,2' '12,1,imagery,2' '12,1,6,2' '12,1,1,2'\n",
      " '12,1,3,1' '12,1,5,2' '12,2,2,2' '12,2,imagery,2' '12,2,4,1'\n",
      " '12,2,imagery,1' '12,2,6,2' '12,2,1,2' '12,2,3,1' '12,2,5,1' '12,3,2,2'\n",
      " '12,3,imagery,2' '12,3,4,1' '12,3,imagery,1' '12,3,6,2' '12,3,1,1'\n",
      " '12,3,3,1' '12,3,5,1' '12,4,2,1' '12,4,imagery,1' '12,4,4,2'\n",
      " '12,4,imagery,2' '12,4,6,2' '12,4,1,2' '12,4,3,1' '12,4,5,2'\n",
      " '13,trial break,Fixation' '13,0,2,2' '13,task break,Fixation'\n",
      " '13,0,imagery,2' '13,0,4,1' '13,0,imagery,1' '13,0,6,1' '13,0,1,2'\n",
      " '13,0,3,2' '13,0,5,1' '13,1,2,1' '13,1,imagery,1' '13,1,4,1' '13,1,6,1'\n",
      " '13,1,1,1' '13,1,3,2' '13,1,imagery,2' '13,1,5,1' '13,2,2,1'\n",
      " '13,2,imagery,1' '13,2,4,1' '13,2,6,1' '13,2,1,1' '13,2,3,2'\n",
      " '13,2,imagery,2' '13,2,5,2' '13,3,2,1' '13,3,imagery,1' '13,3,4,2'\n",
      " '13,3,imagery,2' '13,3,6,2' '13,3,1,2' '13,3,3,2' '13,3,5,1' '13,4,2,2'\n",
      " '13,4,imagery,2' '13,4,4,1' '13,4,imagery,1' '13,4,6,2' '13,4,1,2'\n",
      " '13,4,3,2' '13,4,5,2' '14,trial break,Fixation' '14,0,2,2'\n",
      " '14,task break,Fixation' '14,0,imagery,2' '14,0,4,2' '14,0,6,2'\n",
      " '14,0,1,2' '14,0,3,2' '14,0,5,1' '14,0,imagery,1' '14,1,2,1'\n",
      " '14,1,imagery,1' '14,1,4,2' '14,1,imagery,2' '14,1,6,1' '14,1,1,2'\n",
      " '14,1,3,2' '14,1,5,1' '14,2,2,2' '14,2,imagery,2' '14,2,4,1'\n",
      " '14,2,imagery,1' '14,2,6,2' '14,2,1,1' '14,2,3,1' '14,2,5,2' '14,3,2,1'\n",
      " '14,3,imagery,1' '14,3,4,1' '14,3,6,1' '14,3,1,1' '14,3,3,2'\n",
      " '14,3,imagery,2' '14,3,5,1' '14,4,2,1' '14,4,imagery,1' '14,4,4,1'\n",
      " '14,4,6,2' '14,4,imagery,2' '14,4,1,1' '14,4,3,1' '14,4,5,2'\n",
      " '15,trial break,Fixation' '15,0,2,2' '15,task break,Fixation'\n",
      " '15,0,imagery,2' '15,0,4,1' '15,0,imagery,1' '15,0,6,1' '15,0,1,2'\n",
      " '15,0,3,1' '15,0,5,2' '15,1,2,2' '15,1,imagery,2' '15,1,4,1'\n",
      " '15,1,imagery,1' '15,1,6,2' '15,1,1,2' '15,1,3,2' '15,1,5,2' '15,2,2,1'\n",
      " '15,2,imagery,1' '15,2,4,1' '15,2,6,1' '15,2,1,2' '15,2,imagery,2'\n",
      " '15,2,3,1' '15,2,5,1' '15,3,2,2' '15,3,imagery,2' '15,3,4,2' '15,3,6,1'\n",
      " '15,3,imagery,1' '15,3,1,2' '15,3,3,2' '15,3,5,2' '15,4,2,1'\n",
      " '15,4,imagery,1' '15,4,4,1' '15,4,6,2' '15,4,imagery,2' '15,4,1,1'\n",
      " '15,4,3,2' '15,4,5,2']\n"
     ]
    }
   ],
   "source": [
    "print(df_visual_1['Marker'].unique())"
   ]
  },
  {
   "cell_type": "markdown",
   "id": "central-professor",
   "metadata": {},
   "source": [
    "Since we set our marker to have 4 info: #block, #trial, label, time.  We gonna split and get the class for the markers.   **Note that we shall reserve 0 for no event for raw mne, thus we shall represent class 0-9 using label 1-10.**"
   ]
  },
  {
   "cell_type": "markdown",
   "id": "alert-cambridge",
   "metadata": {},
   "source": [
    "#### 2.1 Visual 1 s"
   ]
  },
  {
   "cell_type": "code",
   "execution_count": 8,
   "id": "realistic-nightmare",
   "metadata": {},
   "outputs": [
    {
     "name": "stdout",
     "output_type": "stream",
     "text": [
      "['0' '1' '2' '3' '4' '5' '6']\n"
     ]
    }
   ],
   "source": [
    "#use numpy as another view of the pandas columns for faster operation\n",
    "marker_np_visual_1 = df_visual_1['Marker'].values\n",
    "marker_np_visual_1 = marker_np_visual_1.astype(str)\n",
    "\n",
    "### collecting indices of visual 1 s\n",
    "visual_1_idx = []\n",
    "\n",
    "for idx, marker in enumerate(marker_np_visual_1):\n",
    "    if marker != '0':\n",
    "        m = marker.split(\",\")\n",
    "        if \"Fixation\" in marker:\n",
    "            marker_np_visual_1[idx] = 0\n",
    "        elif \"trial break\" in marker:\n",
    "            marker_np_visual_1[idx] = 0\n",
    "        elif \"task break\" in marker:\n",
    "            marker_np_visual_1[idx] = 0\n",
    "        elif \"imagery\" in marker: # remove black --> visual\n",
    "            marker_np_visual_1[idx] = 0\n",
    "        elif marker[-1] == '2':   # remove time = 2s --> 1s \n",
    "#             print('im HEREEEEEEEEEEEEEEEEEEEEE')\n",
    "            marker_np_visual_1[idx] = 0\n",
    "        elif \",\" in marker:\n",
    "            marker_np_visual_1[idx] = m[2] # get classes\n",
    "            visual_1_idx.append(idx)\n",
    "        else:\n",
    "            marker_np_visual_1[idx] = 0\n",
    "\n",
    "# print(df_visual_1['Marker'].unique())\n",
    "print(np.unique(marker_np_visual_1))\n",
    "df_visual_1['Marker']= marker_np_visual_1"
   ]
  },
  {
   "cell_type": "code",
   "execution_count": 9,
   "id": "extra-vienna",
   "metadata": {},
   "outputs": [
    {
     "name": "stdout",
     "output_type": "stream",
     "text": [
      "            F3      F8      F7      F4      P3      P4      T4      T3  \\\n",
      "Marker                                                                   \n",
      "0       269933  235772  234907  277379  258376  263366  261066  256698   \n",
      "1           39      39      39      39      39      39      39      39   \n",
      "2           43      43      43      43      43      43      43      43   \n",
      "3           38      38      38      38      38      38      38      38   \n",
      "4           41      41      41      41      41      41      41      41   \n",
      "5           31      31      31      31      31      31      31      31   \n",
      "6           27      27      27      27      27      27      27      27   \n",
      "\n",
      "           FP2     FP1      C4      C3      T6      T5      O1      O2  \n",
      "Marker                                                                  \n",
      "0       242262  243737  245081  232214  239539  279198  233597  252393  \n",
      "1           39      39      39      39      39      39      39      39  \n",
      "2           43      43      43      43      43      43      43      43  \n",
      "3           38      38      38      38      38      38      38      38  \n",
      "4           41      41      41      41      41      41      41      41  \n",
      "5           31      31      31      31      31      31      31      31  \n",
      "6           27      27      27      27      27      27      27      27  \n"
     ]
    }
   ],
   "source": [
    "print(df_visual_1.groupby('Marker').nunique())"
   ]
  },
  {
   "cell_type": "code",
   "execution_count": 10,
   "id": "registered-paper",
   "metadata": {},
   "outputs": [
    {
     "name": "stdout",
     "output_type": "stream",
     "text": [
      "the number of stim in total:  219\n",
      "[7350, 9767, 10414, 11039, 12562, 13206, 13840, 15349, 17768, 18404, 21706, 22336, 23841, 25393, 26054, 27574, 31759, 32408, 33058, 33716, 35277, 37694, 38335, 39863, 42274, 44700, 46262, 49561, 53752, 57831, 59366, 65289, 66818, 68371, 69009, 69648, 71182, 75438, 77838, 78467, 79112, 81146, 81792, 83335, 83954, 84616, 86120, 86756, 87379, 88893, 90387, 91039, 91674, 92293, 93818, 94466, 95119, 95764, 99962, 111486, 114834, 116356, 118802, 119438, 120090, 120726, 122273, 124708, 125342, 126874, 127521, 131016, 133393, 134027, 135579, 138010, 138638, 140179, 142618, 144137, 145645, 147207, 147863, 149394, 151834, 157958, 158576, 159209, 159868, 160503, 162935, 164452, 165076, 175563, 177117, 178692, 180577, 181237, 183676, 187916, 189453, 190119, 191641, 194050, 194696, 197113, 197774, 198411, 199074, 201453, 202073, 202725, 204922, 207376, 208016, 209522, 210185, 211707, 214123, 214764, 217137, 218668, 219309, 220812, 224110, 224770, 226328, 226972, 229095, 229751, 230388, 231045, 231708, 233239, 234765, 235401, 236056, 238474, 240911, 243331, 247582, 248220, 248877, 249521, 250136, 254586, 255219, 256774, 257413, 258963, 260480, 262001, 263494, 265018, 265676, 266311, 269641, 270263, 270902, 274181, 277346, 277982, 278631, 281019, 281650, 284994, 287409, 289860, 290509, 292014, 293577, 294221, 294878, 295522, 298849, 301857, 302510, 304921, 305584, 306213, 306831, 307450, 308986, 309639, 310257, 310882, 311539, 313991, 318176, 319723, 329946, 330576, 332125, 334558, 336094, 337656, 338276, 339816, 340447, 341065, 341724, 343239, 343898, 344541, 346049, 346700, 350170, 350813, 352307, 354708, 358935, 359572, 360211, 361723, 362352, 364780, 368138, 368782, 370285]\n"
     ]
    }
   ],
   "source": [
    "print('the number of stim in total: ',len(visual_1_idx))\n",
    "print(visual_1_idx)"
   ]
  },
  {
   "cell_type": "markdown",
   "id": "focal-reason",
   "metadata": {},
   "source": [
    "#### 2.2 Imagery 1 s"
   ]
  },
  {
   "cell_type": "code",
   "execution_count": 11,
   "id": "australian-trial",
   "metadata": {},
   "outputs": [],
   "source": [
    "marker_np_imagery_1 = df_imagery_1['Marker'].values\n",
    "marker_np_imagery_1 = marker_np_imagery_1.astype(str)\n",
    "\n",
    "### collecting indices of imagery 1 s (the values of these indices will need to be replaced by the values of visual indices)\n",
    "imagery_1_idx = [] # rows we need\n",
    "\n",
    "for idx, marker in enumerate(marker_np_imagery_1):\n",
    "    if marker != '0':\n",
    "        m = marker.split(\",\")\n",
    "        if \"imagery\" in marker and marker[-1] == '1' : # get black and 1s\n",
    "            imagery_1_idx.append(idx)"
   ]
  },
  {
   "cell_type": "code",
   "execution_count": 12,
   "id": "criminal-plenty",
   "metadata": {},
   "outputs": [
    {
     "name": "stdout",
     "output_type": "stream",
     "text": [
      "the number of stim in total:  219\n",
      "[7604, 10028, 10653, 11307, 12820, 13456, 14092, 15609, 18019, 18638, 21950, 22582, 24098, 25667, 26300, 27828, 32022, 32675, 33328, 33982, 35543, 37950, 38594, 40133, 42511, 44961, 46518, 49802, 54004, 58098, 59638, 65531, 67076, 68623, 69261, 69923, 71448, 75674, 78082, 78725, 79356, 81406, 82049, 83569, 84227, 84855, 86370, 86992, 87636, 89126, 90656, 91287, 91906, 92558, 94081, 94734, 95376, 96023, 100199, 111758, 115076, 116623, 119054, 119706, 120341, 120971, 122529, 124957, 125592, 127136, 127772, 131248, 133641, 134293, 135848, 138249, 138902, 140446, 142853, 144392, 145910, 147476, 148120, 149655, 152072, 158190, 158823, 159479, 160116, 160751, 163166, 164691, 165327, 175828, 177393, 178948, 180854, 181513, 183949, 188170, 189731, 190380, 191892, 194309, 194949, 197389, 198024, 198689, 199326, 201689, 202339, 202997, 205191, 207630, 208260, 209798, 210454, 211953, 214376, 214996, 217371, 218923, 219559, 221056, 224384, 225048, 226588, 227205, 229365, 230002, 230659, 231322, 231951, 233503, 235013, 235672, 236329, 238710, 241161, 243582, 247834, 248492, 249136, 249753, 250406, 254832, 255495, 257026, 257679, 259214, 260744, 262237, 263750, 265290, 265927, 266567, 269876, 270516, 271174, 274418, 277596, 278245, 278862, 281265, 281925, 285254, 287675, 290123, 290759, 292282, 293835, 294493, 295137, 295772, 299102, 302122, 302781, 305198, 305828, 306445, 307064, 307698, 309256, 309873, 310497, 311153, 311810, 314236, 318437, 319974, 330192, 330835, 332390, 334799, 336371, 337890, 338526, 340060, 340679, 341338, 341968, 343510, 344156, 344786, 346314, 346968, 350427, 351049, 352553, 354969, 359186, 359825, 360444, 361967, 362612, 365049, 368394, 369024, 370546]\n"
     ]
    }
   ],
   "source": [
    "print('the number of stim in total: ',len(imagery_1_idx))\n",
    "print(imagery_1_idx)"
   ]
  },
  {
   "cell_type": "markdown",
   "id": "based-pavilion",
   "metadata": {},
   "source": [
    "### For example\n",
    "df_imagery_1['Marker'][14141] = df_visual_1['Marker'].iloc[13886]"
   ]
  },
  {
   "cell_type": "code",
   "execution_count": 13,
   "id": "spectacular-chamber",
   "metadata": {},
   "outputs": [
    {
     "name": "stderr",
     "output_type": "stream",
     "text": [
      "/usr/local/lib/python3.6/dist-packages/pandas/core/indexing.py:670: SettingWithCopyWarning: \n",
      "A value is trying to be set on a copy of a slice from a DataFrame\n",
      "\n",
      "See the caveats in the documentation: https://pandas.pydata.org/pandas-docs/stable/user_guide/indexing.html#returning-a-view-versus-a-copy\n",
      "  iloc._setitem_with_indexer(indexer, value)\n"
     ]
    }
   ],
   "source": [
    "df_imagery_1['Marker'] = 0\n",
    "for i in range(len(imagery_1_idx)):\n",
    "    df_imagery_1['Marker'].iloc[imagery_1_idx[i]] = df_visual_1['Marker'].iloc[visual_1_idx[i]]"
   ]
  },
  {
   "cell_type": "code",
   "execution_count": 14,
   "id": "opposed-aging",
   "metadata": {},
   "outputs": [
    {
     "name": "stdout",
     "output_type": "stream",
     "text": [
      "            F3      F8      F7      F4      P3      P4      T4      T3  \\\n",
      "Marker                                                                   \n",
      "0       269948  235762  234915  277374  258370  263385  261066  256702   \n",
      "1           39      39      39      39      39      39      39      39   \n",
      "2           43      43      43      43      43      43      43      43   \n",
      "3           38      38      38      38      38      38      38      38   \n",
      "4           41      41      41      41      41      41      41      41   \n",
      "5           31      31      31      31      31      31      31      31   \n",
      "6           27      27      27      27      27      27      27      27   \n",
      "\n",
      "           FP2     FP1      C4      C3      T6      T5      O1      O2  \n",
      "Marker                                                                  \n",
      "0       242248  243751  245086  232210  239528  279203  233591  252382  \n",
      "1           39      39      39      39      39      39      39      39  \n",
      "2           43      43      43      43      43      43      43      43  \n",
      "3           38      38      38      38      38      38      38      38  \n",
      "4           41      41      41      41      41      41      41      41  \n",
      "5           31      31      31      31      31      31      31      31  \n",
      "6           27      27      27      27      27      27      27      27  \n"
     ]
    }
   ],
   "source": [
    "print(df_imagery_1.groupby('Marker').nunique())"
   ]
  },
  {
   "cell_type": "markdown",
   "id": "parallel-facing",
   "metadata": {},
   "source": [
    "#### 2.3 Visual 2 s"
   ]
  },
  {
   "cell_type": "code",
   "execution_count": 15,
   "id": "split-outside",
   "metadata": {},
   "outputs": [
    {
     "name": "stdout",
     "output_type": "stream",
     "text": [
      "['0' '1' '2' '3' '4' '5' '6']\n"
     ]
    }
   ],
   "source": [
    "#use numpy as another view of the pandas columns for faster operation\n",
    "marker_np_visual_2 = df_visual_2['Marker'].values\n",
    "marker_np_visual_2 = marker_np_visual_2.astype(str)\n",
    "\n",
    "### collecting indices of visual 2 s\n",
    "visual_2_idx = []\n",
    "\n",
    "for idx, marker in enumerate(marker_np_visual_2):\n",
    "    if marker != '0':\n",
    "        m = marker.split(\",\")\n",
    "#         print(m[-1])\n",
    "        if \"Fixation\" in marker:\n",
    "            marker_np_visual_2[idx] = 0\n",
    "        elif \"trial break\" in marker:\n",
    "            marker_np_visual_2[idx] = 0\n",
    "        elif \"task break\" in marker:\n",
    "            marker_np_visual_2[idx] = 0\n",
    "        elif \"imagery\" in marker: # remove black --> visual\n",
    "            marker_np_visual_2[idx] = 0\n",
    "        elif marker[-1] == '1':   # remove time = 1s --> 2s \n",
    "#             print('im HEREEEEEEEEEEEEEEEEEEEEE')\n",
    "            marker_np_visual_2[idx] = 0\n",
    "        elif \",\" in marker:\n",
    "            marker_np_visual_2[idx] = m[2] # get classes\n",
    "            visual_2_idx.append(idx)\n",
    "        else:\n",
    "            marker_np_visual_2[idx] = 0\n",
    "\n",
    "# print(df_visual_1['Marker'].unique())\n",
    "print(np.unique(marker_np_visual_2))\n",
    "df_visual_2['Marker']= marker_np_visual_2"
   ]
  },
  {
   "cell_type": "code",
   "execution_count": 16,
   "id": "interstate-labor",
   "metadata": {},
   "outputs": [
    {
     "name": "stdout",
     "output_type": "stream",
     "text": [
      "the number of stim in total:  231\n",
      "[7987, 8892, 11693, 14478, 15994, 16887, 19022, 19936, 20833, 22967, 24483, 26688, 28212, 29079, 30882, 34368, 35926, 36799, 38979, 40519, 41411, 42897, 43791, 45346, 46904, 47778, 48649, 50190, 51098, 51968, 52873, 56042, 56926, 58486, 60022, 60894, 61764, 62640, 63536, 64409, 65916, 67459, 70307, 71833, 72717, 73611, 74521, 76061, 76955, 82436, 85243, 88021, 89512, 92944, 96408, 97286, 98194, 99074, 100585, 101469, 102372, 105230, 106131, 107015, 107921, 108790, 109690, 110599, 112145, 113044, 113959, 115461, 117005, 117916, 121359, 122914, 123810, 125978, 128155, 131631, 132515, 134680, 136232, 137123, 139286, 140832, 141722, 143237, 144778, 146296, 148508, 150041, 150934, 152458, 153355, 155288, 156190, 157090, 161137, 162023, 163554, 165711, 166625, 167525, 168440, 169314, 170211, 171122, 171990, 172884, 173791, 174690, 176216, 177777, 181899, 182789, 184336, 185245, 186122, 187021, 188553, 190766, 192279, 193173, 195335, 196204, 199712, 200581, 205579, 206487, 208644, 210840, 212339, 213247, 215383, 216249, 217756, 219944, 221441, 222337, 223237, 225433, 232337, 233888, 236712, 237604, 239096, 239995, 241549, 242423, 243971, 244860, 245771, 246684, 250793, 252804, 253699, 255881, 258064, 259599, 261128, 262622, 264134, 266955, 267829, 268729, 271562, 272436, 273303, 274803, 279249, 280139, 282311, 283206, 284089, 285637, 286524, 288061, 288945, 291145, 292667, 296157, 297058, 297968, 299488, 300984, 303165, 304032, 308084, 312196, 313077, 314624, 315529, 316421, 317305, 318827, 320370, 321257, 322132, 323041, 325486, 326387, 327292, 328206, 329075, 331221, 332773, 333652, 335184, 336759, 338911, 342352, 345170, 347352, 349267, 351435, 352940, 353827, 355355, 356230, 357134, 358042, 360830, 362997, 363911, 365435, 366335, 367241, 369409, 370929, 371805]\n"
     ]
    }
   ],
   "source": [
    "print('the number of stim in total: ',len(visual_2_idx))\n",
    "print(visual_2_idx)"
   ]
  },
  {
   "cell_type": "code",
   "execution_count": 17,
   "id": "guilty-stable",
   "metadata": {},
   "outputs": [
    {
     "name": "stdout",
     "output_type": "stream",
     "text": [
      "            F3      F8      F7      F4      P3      P4      T4      T3  \\\n",
      "Marker                                                                   \n",
      "0       269934  235771  234902  277360  258369  263359  261060  256680   \n",
      "1           36      36      36      36      36      36      36      36   \n",
      "2           32      32      32      32      32      32      32      32   \n",
      "3           37      37      37      37      37      37      37      37   \n",
      "4           34      34      34      34      34      34      34      34   \n",
      "5           44      44      44      44      44      44      44      44   \n",
      "6           48      48      48      48      48      48      48      48   \n",
      "\n",
      "           FP2     FP1      C4      C3      T6      T5      O1      O2  \n",
      "Marker                                                                  \n",
      "0       242241  243728  245084  232205  239526  279190  233591  252361  \n",
      "1           36      36      36      36      36      36      36      36  \n",
      "2           32      32      32      32      32      32      32      32  \n",
      "3           37      37      37      37      37      37      37      37  \n",
      "4           34      34      34      34      34      34      34      34  \n",
      "5           44      44      44      44      44      44      44      44  \n",
      "6           48      48      48      48      48      48      48      48  \n"
     ]
    }
   ],
   "source": [
    "print(df_visual_2.groupby('Marker').nunique())"
   ]
  },
  {
   "cell_type": "markdown",
   "id": "meaning-spectacular",
   "metadata": {},
   "source": [
    "#### 2.4 Imagery 2 s"
   ]
  },
  {
   "cell_type": "code",
   "execution_count": 18,
   "id": "ideal-deviation",
   "metadata": {},
   "outputs": [],
   "source": [
    "marker_np_imagery_2 = df_imagery_2['Marker'].values\n",
    "marker_np_imagery_2 = marker_np_imagery_2.astype(str)\n",
    "\n",
    "### collecting indices of imagery 2 s (the values of these indices will need to be replaced by the values of visual indices)\n",
    "imagery_2_idx = []\n",
    "for idx, marker in enumerate(marker_np_imagery_2):\n",
    "    if marker != '0':\n",
    "        m = marker.split(\",\")\n",
    "        if \"imagery\" in marker and marker[-1] == '2' : # get black and 2s\n",
    "            imagery_2_idx.append(idx)\n"
   ]
  },
  {
   "cell_type": "code",
   "execution_count": 19,
   "id": "driven-manner",
   "metadata": {},
   "outputs": [
    {
     "name": "stdout",
     "output_type": "stream",
     "text": [
      "the number of stim in total:  231\n",
      "[8384, 9258, 12055, 14839, 16377, 17256, 19425, 20323, 21195, 23330, 24881, 27063, 28569, 29478, 31248, 34767, 36290, 37186, 39352, 40901, 41766, 43280, 44189, 45751, 47265, 48140, 49049, 50589, 51456, 52364, 53243, 56415, 57322, 58855, 60383, 61253, 62129, 63026, 63898, 64775, 66308, 67860, 70671, 72204, 73098, 74005, 74925, 76445, 77327, 82824, 85606, 88384, 89877, 93307, 96777, 97683, 98562, 99453, 100960, 101861, 102772, 105620, 106504, 107411, 108282, 109182, 110088, 110977, 112533, 113448, 114326, 115843, 117406, 118292, 121762, 123300, 124197, 126366, 128541, 132005, 132880, 135068, 136611, 137500, 139668, 141212, 142108, 143626, 145134, 146695, 148884, 150423, 151325, 152844, 153742, 155680, 156581, 157448, 161513, 162424, 163942, 166115, 167014, 167927, 168804, 169698, 170611, 171479, 172373, 173280, 174180, 175053, 176607, 178179, 182278, 183164, 184733, 185611, 186514, 187405, 188943, 191131, 192666, 193539, 195691, 196601, 200070, 200944, 205977, 206867, 209013, 211196, 212739, 213613, 215740, 216626, 218157, 220301, 221827, 222726, 223600, 225817, 232730, 234252, 237095, 237963, 239482, 240401, 241912, 242820, 244347, 245261, 246174, 247071, 251154, 253189, 254076, 256263, 258452, 259969, 261490, 262985, 264509, 267318, 268219, 269130, 271926, 272794, 273670, 275192, 279629, 280508, 282695, 283579, 284484, 286012, 286899, 288434, 289349, 291503, 293068, 296548, 297458, 298339, 299861, 301346, 303521, 304408, 308478, 312567, 313477, 315018, 315910, 316792, 317663, 319212, 320746, 321622, 322530, 323415, 325876, 326778, 327696, 328564, 329434, 331613, 333141, 334048, 335584, 337143, 339305, 342727, 345539, 347743, 349660, 351797, 353319, 354195, 355717, 356625, 357530, 358422, 361212, 363398, 364269, 365824, 366721, 367629, 369776, 371294, 372181]\n"
     ]
    }
   ],
   "source": [
    "print('the number of stim in total: ',len(imagery_2_idx))\n",
    "print(imagery_2_idx)"
   ]
  },
  {
   "cell_type": "code",
   "execution_count": 20,
   "id": "funded-reference",
   "metadata": {},
   "outputs": [
    {
     "name": "stderr",
     "output_type": "stream",
     "text": [
      "/usr/local/lib/python3.6/dist-packages/pandas/core/indexing.py:670: SettingWithCopyWarning: \n",
      "A value is trying to be set on a copy of a slice from a DataFrame\n",
      "\n",
      "See the caveats in the documentation: https://pandas.pydata.org/pandas-docs/stable/user_guide/indexing.html#returning-a-view-versus-a-copy\n",
      "  iloc._setitem_with_indexer(indexer, value)\n"
     ]
    }
   ],
   "source": [
    "df_imagery_2['Marker'] = '0'\n",
    "for i in range(len(imagery_2_idx)):\n",
    "    df_imagery_2['Marker'].iloc[imagery_2_idx[i]] = df_visual_2['Marker'].iloc[visual_2_idx[i]]"
   ]
  },
  {
   "cell_type": "code",
   "execution_count": 21,
   "id": "common-concert",
   "metadata": {},
   "outputs": [
    {
     "name": "stdout",
     "output_type": "stream",
     "text": [
      "            F3      F8      F7      F4      P3      P4      T4      T3  \\\n",
      "Marker                                                                   \n",
      "0       269923  235755  234924  277360  258363  263359  261068  256688   \n",
      "1           36      36      36      36      36      36      36      36   \n",
      "2           32      32      32      32      32      32      32      32   \n",
      "3           37      37      37      37      37      37      37      37   \n",
      "4           34      34      34      34      34      34      34      34   \n",
      "5           44      44      44      44      44      44      44      44   \n",
      "6           48      48      48      48      48      48      48      48   \n",
      "\n",
      "           FP2     FP1      C4      C3      T6      T5      O1      O2  \n",
      "Marker                                                                  \n",
      "0       242240  243723  245072  232209  239526  279208  233592  252378  \n",
      "1           36      36      36      36      36      36      36      36  \n",
      "2           32      32      32      32      32      32      32      32  \n",
      "3           37      37      37      37      37      37      37      37  \n",
      "4           34      34      34      34      34      34      34      34  \n",
      "5           44      44      44      44      44      44      44      44  \n",
      "6           48      48      48      48      48      48      48      48  \n"
     ]
    }
   ],
   "source": [
    "print(df_imagery_2.groupby('Marker').nunique())"
   ]
  },
  {
   "cell_type": "markdown",
   "id": "visible-gates",
   "metadata": {},
   "source": [
    "### 3. Save Data"
   ]
  },
  {
   "cell_type": "code",
   "execution_count": 22,
   "id": "known-italic",
   "metadata": {},
   "outputs": [],
   "source": [
    "df_visual_1.to_pickle(\"data/pd/{par}/{file}_visual_1.pkl\".format(par=par, file=file))\n",
    "df_imagery_1.to_pickle(\"data/pd/round1/{par}/{file}_imagery_1.pkl\".format(par=par, file=file))\n",
    "df_visual_2.to_pickle(\"data/pd/round1/{par}/{file}_visual_2.pkl\".format(par=par, file=file))\n",
    "df_imagery_2.to_pickle(\"data/pd/round1/{par}/{file}_imagery_2.pkl\".format(par=par, file=file))"
   ]
  },
  {
   "cell_type": "code",
   "execution_count": null,
   "id": "pediatric-sailing",
   "metadata": {},
   "outputs": [],
   "source": []
  }
 ],
 "metadata": {
  "kernelspec": {
   "display_name": "Python 3",
   "language": "python",
   "name": "python3"
  },
  "language_info": {
   "codemirror_mode": {
    "name": "ipython",
    "version": 3
   },
   "file_extension": ".py",
   "mimetype": "text/x-python",
   "name": "python",
   "nbconvert_exporter": "python",
   "pygments_lexer": "ipython3",
   "version": "3.6.9"
  }
 },
 "nbformat": 4,
 "nbformat_minor": 5
}
