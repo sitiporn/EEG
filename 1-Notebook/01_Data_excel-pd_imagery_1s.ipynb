{
 "cells": [
  {
   "cell_type": "markdown",
   "id": "reduced-basin",
   "metadata": {},
   "source": [
    "### 1. Load Imagery 1s "
   ]
  },
  {
   "cell_type": "code",
   "execution_count": 1,
   "id": "opening-patrol",
   "metadata": {},
   "outputs": [],
   "source": [
    "import pandas as pd"
   ]
  },
  {
   "cell_type": "code",
   "execution_count": 2,
   "id": "hispanic-projection",
   "metadata": {},
   "outputs": [],
   "source": [
    "par = \"par1\"\n",
    "file = \"par1_com2_data_2021-03-27-13.52.44_imagery_1\"\n",
    "path = \"data/pd/par1/{file}.pkl\".format(file = file)"
   ]
  },
  {
   "cell_type": "code",
   "execution_count": 3,
   "id": "comparative-laptop",
   "metadata": {},
   "outputs": [
    {
     "data": {
      "text/plain": [
       "'data/pd/par1/par1_com2_data_2021-03-27-13.52.44_imagery_1.pkl'"
      ]
     },
     "execution_count": 3,
     "metadata": {},
     "output_type": "execute_result"
    }
   ],
   "source": [
    "path"
   ]
  },
  {
   "cell_type": "code",
   "execution_count": 4,
   "id": "funded-worse",
   "metadata": {},
   "outputs": [],
   "source": [
    "df_imagery_1  =  pd.read_pickle(path)"
   ]
  },
  {
   "cell_type": "code",
   "execution_count": 5,
   "id": "searching-advertising",
   "metadata": {},
   "outputs": [
    {
     "data": {
      "text/plain": [
       "array(['0', '4', '3', '2', '1', '6', '5'], dtype=object)"
      ]
     },
     "execution_count": 5,
     "metadata": {},
     "output_type": "execute_result"
    }
   ],
   "source": [
    "df_imagery_1['Marker'].unique()"
   ]
  },
  {
   "cell_type": "code",
   "execution_count": null,
   "id": "happy-clause",
   "metadata": {},
   "outputs": [],
   "source": []
  },
  {
   "cell_type": "code",
   "execution_count": null,
   "id": "retired-youth",
   "metadata": {},
   "outputs": [],
   "source": []
  },
  {
   "cell_type": "code",
   "execution_count": 6,
   "id": "anticipated-congress",
   "metadata": {},
   "outputs": [],
   "source": [
    "### color  ####\n",
    "\n",
    "color = { 'green': ['4','5'], 'red':['1','3'] , 'blue':['2','6'] }\n",
    "\n",
    "### shape ####\n",
    "shape = { 'cone':['2','3','4'] ,'cube': ['1','5','6'] }\n",
    "\n",
    "\n",
    "## time ###"
   ]
  },
  {
   "cell_type": "code",
   "execution_count": 7,
   "id": "every-things",
   "metadata": {},
   "outputs": [
    {
     "data": {
      "text/plain": [
       "array(['0', '4', '3', '2', '1', '6', '5'], dtype=object)"
      ]
     },
     "execution_count": 7,
     "metadata": {},
     "output_type": "execute_result"
    }
   ],
   "source": [
    "df_imagery_1['Marker'].unique()"
   ]
  },
  {
   "cell_type": "markdown",
   "id": "certified-hungary",
   "metadata": {},
   "source": [
    "### 2.1.1 Visual 2 s and green "
   ]
  },
  {
   "cell_type": "code",
   "execution_count": 8,
   "id": "crazy-concentration",
   "metadata": {},
   "outputs": [],
   "source": [
    "df_imagery_1_green = df_imagery_1.copy()"
   ]
  },
  {
   "cell_type": "code",
   "execution_count": 9,
   "id": "suitable-playing",
   "metadata": {},
   "outputs": [],
   "source": [
    "#use numpy as another view of the pandas columns for faster operation\n",
    "marker_imagery_1_green = df_imagery_1_green['Marker'].values\n",
    "marker_imagery_1_green = marker_imagery_1_green.astype(str)\n",
    "\n",
    "### collecting\n",
    "imagery_1_green_idx = []"
   ]
  },
  {
   "cell_type": "code",
   "execution_count": null,
   "id": "surface-interaction",
   "metadata": {},
   "outputs": [],
   "source": []
  },
  {
   "cell_type": "code",
   "execution_count": 10,
   "id": "fundamental-vehicle",
   "metadata": {},
   "outputs": [
    {
     "name": "stderr",
     "output_type": "stream",
     "text": [
      "/root/.local/lib/python3.6/site-packages/ipykernel_launcher.py:8: SettingWithCopyWarning: \n",
      "A value is trying to be set on a copy of a slice from a DataFrame\n",
      "\n",
      "See the caveats in the documentation: https://pandas.pydata.org/pandas-docs/stable/user_guide/indexing.html#returning-a-view-versus-a-copy\n",
      "  \n"
     ]
    }
   ],
   "source": [
    "for idx, marker in enumerate(marker_imagery_1_green):\n",
    "    if marker != '0':\n",
    "#         print(m[-1])\n",
    "        if color['green'][0] in marker or color['green'][1] in marker:\n",
    "             #marker_imagery_1_green[idx] = m[2] # get classes\n",
    "             imagery_1_green_idx.append(idx)\n",
    "        else:\n",
    "            df_imagery_1_green['Marker'][idx] = '0'\n",
    "        \n",
    "            \n",
    "\n",
    "# print(df_imagery_1['Marker'].unique())\n",
    "# print(np.unique(marker_np_imagery_1))\n",
    "# df_imagery_1['Marker']= marker_np_imagery_1"
   ]
  },
  {
   "cell_type": "code",
   "execution_count": 11,
   "id": "governing-tissue",
   "metadata": {},
   "outputs": [
    {
     "name": "stdout",
     "output_type": "stream",
     "text": [
      "71\n"
     ]
    }
   ],
   "source": [
    "print(len(imagery_1_green_idx)) "
   ]
  },
  {
   "cell_type": "code",
   "execution_count": 12,
   "id": "recent-atmosphere",
   "metadata": {},
   "outputs": [
    {
     "data": {
      "text/plain": [
       "array(['0', '4', '5'], dtype=object)"
      ]
     },
     "execution_count": 12,
     "metadata": {},
     "output_type": "execute_result"
    }
   ],
   "source": [
    "df_imagery_1_green['Marker'].unique()"
   ]
  },
  {
   "cell_type": "code",
   "execution_count": 13,
   "id": "disciplinary-collective",
   "metadata": {},
   "outputs": [],
   "source": [
    "#imagery_1_green_idx"
   ]
  },
  {
   "cell_type": "code",
   "execution_count": 14,
   "id": "encouraging-arthur",
   "metadata": {},
   "outputs": [
    {
     "data": {
      "text/plain": [
       "array(['4', '5'], dtype=object)"
      ]
     },
     "execution_count": 14,
     "metadata": {},
     "output_type": "execute_result"
    }
   ],
   "source": [
    "df_imagery_1['Marker'][imagery_1_green_idx].unique()"
   ]
  },
  {
   "cell_type": "markdown",
   "id": "collected-advertising",
   "metadata": {},
   "source": [
    "### 2.1.2 Visual 2 s and red "
   ]
  },
  {
   "cell_type": "code",
   "execution_count": 15,
   "id": "dramatic-antenna",
   "metadata": {},
   "outputs": [
    {
     "data": {
      "text/plain": [
       "array(['0', '4', '3', '2', '1', '6', '5'], dtype=object)"
      ]
     },
     "execution_count": 15,
     "metadata": {},
     "output_type": "execute_result"
    }
   ],
   "source": [
    "df_imagery_1['Marker'].unique()"
   ]
  },
  {
   "cell_type": "code",
   "execution_count": 16,
   "id": "integral-utilization",
   "metadata": {},
   "outputs": [],
   "source": [
    "df_imagery_1_red = df_imagery_1.copy()"
   ]
  },
  {
   "cell_type": "code",
   "execution_count": 17,
   "id": "aboriginal-extreme",
   "metadata": {},
   "outputs": [
    {
     "data": {
      "text/plain": [
       "array(['0', '4', '3', '2', '1', '6', '5'], dtype=object)"
      ]
     },
     "execution_count": 17,
     "metadata": {},
     "output_type": "execute_result"
    }
   ],
   "source": [
    "df_imagery_1_red['Marker'].unique()"
   ]
  },
  {
   "cell_type": "code",
   "execution_count": 18,
   "id": "crazy-village",
   "metadata": {},
   "outputs": [],
   "source": [
    "#use numpy as another view of the pandas columns for faster operation\n",
    "marker_imagery_1_red = df_imagery_1_red['Marker'].values\n",
    "marker_imagery_1_red = marker_imagery_1_red.astype(str)\n",
    "\n",
    "### collecting\n",
    "imagery_1_red_idx = [] "
   ]
  },
  {
   "cell_type": "code",
   "execution_count": 19,
   "id": "whole-newton",
   "metadata": {},
   "outputs": [],
   "source": [
    "#df_imagery_1"
   ]
  },
  {
   "cell_type": "code",
   "execution_count": null,
   "id": "simplified-comment",
   "metadata": {},
   "outputs": [],
   "source": []
  },
  {
   "cell_type": "code",
   "execution_count": 20,
   "id": "nasty-supervision",
   "metadata": {},
   "outputs": [
    {
     "name": "stderr",
     "output_type": "stream",
     "text": [
      "/root/.local/lib/python3.6/site-packages/ipykernel_launcher.py:8: SettingWithCopyWarning: \n",
      "A value is trying to be set on a copy of a slice from a DataFrame\n",
      "\n",
      "See the caveats in the documentation: https://pandas.pydata.org/pandas-docs/stable/user_guide/indexing.html#returning-a-view-versus-a-copy\n",
      "  \n"
     ]
    }
   ],
   "source": [
    "for idx, marker in enumerate(marker_imagery_1_red):\n",
    "    if marker != '0':\n",
    "#         print(m[-1])\n",
    "        if color['red'][0] in marker or color['red'][1] in marker:\n",
    "             #marker_imagery_1_green[idx] = m[2] # get classes\n",
    "             imagery_1_red_idx.append(idx)\n",
    "        else:\n",
    "            df_imagery_1_red['Marker'][idx] = '0'\n",
    "            \n",
    "# print(df_imagery_1['Marker'].unique())\n",
    "# print(np.unique(marker_np_imagery_1))\n",
    "# df_imagery_1['Marker']= marker_np_imagery_1"
   ]
  },
  {
   "cell_type": "code",
   "execution_count": 21,
   "id": "isolated-verse",
   "metadata": {},
   "outputs": [
    {
     "name": "stdout",
     "output_type": "stream",
     "text": [
      "74\n"
     ]
    }
   ],
   "source": [
    "print(len(imagery_1_red_idx)) "
   ]
  },
  {
   "cell_type": "code",
   "execution_count": 22,
   "id": "heard-theorem",
   "metadata": {},
   "outputs": [
    {
     "data": {
      "text/plain": [
       "array(['0', '3', '1'], dtype=object)"
      ]
     },
     "execution_count": 22,
     "metadata": {},
     "output_type": "execute_result"
    }
   ],
   "source": [
    "df_imagery_1_red['Marker'].unique()"
   ]
  },
  {
   "cell_type": "code",
   "execution_count": 23,
   "id": "protected-psychiatry",
   "metadata": {},
   "outputs": [],
   "source": [
    "#imagery_1_green_idx"
   ]
  },
  {
   "cell_type": "code",
   "execution_count": 24,
   "id": "consecutive-regression",
   "metadata": {},
   "outputs": [
    {
     "data": {
      "text/plain": [
       "array(['3', '1'], dtype=object)"
      ]
     },
     "execution_count": 24,
     "metadata": {},
     "output_type": "execute_result"
    }
   ],
   "source": [
    "df_imagery_1['Marker'][imagery_1_red_idx].unique()"
   ]
  },
  {
   "cell_type": "markdown",
   "id": "systematic-satisfaction",
   "metadata": {},
   "source": [
    "### 2.1.3 Visual 2 s and blue"
   ]
  },
  {
   "cell_type": "code",
   "execution_count": null,
   "id": "increasing-crawford",
   "metadata": {},
   "outputs": [],
   "source": []
  },
  {
   "cell_type": "code",
   "execution_count": 25,
   "id": "informal-disclaimer",
   "metadata": {},
   "outputs": [],
   "source": [
    "df_imagery_1_blue = df_imagery_1.copy()"
   ]
  },
  {
   "cell_type": "code",
   "execution_count": 26,
   "id": "immune-repository",
   "metadata": {},
   "outputs": [
    {
     "data": {
      "text/plain": [
       "array(['0', '4', '3', '2', '1', '6', '5'], dtype=object)"
      ]
     },
     "execution_count": 26,
     "metadata": {},
     "output_type": "execute_result"
    }
   ],
   "source": [
    "df_imagery_1_blue['Marker'].unique()"
   ]
  },
  {
   "cell_type": "code",
   "execution_count": 27,
   "id": "ordinary-blowing",
   "metadata": {},
   "outputs": [],
   "source": [
    "#use numpy as another view of the pandas columns for faster operation\n",
    "marker_imagery_1_blue = df_imagery_1_blue['Marker'].values\n",
    "marker_imagery_1_blue = marker_imagery_1_blue.astype(str)\n",
    "\n",
    "### collecting\n",
    "imagery_1_blue_idx = []"
   ]
  },
  {
   "cell_type": "code",
   "execution_count": null,
   "id": "indian-learning",
   "metadata": {},
   "outputs": [],
   "source": []
  },
  {
   "cell_type": "code",
   "execution_count": 28,
   "id": "exclusive-masters",
   "metadata": {},
   "outputs": [
    {
     "name": "stderr",
     "output_type": "stream",
     "text": [
      "/root/.local/lib/python3.6/site-packages/ipykernel_launcher.py:8: SettingWithCopyWarning: \n",
      "A value is trying to be set on a copy of a slice from a DataFrame\n",
      "\n",
      "See the caveats in the documentation: https://pandas.pydata.org/pandas-docs/stable/user_guide/indexing.html#returning-a-view-versus-a-copy\n",
      "  \n"
     ]
    }
   ],
   "source": [
    "for idx, marker in enumerate(marker_imagery_1_blue):\n",
    "    if marker != '0':\n",
    "#         print(m[-1])\n",
    "        if color['blue'][0] in marker or color['blue'][1] in marker:\n",
    "             #marker_imagery_1_green[idx] = m[2] # get classes\n",
    "             imagery_1_blue_idx.append(idx)\n",
    "        else:\n",
    "            df_imagery_1_blue['Marker'][idx] = '0'\n",
    "        \n",
    "            \n",
    "\n",
    "# print(df_imagery_1['Marker'].unique())\n",
    "# print(np.unique(marker_np_imagery_1))\n",
    "# df_imagery_1['Marker']= marker_np_imagery_1"
   ]
  },
  {
   "cell_type": "code",
   "execution_count": 29,
   "id": "statewide-friendship",
   "metadata": {},
   "outputs": [
    {
     "name": "stdout",
     "output_type": "stream",
     "text": [
      "76\n"
     ]
    }
   ],
   "source": [
    "print(len(imagery_1_blue_idx)) "
   ]
  },
  {
   "cell_type": "code",
   "execution_count": 30,
   "id": "personalized-sapphire",
   "metadata": {},
   "outputs": [
    {
     "data": {
      "text/plain": [
       "array(['0', '2', '6'], dtype=object)"
      ]
     },
     "execution_count": 30,
     "metadata": {},
     "output_type": "execute_result"
    }
   ],
   "source": [
    "df_imagery_1_blue['Marker'].unique()"
   ]
  },
  {
   "cell_type": "code",
   "execution_count": 31,
   "id": "threatened-figure",
   "metadata": {},
   "outputs": [],
   "source": [
    "#imagery_1_green_idx"
   ]
  },
  {
   "cell_type": "code",
   "execution_count": 32,
   "id": "danish-running",
   "metadata": {},
   "outputs": [
    {
     "data": {
      "text/plain": [
       "array(['2', '6'], dtype=object)"
      ]
     },
     "execution_count": 32,
     "metadata": {},
     "output_type": "execute_result"
    }
   ],
   "source": [
    "df_imagery_1['Marker'][imagery_1_blue_idx].unique()"
   ]
  },
  {
   "cell_type": "markdown",
   "id": "crazy-isaac",
   "metadata": {},
   "source": [
    "### 2.1.4 Visual 2 s and Cone"
   ]
  },
  {
   "cell_type": "code",
   "execution_count": null,
   "id": "prompt-heading",
   "metadata": {},
   "outputs": [],
   "source": []
  },
  {
   "cell_type": "code",
   "execution_count": 33,
   "id": "specific-boating",
   "metadata": {},
   "outputs": [],
   "source": [
    "df_imagery_1_cone = df_imagery_1.copy()"
   ]
  },
  {
   "cell_type": "code",
   "execution_count": 34,
   "id": "acoustic-chancellor",
   "metadata": {},
   "outputs": [
    {
     "data": {
      "text/plain": [
       "array(['0', '4', '3', '2', '1', '6', '5'], dtype=object)"
      ]
     },
     "execution_count": 34,
     "metadata": {},
     "output_type": "execute_result"
    }
   ],
   "source": [
    "df_imagery_1_cone['Marker'].unique()"
   ]
  },
  {
   "cell_type": "code",
   "execution_count": 35,
   "id": "adolescent-ceiling",
   "metadata": {},
   "outputs": [],
   "source": [
    "#use numpy as another view of the pandas columns for faster operation\n",
    "marker_imagery_1_cone = df_imagery_1_cone['Marker'].values\n",
    "marker_imagery_1_cone = marker_imagery_1_cone.astype(str)\n",
    "\n",
    "### collecting\n",
    "imagery_1_cone_idx = []"
   ]
  },
  {
   "cell_type": "code",
   "execution_count": null,
   "id": "together-solomon",
   "metadata": {},
   "outputs": [],
   "source": []
  },
  {
   "cell_type": "code",
   "execution_count": 36,
   "id": "wrong-eight",
   "metadata": {},
   "outputs": [
    {
     "name": "stderr",
     "output_type": "stream",
     "text": [
      "/root/.local/lib/python3.6/site-packages/ipykernel_launcher.py:9: SettingWithCopyWarning: \n",
      "A value is trying to be set on a copy of a slice from a DataFrame\n",
      "\n",
      "See the caveats in the documentation: https://pandas.pydata.org/pandas-docs/stable/user_guide/indexing.html#returning-a-view-versus-a-copy\n",
      "  if __name__ == '__main__':\n"
     ]
    }
   ],
   "source": [
    "for idx, marker in enumerate(marker_imagery_1_cone):\n",
    "    if marker != '0':\n",
    "#         print(m[-1])\n",
    "        if shape['cone'][0] in marker or shape['cone'][1] in marker or shape['cone'][2] in marker:\n",
    "             #marker_imagery_1_green[idx] = m[2] # get classes\n",
    "             imagery_1_cone_idx.append(idx)\n",
    "        \n",
    "        else:\n",
    "            df_imagery_1_cone['Marker'][idx] = '0'\n",
    "\n",
    "# print(df_imagery_1['Marker'].unique())\n",
    "# print(np.unique(marker_np_imagery_1))\n",
    "# df_imagery_1['Marker']= marker_np_imagery_1"
   ]
  },
  {
   "cell_type": "code",
   "execution_count": 37,
   "id": "unlike-credit",
   "metadata": {},
   "outputs": [
    {
     "name": "stdout",
     "output_type": "stream",
     "text": [
      "111\n"
     ]
    }
   ],
   "source": [
    "print(len(imagery_1_cone_idx)) "
   ]
  },
  {
   "cell_type": "code",
   "execution_count": 38,
   "id": "center-reader",
   "metadata": {},
   "outputs": [],
   "source": [
    "#imagery_1_green_idx"
   ]
  },
  {
   "cell_type": "code",
   "execution_count": 39,
   "id": "signal-kuwait",
   "metadata": {},
   "outputs": [
    {
     "data": {
      "text/plain": [
       "array(['4', '3', '2'], dtype=object)"
      ]
     },
     "execution_count": 39,
     "metadata": {},
     "output_type": "execute_result"
    }
   ],
   "source": [
    "df_imagery_1_cone['Marker'][imagery_1_cone_idx].unique()"
   ]
  },
  {
   "cell_type": "code",
   "execution_count": 40,
   "id": "computational-trick",
   "metadata": {},
   "outputs": [
    {
     "data": {
      "text/plain": [
       "array(['0', '4', '3', '2'], dtype=object)"
      ]
     },
     "execution_count": 40,
     "metadata": {},
     "output_type": "execute_result"
    }
   ],
   "source": [
    "df_imagery_1_cone['Marker'].unique()"
   ]
  },
  {
   "cell_type": "markdown",
   "id": "floating-harvard",
   "metadata": {},
   "source": [
    "### 2.1.4 Visual 2 s and Cube"
   ]
  },
  {
   "cell_type": "code",
   "execution_count": null,
   "id": "coordinate-poland",
   "metadata": {},
   "outputs": [],
   "source": []
  },
  {
   "cell_type": "code",
   "execution_count": null,
   "id": "biblical-ethernet",
   "metadata": {},
   "outputs": [],
   "source": []
  },
  {
   "cell_type": "code",
   "execution_count": 41,
   "id": "metric-longitude",
   "metadata": {},
   "outputs": [],
   "source": [
    "df_imagery_1_cube = df_imagery_1.copy()"
   ]
  },
  {
   "cell_type": "code",
   "execution_count": 42,
   "id": "nominated-pepper",
   "metadata": {},
   "outputs": [],
   "source": [
    "#use numpy as another view of the pandas columns for faster operation\n",
    "marker_imagery_1_cube = df_imagery_1_cube['Marker'].values\n",
    "marker_imagery_1_cube = marker_imagery_1_cube.astype(str)\n",
    "\n",
    "### collecting\n",
    "imagery_1_cube_idx = []"
   ]
  },
  {
   "cell_type": "code",
   "execution_count": 43,
   "id": "permanent-estate",
   "metadata": {},
   "outputs": [
    {
     "data": {
      "text/plain": [
       "'4'"
      ]
     },
     "execution_count": 43,
     "metadata": {},
     "output_type": "execute_result"
    }
   ],
   "source": [
    "shape['cone'][2]"
   ]
  },
  {
   "cell_type": "code",
   "execution_count": 44,
   "id": "czech-strand",
   "metadata": {},
   "outputs": [
    {
     "name": "stderr",
     "output_type": "stream",
     "text": [
      "/root/.local/lib/python3.6/site-packages/ipykernel_launcher.py:8: SettingWithCopyWarning: \n",
      "A value is trying to be set on a copy of a slice from a DataFrame\n",
      "\n",
      "See the caveats in the documentation: https://pandas.pydata.org/pandas-docs/stable/user_guide/indexing.html#returning-a-view-versus-a-copy\n",
      "  \n"
     ]
    }
   ],
   "source": [
    "for idx, marker in enumerate(marker_imagery_1_cube):\n",
    "    if marker != '0':\n",
    "#         print(m[-1])\n",
    "        if shape['cube'][0] in marker or shape['cube'][1] in marker or shape['cube'][2] in marker:\n",
    "             #marker_imagery_1_green[idx] = m[2] # get classes\n",
    "             imagery_1_cube_idx.append(idx)\n",
    "        else:\n",
    "            df_imagery_1_cube['Marker'][idx] = '0'\n",
    "        \n",
    "            \n",
    "\n",
    "# print(df_imagery_1['Marker'].unique())\n",
    "# print(np.unique(marker_np_imagery_1))\n",
    "# df_imagery_1['Marker']= marker_np_imagery_1"
   ]
  },
  {
   "cell_type": "code",
   "execution_count": 45,
   "id": "gentle-explanation",
   "metadata": {},
   "outputs": [
    {
     "name": "stdout",
     "output_type": "stream",
     "text": [
      "110\n"
     ]
    }
   ],
   "source": [
    "print(len(imagery_1_cube_idx)) "
   ]
  },
  {
   "cell_type": "code",
   "execution_count": 46,
   "id": "australian-sydney",
   "metadata": {},
   "outputs": [],
   "source": [
    "#imagery_1_green_idx"
   ]
  },
  {
   "cell_type": "code",
   "execution_count": 47,
   "id": "sonic-drinking",
   "metadata": {},
   "outputs": [
    {
     "data": {
      "text/plain": [
       "array(['1', '6', '5'], dtype=object)"
      ]
     },
     "execution_count": 47,
     "metadata": {},
     "output_type": "execute_result"
    }
   ],
   "source": [
    "df_imagery_1['Marker'][imagery_1_cube_idx].unique()"
   ]
  },
  {
   "cell_type": "code",
   "execution_count": 48,
   "id": "blank-puppy",
   "metadata": {},
   "outputs": [
    {
     "data": {
      "text/plain": [
       "array(['0', '1', '6', '5'], dtype=object)"
      ]
     },
     "execution_count": 48,
     "metadata": {},
     "output_type": "execute_result"
    }
   ],
   "source": [
    "df_imagery_1_cube['Marker'].unique()"
   ]
  },
  {
   "cell_type": "code",
   "execution_count": null,
   "id": "rolled-oregon",
   "metadata": {},
   "outputs": [],
   "source": []
  },
  {
   "cell_type": "code",
   "execution_count": 49,
   "id": "temporal-triangle",
   "metadata": {},
   "outputs": [
    {
     "data": {
      "text/plain": [
       "array(['0', '4', '3', '2', '1', '6', '5'], dtype=object)"
      ]
     },
     "execution_count": 49,
     "metadata": {},
     "output_type": "execute_result"
    }
   ],
   "source": [
    "df_imagery_1['Marker'].unique()"
   ]
  },
  {
   "cell_type": "code",
   "execution_count": 50,
   "id": "governmental-fisher",
   "metadata": {},
   "outputs": [
    {
     "data": {
      "text/plain": [
       "(array(['0', '3', '1'], dtype=object),\n",
       " array(['0', '4', '5'], dtype=object),\n",
       " array(['0', '2', '6'], dtype=object))"
      ]
     },
     "execution_count": 50,
     "metadata": {},
     "output_type": "execute_result"
    }
   ],
   "source": [
    "df_imagery_1_red['Marker'].unique()  , df_imagery_1_green['Marker'].unique() , df_imagery_1_blue['Marker'].unique()  "
   ]
  },
  {
   "cell_type": "code",
   "execution_count": 51,
   "id": "favorite-vehicle",
   "metadata": {},
   "outputs": [
    {
     "data": {
      "text/plain": [
       "(array(['0', '1', '6', '5'], dtype=object),\n",
       " array(['0', '4', '3', '2'], dtype=object))"
      ]
     },
     "execution_count": 51,
     "metadata": {},
     "output_type": "execute_result"
    }
   ],
   "source": [
    "df_imagery_1_cube['Marker'].unique() , df_imagery_1_cone['Marker'].unique() "
   ]
  },
  {
   "cell_type": "code",
   "execution_count": null,
   "id": "announced-secondary",
   "metadata": {},
   "outputs": [],
   "source": []
  },
  {
   "cell_type": "markdown",
   "id": "induced-detection",
   "metadata": {},
   "source": [
    "### 3. Save Data"
   ]
  },
  {
   "cell_type": "code",
   "execution_count": 53,
   "id": "copyrighted-attachment",
   "metadata": {},
   "outputs": [],
   "source": [
    "df_imagery_1_red.to_pickle(\"data/pd/{par}/{file}_imagery_1_red.pkl\".format(par=par, file=file))\n",
    "df_imagery_1_green.to_pickle(\"data/pd/{par}/{file}_imagery_1_green.pkl\".format(par=par, file=file))\n",
    "df_imagery_1_blue.to_pickle(\"data/pd/{par}/{file}_imagery_1_blue.pkl\".format(par=par, file=file))\n",
    "df_imagery_1_cube.to_pickle(\"data/pd/{par}/{file}_imagery_1_cube.pkl\".format(par=par, file=file))\n",
    "df_imagery_1_cone.to_pickle(\"data/pd/{par}/{file}_imagery_1_cone.pkl\".format(par=par, file=file))"
   ]
  },
  {
   "cell_type": "code",
   "execution_count": null,
   "id": "accomplished-company",
   "metadata": {},
   "outputs": [],
   "source": []
  }
 ],
 "metadata": {
  "kernelspec": {
   "display_name": "Python 3",
   "language": "python",
   "name": "python3"
  },
  "language_info": {
   "codemirror_mode": {
    "name": "ipython",
    "version": 3
   },
   "file_extension": ".py",
   "mimetype": "text/x-python",
   "name": "python",
   "nbconvert_exporter": "python",
   "pygments_lexer": "ipython3",
   "version": "3.6.9"
  }
 },
 "nbformat": 4,
 "nbformat_minor": 5
}
