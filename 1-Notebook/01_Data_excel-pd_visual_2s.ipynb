{
 "cells": [
  {
   "cell_type": "markdown",
   "id": "trying-darkness",
   "metadata": {},
   "source": [
    "### 1. Load Visual 2s "
   ]
  },
  {
   "cell_type": "code",
   "execution_count": 55,
   "id": "artificial-prescription",
   "metadata": {},
   "outputs": [],
   "source": [
    "import pandas as pd"
   ]
  },
  {
   "cell_type": "code",
   "execution_count": 56,
   "id": "portable-harbor",
   "metadata": {},
   "outputs": [],
   "source": [
    "par = \"par1\"\n",
    "file = \"par1_com2_data_2021-03-27-13.52.44_imagery_2\"\n",
    "path = \"data/pd/par1/{file}.pkl\".format(file = file)"
   ]
  },
  {
   "cell_type": "code",
   "execution_count": 57,
   "id": "local-prairie",
   "metadata": {},
   "outputs": [
    {
     "data": {
      "text/plain": [
       "'data/pd/par1/par1_com2_data_2021-03-27-13.52.44_imagery_2.pkl'"
      ]
     },
     "execution_count": 57,
     "metadata": {},
     "output_type": "execute_result"
    }
   ],
   "source": [
    "path"
   ]
  },
  {
   "cell_type": "code",
   "execution_count": 58,
   "id": "advised-swift",
   "metadata": {},
   "outputs": [],
   "source": [
    "df_visual_2  =  pd.read_pickle(path)"
   ]
  },
  {
   "cell_type": "code",
   "execution_count": 59,
   "id": "synthetic-sustainability",
   "metadata": {},
   "outputs": [
    {
     "data": {
      "text/plain": [
       "array(['0', '1', '5', '2', '6', '4', '3'], dtype=object)"
      ]
     },
     "execution_count": 59,
     "metadata": {},
     "output_type": "execute_result"
    }
   ],
   "source": [
    "df_visual_2['Marker'].unique()"
   ]
  },
  {
   "cell_type": "code",
   "execution_count": null,
   "id": "listed-midwest",
   "metadata": {},
   "outputs": [],
   "source": []
  },
  {
   "cell_type": "code",
   "execution_count": null,
   "id": "induced-updating",
   "metadata": {},
   "outputs": [],
   "source": []
  },
  {
   "cell_type": "code",
   "execution_count": 6,
   "id": "future-negotiation",
   "metadata": {},
   "outputs": [],
   "source": [
    "### color  ####\n",
    "\n",
    "color = { 'green': ['4','5'], 'red':['1','3'] , 'blue':['2','6'] }\n",
    "\n",
    "### shape ####\n",
    "shape = { 'cone':['2','3','4'] ,'cube': ['1','5','6'] }\n",
    "\n",
    "\n",
    "## time ###"
   ]
  },
  {
   "cell_type": "code",
   "execution_count": 7,
   "id": "natural-budget",
   "metadata": {},
   "outputs": [
    {
     "data": {
      "text/plain": [
       "array(['0', '1', '5', '2', '6', '4', '3'], dtype=object)"
      ]
     },
     "execution_count": 7,
     "metadata": {},
     "output_type": "execute_result"
    }
   ],
   "source": [
    "df_visual_2['Marker'].unique()"
   ]
  },
  {
   "cell_type": "markdown",
   "id": "incredible-nitrogen",
   "metadata": {},
   "source": [
    "### 2.1.1 Visual 2 s and green "
   ]
  },
  {
   "cell_type": "code",
   "execution_count": 8,
   "id": "noted-albert",
   "metadata": {},
   "outputs": [],
   "source": [
    "df_visual_2_green = df_visual_2.copy()"
   ]
  },
  {
   "cell_type": "code",
   "execution_count": 9,
   "id": "commercial-mission",
   "metadata": {},
   "outputs": [],
   "source": [
    "#use numpy as another view of the pandas columns for faster operation\n",
    "marker_imagery_2_green = df_visual_2_green['Marker'].values\n",
    "marker_imagery_2_green = marker_imagery_2_green.astype(str)\n",
    "\n",
    "### collecting\n",
    "imagery_2_green_idx = []"
   ]
  },
  {
   "cell_type": "code",
   "execution_count": null,
   "id": "challenging-listening",
   "metadata": {},
   "outputs": [],
   "source": []
  },
  {
   "cell_type": "code",
   "execution_count": 10,
   "id": "rotary-multiple",
   "metadata": {},
   "outputs": [
    {
     "name": "stderr",
     "output_type": "stream",
     "text": [
      "/root/.local/lib/python3.6/site-packages/ipykernel_launcher.py:8: SettingWithCopyWarning: \n",
      "A value is trying to be set on a copy of a slice from a DataFrame\n",
      "\n",
      "See the caveats in the documentation: https://pandas.pydata.org/pandas-docs/stable/user_guide/indexing.html#returning-a-view-versus-a-copy\n",
      "  \n"
     ]
    }
   ],
   "source": [
    "for idx, marker in enumerate(marker_imagery_2_green):\n",
    "    if marker != '0':\n",
    "#         print(m[-1])\n",
    "        if color['green'][0] in marker or color['green'][1] in marker:\n",
    "             #marker_imagery_2_green[idx] = m[2] # get classes\n",
    "             imagery_2_green_idx.append(idx)\n",
    "        else:\n",
    "            df_visual_2_green['Marker'][idx] = '0'\n",
    "        \n",
    "            \n",
    "\n",
    "# print(df_visual_2['Marker'].unique())\n",
    "# print(np.unique(marker_np_imagery_2))\n",
    "# df_visual_2['Marker']= marker_np_imagery_2"
   ]
  },
  {
   "cell_type": "code",
   "execution_count": 11,
   "id": "nasty-thesis",
   "metadata": {},
   "outputs": [
    {
     "name": "stdout",
     "output_type": "stream",
     "text": [
      "79\n"
     ]
    }
   ],
   "source": [
    "print(len(imagery_2_green_idx)) "
   ]
  },
  {
   "cell_type": "code",
   "execution_count": 12,
   "id": "young-interpretation",
   "metadata": {},
   "outputs": [
    {
     "data": {
      "text/plain": [
       "array(['0', '5', '4'], dtype=object)"
      ]
     },
     "execution_count": 12,
     "metadata": {},
     "output_type": "execute_result"
    }
   ],
   "source": [
    "df_visual_2_green['Marker'].unique()"
   ]
  },
  {
   "cell_type": "code",
   "execution_count": 13,
   "id": "internal-filename",
   "metadata": {},
   "outputs": [],
   "source": [
    "#visual_2_green_idx"
   ]
  },
  {
   "cell_type": "code",
   "execution_count": 14,
   "id": "sapphire-cooper",
   "metadata": {},
   "outputs": [
    {
     "data": {
      "text/plain": [
       "array(['5', '4'], dtype=object)"
      ]
     },
     "execution_count": 14,
     "metadata": {},
     "output_type": "execute_result"
    }
   ],
   "source": [
    "df_visual_2['Marker'][visual_2_green_idx].unique()"
   ]
  },
  {
   "cell_type": "markdown",
   "id": "marked-montreal",
   "metadata": {},
   "source": [
    "### 2.1.2 Visual 2 s and red "
   ]
  },
  {
   "cell_type": "code",
   "execution_count": 15,
   "id": "editorial-philippines",
   "metadata": {},
   "outputs": [
    {
     "data": {
      "text/plain": [
       "array(['0', '1', '5', '2', '6', '4', '3'], dtype=object)"
      ]
     },
     "execution_count": 15,
     "metadata": {},
     "output_type": "execute_result"
    }
   ],
   "source": [
    "df_visual_2['Marker'].unique()"
   ]
  },
  {
   "cell_type": "code",
   "execution_count": 16,
   "id": "invisible-extension",
   "metadata": {},
   "outputs": [],
   "source": [
    "df_visual_2_red = df_visual_2.copy()"
   ]
  },
  {
   "cell_type": "code",
   "execution_count": 17,
   "id": "yellow-carpet",
   "metadata": {},
   "outputs": [
    {
     "data": {
      "text/plain": [
       "array(['0', '1', '5', '2', '6', '4', '3'], dtype=object)"
      ]
     },
     "execution_count": 17,
     "metadata": {},
     "output_type": "execute_result"
    }
   ],
   "source": [
    "df_visual_2_red['Marker'].unique()"
   ]
  },
  {
   "cell_type": "code",
   "execution_count": 18,
   "id": "developmental-forge",
   "metadata": {},
   "outputs": [],
   "source": [
    "#use numpy as another view of the pandas columns for faster operation\n",
    "marker_visual_2_red = df_visual_2_red['Marker'].values\n",
    "marker_visual_2_red = marker_visual_2_red.astype(str)\n",
    "\n",
    "### collecting\n",
    "visual_2_red_idx = [] "
   ]
  },
  {
   "cell_type": "code",
   "execution_count": 19,
   "id": "photographic-coverage",
   "metadata": {},
   "outputs": [],
   "source": [
    "#df_visual_2"
   ]
  },
  {
   "cell_type": "code",
   "execution_count": null,
   "id": "personal-coordination",
   "metadata": {},
   "outputs": [],
   "source": []
  },
  {
   "cell_type": "code",
   "execution_count": 20,
   "id": "legal-personal",
   "metadata": {},
   "outputs": [
    {
     "name": "stderr",
     "output_type": "stream",
     "text": [
      "/root/.local/lib/python3.6/site-packages/ipykernel_launcher.py:8: SettingWithCopyWarning: \n",
      "A value is trying to be set on a copy of a slice from a DataFrame\n",
      "\n",
      "See the caveats in the documentation: https://pandas.pydata.org/pandas-docs/stable/user_guide/indexing.html#returning-a-view-versus-a-copy\n",
      "  \n"
     ]
    }
   ],
   "source": [
    "for idx, marker in enumerate(marker_visual_2_red):\n",
    "    if marker != '0':\n",
    "#         print(m[-1])\n",
    "        if color['red'][0] in marker or color['red'][1] in marker:\n",
    "             #marker_visual_2_green[idx] = m[2] # get classes\n",
    "             visual_2_red_idx.append(idx)\n",
    "        else:\n",
    "            df_visual_2_red['Marker'][idx] = '0'\n",
    "            \n",
    "# print(df_visual_2['Marker'].unique())\n",
    "# print(np.unique(marker_np_visual_2))\n",
    "# df_visual_2['Marker']= marker_np_visual_2"
   ]
  },
  {
   "cell_type": "code",
   "execution_count": 21,
   "id": "heard-incidence",
   "metadata": {},
   "outputs": [
    {
     "name": "stdout",
     "output_type": "stream",
     "text": [
      "76\n"
     ]
    }
   ],
   "source": [
    "print(len(visual_2_red_idx)) "
   ]
  },
  {
   "cell_type": "code",
   "execution_count": 22,
   "id": "alien-croatia",
   "metadata": {},
   "outputs": [
    {
     "data": {
      "text/plain": [
       "array(['0', '1', '3'], dtype=object)"
      ]
     },
     "execution_count": 22,
     "metadata": {},
     "output_type": "execute_result"
    }
   ],
   "source": [
    "df_visual_2_red['Marker'].unique()"
   ]
  },
  {
   "cell_type": "code",
   "execution_count": 23,
   "id": "brief-fabric",
   "metadata": {},
   "outputs": [],
   "source": [
    "#visual_2_green_idx"
   ]
  },
  {
   "cell_type": "code",
   "execution_count": 24,
   "id": "literary-vancouver",
   "metadata": {},
   "outputs": [
    {
     "data": {
      "text/plain": [
       "array(['1', '3'], dtype=object)"
      ]
     },
     "execution_count": 24,
     "metadata": {},
     "output_type": "execute_result"
    }
   ],
   "source": [
    "df_visual_2['Marker'][visual_2_red_idx].unique()"
   ]
  },
  {
   "cell_type": "markdown",
   "id": "latest-server",
   "metadata": {},
   "source": [
    "### 2.1.3 Visual 2 s and blue"
   ]
  },
  {
   "cell_type": "code",
   "execution_count": null,
   "id": "determined-journey",
   "metadata": {},
   "outputs": [],
   "source": []
  },
  {
   "cell_type": "code",
   "execution_count": 25,
   "id": "subtle-silicon",
   "metadata": {},
   "outputs": [],
   "source": [
    "df_visual_2_blue = df_visual_2.copy()"
   ]
  },
  {
   "cell_type": "code",
   "execution_count": 26,
   "id": "alert-visiting",
   "metadata": {},
   "outputs": [
    {
     "data": {
      "text/plain": [
       "array(['0', '1', '5', '2', '6', '4', '3'], dtype=object)"
      ]
     },
     "execution_count": 26,
     "metadata": {},
     "output_type": "execute_result"
    }
   ],
   "source": [
    "df_visual_2_blue['Marker'].unique()"
   ]
  },
  {
   "cell_type": "code",
   "execution_count": 27,
   "id": "likely-stone",
   "metadata": {},
   "outputs": [],
   "source": [
    "#use numpy as another view of the pandas columns for faster operation\n",
    "marker_visual_2_blue = df_visual_2_blue['Marker'].values\n",
    "marker_visual_2_blue = marker_visual_2_blue.astype(str)\n",
    "\n",
    "### collecting\n",
    "visual_2_blue_idx = []"
   ]
  },
  {
   "cell_type": "code",
   "execution_count": null,
   "id": "seven-imaging",
   "metadata": {},
   "outputs": [],
   "source": []
  },
  {
   "cell_type": "code",
   "execution_count": 28,
   "id": "polar-unemployment",
   "metadata": {},
   "outputs": [
    {
     "name": "stderr",
     "output_type": "stream",
     "text": [
      "/root/.local/lib/python3.6/site-packages/ipykernel_launcher.py:8: SettingWithCopyWarning: \n",
      "A value is trying to be set on a copy of a slice from a DataFrame\n",
      "\n",
      "See the caveats in the documentation: https://pandas.pydata.org/pandas-docs/stable/user_guide/indexing.html#returning-a-view-versus-a-copy\n",
      "  \n"
     ]
    }
   ],
   "source": [
    "for idx, marker in enumerate(marker_visual_2_blue):\n",
    "    if marker != '0':\n",
    "#         print(m[-1])\n",
    "        if color['blue'][0] in marker or color['blue'][1] in marker:\n",
    "             #marker_visual_2_green[idx] = m[2] # get classes\n",
    "             visual_2_blue_idx.append(idx)\n",
    "        else:\n",
    "            df_visual_2_blue['Marker'][idx] = '0'\n",
    "        \n",
    "            \n",
    "\n",
    "# print(df_visual_2['Marker'].unique())\n",
    "# print(np.unique(marker_np_visual_2))\n",
    "# df_visual_2['Marker']= marker_np_visual_2"
   ]
  },
  {
   "cell_type": "code",
   "execution_count": 29,
   "id": "usual-bicycle",
   "metadata": {},
   "outputs": [
    {
     "name": "stdout",
     "output_type": "stream",
     "text": [
      "74\n"
     ]
    }
   ],
   "source": [
    "print(len(visual_2_blue_idx)) "
   ]
  },
  {
   "cell_type": "code",
   "execution_count": 30,
   "id": "competitive-assurance",
   "metadata": {},
   "outputs": [
    {
     "data": {
      "text/plain": [
       "array(['0', '2', '6'], dtype=object)"
      ]
     },
     "execution_count": 30,
     "metadata": {},
     "output_type": "execute_result"
    }
   ],
   "source": [
    "df_visual_2_blue['Marker'].unique()"
   ]
  },
  {
   "cell_type": "code",
   "execution_count": 31,
   "id": "confident-camel",
   "metadata": {},
   "outputs": [],
   "source": [
    "#visual_2_green_idx"
   ]
  },
  {
   "cell_type": "code",
   "execution_count": 32,
   "id": "straight-tracy",
   "metadata": {},
   "outputs": [
    {
     "data": {
      "text/plain": [
       "array(['2', '6'], dtype=object)"
      ]
     },
     "execution_count": 32,
     "metadata": {},
     "output_type": "execute_result"
    }
   ],
   "source": [
    "df_visual_2['Marker'][visual_2_blue_idx].unique()"
   ]
  },
  {
   "cell_type": "markdown",
   "id": "dressed-birthday",
   "metadata": {},
   "source": [
    "### 2.1.4 Visual 2 s and Cone"
   ]
  },
  {
   "cell_type": "code",
   "execution_count": null,
   "id": "prime-progressive",
   "metadata": {},
   "outputs": [],
   "source": []
  },
  {
   "cell_type": "code",
   "execution_count": 33,
   "id": "fundamental-premium",
   "metadata": {},
   "outputs": [],
   "source": [
    "df_visual_2_cone = df_visual_2.copy()"
   ]
  },
  {
   "cell_type": "code",
   "execution_count": 34,
   "id": "filled-correction",
   "metadata": {},
   "outputs": [
    {
     "data": {
      "text/plain": [
       "array(['0', '1', '5', '2', '6', '4', '3'], dtype=object)"
      ]
     },
     "execution_count": 34,
     "metadata": {},
     "output_type": "execute_result"
    }
   ],
   "source": [
    "df_visual_2_cone['Marker'].unique()"
   ]
  },
  {
   "cell_type": "code",
   "execution_count": 35,
   "id": "miniature-preserve",
   "metadata": {},
   "outputs": [],
   "source": [
    "#use numpy as another view of the pandas columns for faster operation\n",
    "marker_visual_2_cone = df_visual_2_cone['Marker'].values\n",
    "marker_visual_2_cone = marker_visual_2_cone.astype(str)\n",
    "\n",
    "### collecting\n",
    "visual_2_cone_idx = []"
   ]
  },
  {
   "cell_type": "code",
   "execution_count": null,
   "id": "rocky-motivation",
   "metadata": {},
   "outputs": [],
   "source": []
  },
  {
   "cell_type": "code",
   "execution_count": 36,
   "id": "northern-paragraph",
   "metadata": {},
   "outputs": [
    {
     "name": "stderr",
     "output_type": "stream",
     "text": [
      "/root/.local/lib/python3.6/site-packages/ipykernel_launcher.py:9: SettingWithCopyWarning: \n",
      "A value is trying to be set on a copy of a slice from a DataFrame\n",
      "\n",
      "See the caveats in the documentation: https://pandas.pydata.org/pandas-docs/stable/user_guide/indexing.html#returning-a-view-versus-a-copy\n",
      "  if __name__ == '__main__':\n"
     ]
    }
   ],
   "source": [
    "for idx, marker in enumerate(marker_visual_2_cone):\n",
    "    if marker != '0':\n",
    "#         print(m[-1])\n",
    "        if shape['cone'][0] in marker or shape['cone'][1] in marker or shape['cone'][2] in marker:\n",
    "             #marker_visual_2_green[idx] = m[2] # get classes\n",
    "             visual_2_cone_idx.append(idx)\n",
    "        \n",
    "        else:\n",
    "            df_visual_2_cone['Marker'][idx] = '0'\n",
    "\n",
    "# print(df_visual_2['Marker'].unique())\n",
    "# print(np.unique(marker_np_visual_2))\n",
    "# df_visual_2['Marker']= marker_np_visual_2"
   ]
  },
  {
   "cell_type": "code",
   "execution_count": 37,
   "id": "irish-development",
   "metadata": {},
   "outputs": [
    {
     "name": "stdout",
     "output_type": "stream",
     "text": [
      "114\n"
     ]
    }
   ],
   "source": [
    "print(len(visual_2_cone_idx)) "
   ]
  },
  {
   "cell_type": "code",
   "execution_count": 38,
   "id": "bearing-methodology",
   "metadata": {},
   "outputs": [],
   "source": [
    "#visual_2_green_idx"
   ]
  },
  {
   "cell_type": "code",
   "execution_count": 39,
   "id": "religious-letters",
   "metadata": {},
   "outputs": [
    {
     "data": {
      "text/plain": [
       "array(['2', '4', '3'], dtype=object)"
      ]
     },
     "execution_count": 39,
     "metadata": {},
     "output_type": "execute_result"
    }
   ],
   "source": [
    "df_visual_2_cone['Marker'][visual_2_cone_idx].unique()"
   ]
  },
  {
   "cell_type": "code",
   "execution_count": 40,
   "id": "developed-hartford",
   "metadata": {},
   "outputs": [
    {
     "data": {
      "text/plain": [
       "array(['0', '2', '4', '3'], dtype=object)"
      ]
     },
     "execution_count": 40,
     "metadata": {},
     "output_type": "execute_result"
    }
   ],
   "source": [
    "df_visual_2_cone['Marker'].unique()"
   ]
  },
  {
   "cell_type": "markdown",
   "id": "floating-insurance",
   "metadata": {},
   "source": [
    "### 2.1.4 Visual 2 s and Cube"
   ]
  },
  {
   "cell_type": "code",
   "execution_count": null,
   "id": "third-force",
   "metadata": {},
   "outputs": [],
   "source": []
  },
  {
   "cell_type": "code",
   "execution_count": null,
   "id": "ethical-acrobat",
   "metadata": {},
   "outputs": [],
   "source": []
  },
  {
   "cell_type": "code",
   "execution_count": 41,
   "id": "executive-astrology",
   "metadata": {},
   "outputs": [],
   "source": [
    "df_visual_2_cube = df_visual_2.copy()"
   ]
  },
  {
   "cell_type": "code",
   "execution_count": 42,
   "id": "organized-seventh",
   "metadata": {},
   "outputs": [],
   "source": [
    "#use numpy as another view of the pandas columns for faster operation\n",
    "marker_visual_2_cube = df_visual_2_cube['Marker'].values\n",
    "marker_visual_2_cube = marker_visual_2_cube.astype(str)\n",
    "\n",
    "### collecting\n",
    "visual_2_cube_idx = []"
   ]
  },
  {
   "cell_type": "code",
   "execution_count": 43,
   "id": "other-yemen",
   "metadata": {},
   "outputs": [
    {
     "data": {
      "text/plain": [
       "'4'"
      ]
     },
     "execution_count": 43,
     "metadata": {},
     "output_type": "execute_result"
    }
   ],
   "source": [
    "shape['cone'][2]"
   ]
  },
  {
   "cell_type": "code",
   "execution_count": 44,
   "id": "subjective-precipitation",
   "metadata": {},
   "outputs": [
    {
     "name": "stderr",
     "output_type": "stream",
     "text": [
      "/root/.local/lib/python3.6/site-packages/ipykernel_launcher.py:8: SettingWithCopyWarning: \n",
      "A value is trying to be set on a copy of a slice from a DataFrame\n",
      "\n",
      "See the caveats in the documentation: https://pandas.pydata.org/pandas-docs/stable/user_guide/indexing.html#returning-a-view-versus-a-copy\n",
      "  \n"
     ]
    }
   ],
   "source": [
    "for idx, marker in enumerate(marker_visual_2_cube):\n",
    "    if marker != '0':\n",
    "#         print(m[-1])\n",
    "        if shape['cube'][0] in marker or shape['cube'][1] in marker or shape['cube'][2] in marker:\n",
    "             #marker_visual_2_green[idx] = m[2] # get classes\n",
    "             visual_2_cube_idx.append(idx)\n",
    "        else:\n",
    "            df_visual_2_cube['Marker'][idx] = '0'\n",
    "        \n",
    "            \n",
    "\n",
    "# print(df_visual_2['Marker'].unique())\n",
    "# print(np.unique(marker_np_visual_2))\n",
    "# df_visual_2['Marker']= marker_np_visual_2"
   ]
  },
  {
   "cell_type": "code",
   "execution_count": 45,
   "id": "phantom-anime",
   "metadata": {},
   "outputs": [
    {
     "name": "stdout",
     "output_type": "stream",
     "text": [
      "115\n"
     ]
    }
   ],
   "source": [
    "print(len(visual_2_cube_idx)) "
   ]
  },
  {
   "cell_type": "code",
   "execution_count": 46,
   "id": "alternative-method",
   "metadata": {},
   "outputs": [],
   "source": [
    "#visual_2_green_idx"
   ]
  },
  {
   "cell_type": "code",
   "execution_count": 47,
   "id": "incorporated-parade",
   "metadata": {},
   "outputs": [
    {
     "data": {
      "text/plain": [
       "array(['1', '5', '6'], dtype=object)"
      ]
     },
     "execution_count": 47,
     "metadata": {},
     "output_type": "execute_result"
    }
   ],
   "source": [
    "df_visual_2['Marker'][visual_2_cube_idx].unique()"
   ]
  },
  {
   "cell_type": "code",
   "execution_count": 48,
   "id": "becoming-banana",
   "metadata": {},
   "outputs": [
    {
     "data": {
      "text/plain": [
       "array(['0', '1', '5', '6'], dtype=object)"
      ]
     },
     "execution_count": 48,
     "metadata": {},
     "output_type": "execute_result"
    }
   ],
   "source": [
    "df_visual_2_cube['Marker'].unique()"
   ]
  },
  {
   "cell_type": "code",
   "execution_count": null,
   "id": "ecological-participation",
   "metadata": {},
   "outputs": [],
   "source": []
  },
  {
   "cell_type": "code",
   "execution_count": 49,
   "id": "above-monday",
   "metadata": {},
   "outputs": [
    {
     "data": {
      "text/plain": [
       "array(['0', '1', '5', '2', '6', '4', '3'], dtype=object)"
      ]
     },
     "execution_count": 49,
     "metadata": {},
     "output_type": "execute_result"
    }
   ],
   "source": [
    "df_visual_2['Marker'].unique()"
   ]
  },
  {
   "cell_type": "code",
   "execution_count": 50,
   "id": "addressed-sheet",
   "metadata": {},
   "outputs": [
    {
     "data": {
      "text/plain": [
       "(array(['0', '1', '3'], dtype=object),\n",
       " array(['0', '5', '4'], dtype=object),\n",
       " array(['0', '2', '6'], dtype=object))"
      ]
     },
     "execution_count": 50,
     "metadata": {},
     "output_type": "execute_result"
    }
   ],
   "source": [
    "df_visual_2_red['Marker'].unique()  , df_visual_2_green['Marker'].unique() , df_visual_2_blue['Marker'].unique()  "
   ]
  },
  {
   "cell_type": "code",
   "execution_count": 51,
   "id": "vulnerable-projection",
   "metadata": {},
   "outputs": [
    {
     "data": {
      "text/plain": [
       "(array(['0', '1', '5', '6'], dtype=object),\n",
       " array(['0', '2', '4', '3'], dtype=object))"
      ]
     },
     "execution_count": 51,
     "metadata": {},
     "output_type": "execute_result"
    }
   ],
   "source": [
    "df_visual_2_cube['Marker'].unique() , df_visual_2_cone['Marker'].unique() "
   ]
  },
  {
   "cell_type": "code",
   "execution_count": null,
   "id": "statistical-angola",
   "metadata": {},
   "outputs": [],
   "source": []
  },
  {
   "cell_type": "markdown",
   "id": "biological-scotland",
   "metadata": {},
   "source": [
    "### 3. Save Data"
   ]
  },
  {
   "cell_type": "code",
   "execution_count": 52,
   "id": "revised-antibody",
   "metadata": {},
   "outputs": [],
   "source": [
    "# df_visual_2_red.to_pickle(\"data/pd/{par}/{file}_visual_2_red.pkl\".format(par=par, file=file))\n",
    "# df_visual_2_green.to_pickle(\"data/pd/{par}/{file}_visual_2_green.pkl\".format(par=par, file=file))\n",
    "# df_visual_2_blue.to_pickle(\"data/pd/{par}/{file}_visual_2_blue.pkl\".format(par=par, file=file))\n",
    "# df_visual_2_cube.to_pickle(\"data/pd/{par}/{file}_visual_2_cube.pkl\".format(par=par, file=file))\n",
    "# df_visual_2_cone.to_pickle(\"data/pd/{par}/{file}_visual_2_cone.pkl\".format(par=par, file=file))"
   ]
  },
  {
   "cell_type": "code",
   "execution_count": null,
   "id": "consecutive-pollution",
   "metadata": {},
   "outputs": [],
   "source": []
  }
 ],
 "metadata": {
  "kernelspec": {
   "display_name": "Python 3",
   "language": "python",
   "name": "python3"
  },
  "language_info": {
   "codemirror_mode": {
    "name": "ipython",
    "version": 3
   },
   "file_extension": ".py",
   "mimetype": "text/x-python",
   "name": "python",
   "nbconvert_exporter": "python",
   "pygments_lexer": "ipython3",
   "version": "3.6.9"
  }
 },
 "nbformat": 4,
 "nbformat_minor": 5
}
