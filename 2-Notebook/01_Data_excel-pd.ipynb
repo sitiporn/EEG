{
 "cells": [
  {
   "cell_type": "markdown",
   "id": "established-wholesale",
   "metadata": {},
   "source": [
    "## 01 Data_Excel-pd"
   ]
  },
  {
   "cell_type": "code",
   "execution_count": 11,
   "id": "liberal-christianity",
   "metadata": {},
   "outputs": [],
   "source": [
    "import numpy as np\n",
    "import pandas as pd\n",
    "import matplotlib.pyplot as plt\n",
    "import random\n",
    "from IPython.display import clear_output"
   ]
  },
  {
   "cell_type": "markdown",
   "id": "informative-hepatitis",
   "metadata": {},
   "source": [
    "#### File name"
   ]
  },
  {
   "cell_type": "code",
   "execution_count": null,
   "id": "included-violence",
   "metadata": {},
   "outputs": [],
   "source": [
    "# 1-Chaichan_1_2021-04-07-06.24.14\n",
    "# 2-Dipesh_2_2021-04-07-07.19.01\n",
    "# 3-Witoon_3_2021-04-07-08.24.44\n",
    "# 13-Suhel_1_2021-04-09-07.17.43\n",
    "# 5-Siraphat_2_2021-04-07-11.55.30\n",
    "# 6-Nuttasit_3_2021-04-07-12.34.46\n",
    "# 7-Suyogya_1_2021-04-08-08.42.34\n",
    "# 8-Alok_2_2021-04-08-09.27.31\n",
    "# 9-Flim_3_2021-04-08-10.21.20\n",
    "# 10-View_1_2021-04-08-11.03.34\n",
    "# 11-Pumphat_2_2021-04-08-12.09.09\n",
    "# 12-Nuclear_3_2021-04-09-06.37.36\n",
    "# 13-Suhel_1_2021-04-09-07.17.43\n",
    "# 14-Gon_2_2021-04-09-08.15.26\n",
    "# 15-Aung_3_2021-04-09-08.57.37\n",
    "# 16-Rom_1_2021-04-09-10.33.02\n",
    "# 17-Tawan_2_2021-04-09-11.13.20\n",
    "# 18-Arthit_3_2021-04-09-11.56.29\n",
    "# 19-Ankit_1_2021-04-09-12.27.22\n",
    "# 20-Name_2_2021-04-09-13.54.06\n",
    "# Missing"
   ]
  },
  {
   "cell_type": "markdown",
   "id": "southeast-reynolds",
   "metadata": {},
   "source": [
    "### 1. Loading Data"
   ]
  },
  {
   "cell_type": "markdown",
   "id": "tough-czech",
   "metadata": {},
   "source": [
    "#### Load CSV"
   ]
  },
  {
   "cell_type": "code",
   "execution_count": 12,
   "id": "genetic-costa",
   "metadata": {},
   "outputs": [],
   "source": [
    "par = \"par1\"\n",
    "file = \"1-Chaichan_1_2021-04-07-06.24.14\"\n",
    "path = \"../data/csv/round2/{file}.csv\".format(file = file)"
   ]
  },
  {
   "cell_type": "markdown",
   "id": "precious-virus",
   "metadata": {},
   "source": [
    "Load CSV and remove timestamps"
   ]
  },
  {
   "cell_type": "markdown",
   "id": "collect-technical",
   "metadata": {},
   "source": [
    "#### 1.1 Visual"
   ]
  },
  {
   "cell_type": "code",
   "execution_count": 13,
   "id": "acceptable-blanket",
   "metadata": {},
   "outputs": [],
   "source": [
    "df_visual = pd.read_csv(path)\n",
    "df_visual = df_visual.drop([\"timestamps\"], axis=1)"
   ]
  },
  {
   "cell_type": "markdown",
   "id": "rubber-appliance",
   "metadata": {},
   "source": [
    "#### 1.2 Imagery"
   ]
  },
  {
   "cell_type": "code",
   "execution_count": 14,
   "id": "experienced-identifier",
   "metadata": {},
   "outputs": [],
   "source": [
    "df_imagery = pd.read_csv(path)\n",
    "df_imagery = df_imagery.drop([\"timestamps\"], axis=1)\n",
    "# df_visual_1.head()"
   ]
  },
  {
   "cell_type": "markdown",
   "id": "likely-workplace",
   "metadata": {},
   "source": [
    "### 2. Checking Markers"
   ]
  },
  {
   "cell_type": "markdown",
   "id": "romance-ladder",
   "metadata": {},
   "source": [
    "Let's look at how the marker was generated.  Here is the format:\n",
    "\n",
    "- [block, trial, index, task, type] <br>\n",
    "index = 1,2,3 <br>\n",
    "task = perception(visual), imagery <br>\n",
    "type = Fixation, img_stim (last index) <br>"
   ]
  },
  {
   "cell_type": "code",
   "execution_count": 15,
   "id": "instructional-leisure",
   "metadata": {},
   "outputs": [
    {
     "name": "stdout",
     "output_type": "stream",
     "text": [
      "['0' 'Training' '1,1,Fixation' '1,1,1,perception,img_stim'\n",
      " '1,1,1,imagery,img_stim' '1,1,2,perception,img_stim'\n",
      " '1,1,2,imagery,img_stim' '1,1,3,perception,img_stim'\n",
      " '1,1,3,imagery,img_stim' '1,2,Fixation' '1,2,1,perception,img_stim'\n",
      " '1,2,1,imagery,img_stim' '1,2,2,perception,img_stim'\n",
      " '1,2,2,imagery,img_stim' '1,2,3,perception,img_stim'\n",
      " '1,2,3,imagery,img_stim' '1,3,Fixation' '1,3,1,perception,img_stim'\n",
      " '1,3,1,imagery,img_stim' '1,3,2,perception,img_stim'\n",
      " '1,3,2,imagery,img_stim' '1,3,3,perception,img_stim'\n",
      " '1,3,3,imagery,img_stim' '1,4,Fixation' '1,4,1,perception,img_stim'\n",
      " '1,4,1,imagery,img_stim' '1,4,2,perception,img_stim'\n",
      " '1,4,2,imagery,img_stim' '1,4,3,perception,img_stim'\n",
      " '1,4,3,imagery,img_stim' '1,5,Fixation' '1,5,1,perception,img_stim'\n",
      " '1,5,1,imagery,img_stim' '1,5,2,perception,img_stim'\n",
      " '1,5,2,imagery,img_stim' '1,5,3,perception,img_stim'\n",
      " '1,5,3,imagery,img_stim' '2,1,Fixation' '2,1,1,perception,img_stim'\n",
      " '2,1,1,imagery,img_stim' '2,1,2,perception,img_stim'\n",
      " '2,1,2,imagery,img_stim' '2,1,3,perception,img_stim'\n",
      " '2,1,3,imagery,img_stim' '2,2,Fixation' '2,2,1,perception,img_stim'\n",
      " '2,2,1,imagery,img_stim' '2,2,2,perception,img_stim'\n",
      " '2,2,2,imagery,img_stim' '2,2,3,perception,img_stim'\n",
      " '2,2,3,imagery,img_stim' '2,3,Fixation' '2,3,1,perception,img_stim'\n",
      " '2,3,1,imagery,img_stim' '2,3,2,perception,img_stim'\n",
      " '2,3,2,imagery,img_stim' '2,3,3,perception,img_stim'\n",
      " '2,3,3,imagery,img_stim' '2,4,Fixation' '2,4,1,perception,img_stim'\n",
      " '2,4,1,imagery,img_stim' '2,4,2,perception,img_stim'\n",
      " '2,4,2,imagery,img_stim' '2,4,3,perception,img_stim'\n",
      " '2,4,3,imagery,img_stim' '2,5,Fixation' '2,5,1,perception,img_stim'\n",
      " '2,5,1,imagery,img_stim' '2,5,2,perception,img_stim'\n",
      " '2,5,2,imagery,img_stim' '2,5,3,perception,img_stim'\n",
      " '2,5,3,imagery,img_stim' '3,1,Fixation' '3,1,1,perception,img_stim'\n",
      " '3,1,1,imagery,img_stim' '3,1,2,perception,img_stim'\n",
      " '3,1,2,imagery,img_stim' '3,1,3,perception,img_stim'\n",
      " '3,1,3,imagery,img_stim' '3,2,Fixation' '3,2,1,perception,img_stim'\n",
      " '3,2,1,imagery,img_stim' '3,2,2,perception,img_stim'\n",
      " '3,2,2,imagery,img_stim' '3,2,3,perception,img_stim'\n",
      " '3,2,3,imagery,img_stim' '3,3,Fixation' '3,3,1,perception,img_stim'\n",
      " '3,3,1,imagery,img_stim' '3,3,2,perception,img_stim'\n",
      " '3,3,2,imagery,img_stim' '3,3,3,perception,img_stim'\n",
      " '3,3,3,imagery,img_stim' '3,4,Fixation' '3,4,1,perception,img_stim'\n",
      " '3,4,1,imagery,img_stim' '3,4,2,perception,img_stim'\n",
      " '3,4,2,imagery,img_stim' '3,4,3,perception,img_stim'\n",
      " '3,4,3,imagery,img_stim' '3,5,Fixation' '3,5,1,perception,img_stim'\n",
      " '3,5,1,imagery,img_stim' '3,5,2,perception,img_stim'\n",
      " '3,5,2,imagery,img_stim' '3,5,3,perception,img_stim'\n",
      " '3,5,3,imagery,img_stim' '4,1,Fixation' '4,1,1,perception,img_stim'\n",
      " '4,1,1,imagery,img_stim' '4,1,2,perception,img_stim'\n",
      " '4,1,2,imagery,img_stim' '4,1,3,perception,img_stim'\n",
      " '4,1,3,imagery,img_stim' '4,2,Fixation' '4,2,1,perception,img_stim'\n",
      " '4,2,1,imagery,img_stim' '4,2,2,perception,img_stim'\n",
      " '4,2,2,imagery,img_stim' '4,2,3,perception,img_stim'\n",
      " '4,2,3,imagery,img_stim' '4,3,Fixation' '4,3,1,perception,img_stim'\n",
      " '4,3,1,imagery,img_stim' '4,3,2,perception,img_stim'\n",
      " '4,3,2,imagery,img_stim' '4,3,3,perception,img_stim'\n",
      " '4,3,3,imagery,img_stim' '4,4,Fixation' '4,4,1,perception,img_stim'\n",
      " '4,4,1,imagery,img_stim' '4,4,2,perception,img_stim'\n",
      " '4,4,2,imagery,img_stim' '4,4,3,perception,img_stim'\n",
      " '4,4,3,imagery,img_stim' '4,5,Fixation' '4,5,1,perception,img_stim'\n",
      " '4,5,1,imagery,img_stim' '4,5,2,perception,img_stim'\n",
      " '4,5,2,imagery,img_stim' '4,5,3,perception,img_stim'\n",
      " '4,5,3,imagery,img_stim' '5,1,Fixation' '5,1,1,perception,img_stim'\n",
      " '5,1,1,imagery,img_stim' '5,1,2,perception,img_stim'\n",
      " '5,1,2,imagery,img_stim' '5,1,3,perception,img_stim'\n",
      " '5,1,3,imagery,img_stim' '5,2,Fixation' '5,2,1,perception,img_stim'\n",
      " '5,2,1,imagery,img_stim' '5,2,2,perception,img_stim'\n",
      " '5,2,2,imagery,img_stim' '5,2,3,perception,img_stim'\n",
      " '5,2,3,imagery,img_stim' '5,3,Fixation' '5,3,1,perception,img_stim'\n",
      " '5,3,1,imagery,img_stim' '5,3,2,perception,img_stim'\n",
      " '5,3,2,imagery,img_stim' '5,3,3,perception,img_stim'\n",
      " '5,3,3,imagery,img_stim' '5,4,Fixation' '5,4,1,perception,img_stim'\n",
      " '5,4,1,imagery,img_stim' '5,4,2,perception,img_stim'\n",
      " '5,4,2,imagery,img_stim' '5,4,3,perception,img_stim'\n",
      " '5,4,3,imagery,img_stim' '5,5,Fixation' '5,5,1,perception,img_stim'\n",
      " '5,5,1,imagery,img_stim' '5,5,2,perception,img_stim'\n",
      " '5,5,2,imagery,img_stim' '5,5,3,perception,img_stim'\n",
      " '5,5,3,imagery,img_stim' '6,1,Fixation' '6,1,1,perception,img_stim'\n",
      " '6,1,1,imagery,img_stim' '6,1,2,perception,img_stim'\n",
      " '6,1,2,imagery,img_stim' '6,1,3,perception,img_stim'\n",
      " '6,1,3,imagery,img_stim' '6,2,Fixation' '6,2,1,perception,img_stim'\n",
      " '6,2,1,imagery,img_stim' '6,2,2,perception,img_stim'\n",
      " '6,2,2,imagery,img_stim' '6,2,3,perception,img_stim'\n",
      " '6,2,3,imagery,img_stim' '6,3,Fixation' '6,3,1,perception,img_stim'\n",
      " '6,3,1,imagery,img_stim' '6,3,2,perception,img_stim'\n",
      " '6,3,2,imagery,img_stim' '6,3,3,perception,img_stim'\n",
      " '6,3,3,imagery,img_stim' '6,4,Fixation' '6,4,1,perception,img_stim'\n",
      " '6,4,1,imagery,img_stim' '6,4,2,perception,img_stim'\n",
      " '6,4,2,imagery,img_stim' '6,4,3,perception,img_stim'\n",
      " '6,4,3,imagery,img_stim' '6,5,Fixation' '6,5,1,perception,img_stim'\n",
      " '6,5,1,imagery,img_stim' '6,5,2,perception,img_stim'\n",
      " '6,5,2,imagery,img_stim' '6,5,3,perception,img_stim'\n",
      " '6,5,3,imagery,img_stim' '7,1,Fixation' '7,1,1,perception,img_stim'\n",
      " '7,1,1,imagery,img_stim' '7,1,2,perception,img_stim'\n",
      " '7,1,2,imagery,img_stim' '7,1,3,perception,img_stim'\n",
      " '7,1,3,imagery,img_stim' '7,2,Fixation' '7,2,1,perception,img_stim'\n",
      " '7,2,1,imagery,img_stim' '7,2,2,perception,img_stim'\n",
      " '7,2,2,imagery,img_stim' '7,2,3,perception,img_stim'\n",
      " '7,2,3,imagery,img_stim' '7,3,Fixation' '7,3,1,perception,img_stim'\n",
      " '7,3,1,imagery,img_stim' '7,3,2,perception,img_stim'\n",
      " '7,3,2,imagery,img_stim' '7,3,3,perception,img_stim'\n",
      " '7,3,3,imagery,img_stim' '7,4,Fixation' '7,4,1,perception,img_stim'\n",
      " '7,4,1,imagery,img_stim' '7,4,2,perception,img_stim'\n",
      " '7,4,2,imagery,img_stim' '7,4,3,perception,img_stim'\n",
      " '7,4,3,imagery,img_stim' '7,5,Fixation' '7,5,1,perception,img_stim'\n",
      " '7,5,1,imagery,img_stim' '7,5,2,perception,img_stim'\n",
      " '7,5,2,imagery,img_stim' '7,5,3,perception,img_stim'\n",
      " '7,5,3,imagery,img_stim' '8,1,Fixation' '8,1,1,perception,img_stim'\n",
      " '8,1,1,imagery,img_stim' '8,1,2,perception,img_stim'\n",
      " '8,1,2,imagery,img_stim' '8,1,3,perception,img_stim'\n",
      " '8,1,3,imagery,img_stim' '8,2,Fixation' '8,2,1,perception,img_stim'\n",
      " '8,2,1,imagery,img_stim' '8,2,2,perception,img_stim'\n",
      " '8,2,2,imagery,img_stim' '8,2,3,perception,img_stim'\n",
      " '8,2,3,imagery,img_stim' '8,3,Fixation' '8,3,1,perception,img_stim'\n",
      " '8,3,1,imagery,img_stim' '8,3,2,perception,img_stim'\n",
      " '8,3,2,imagery,img_stim' '8,3,3,perception,img_stim'\n",
      " '8,3,3,imagery,img_stim' '8,4,Fixation' '8,4,1,perception,img_stim'\n",
      " '8,4,1,imagery,img_stim' '8,4,2,perception,img_stim'\n",
      " '8,4,2,imagery,img_stim' '8,4,3,perception,img_stim'\n",
      " '8,4,3,imagery,img_stim' '8,5,Fixation' '8,5,1,perception,img_stim'\n",
      " '8,5,1,imagery,img_stim' '8,5,2,perception,img_stim'\n",
      " '8,5,2,imagery,img_stim' '8,5,3,perception,img_stim'\n",
      " '8,5,3,imagery,img_stim' '9,1,Fixation' '9,1,1,perception,img_stim'\n",
      " '9,1,1,imagery,img_stim' '9,1,2,perception,img_stim'\n",
      " '9,1,2,imagery,img_stim' '9,1,3,perception,img_stim'\n",
      " '9,1,3,imagery,img_stim' '9,2,Fixation' '9,2,1,perception,img_stim'\n",
      " '9,2,1,imagery,img_stim' '9,2,2,perception,img_stim'\n",
      " '9,2,2,imagery,img_stim' '9,2,3,perception,img_stim'\n",
      " '9,2,3,imagery,img_stim' '9,3,Fixation' '9,3,1,perception,img_stim'\n",
      " '9,3,1,imagery,img_stim' '9,3,2,perception,img_stim'\n",
      " '9,3,2,imagery,img_stim' '9,3,3,perception,img_stim'\n",
      " '9,3,3,imagery,img_stim' '9,4,Fixation' '9,4,1,perception,img_stim'\n",
      " '9,4,1,imagery,img_stim' '9,4,2,perception,img_stim'\n",
      " '9,4,2,imagery,img_stim' '9,4,3,perception,img_stim'\n",
      " '9,4,3,imagery,img_stim' '9,5,Fixation' '9,5,1,perception,img_stim'\n",
      " '9,5,1,imagery,img_stim' '9,5,2,perception,img_stim'\n",
      " '9,5,2,imagery,img_stim' '9,5,3,perception,img_stim'\n",
      " '9,5,3,imagery,img_stim' '10,1,Fixation' '10,1,1,perception,img_stim'\n",
      " '10,1,1,imagery,img_stim' '10,1,2,perception,img_stim'\n",
      " '10,1,2,imagery,img_stim' '10,1,3,perception,img_stim'\n",
      " '10,1,3,imagery,img_stim' '10,2,Fixation' '10,2,1,perception,img_stim'\n",
      " '10,2,1,imagery,img_stim' '10,2,2,perception,img_stim'\n",
      " '10,2,2,imagery,img_stim' '10,2,3,perception,img_stim'\n",
      " '10,2,3,imagery,img_stim' '10,3,Fixation' '10,3,1,perception,img_stim'\n",
      " '10,3,1,imagery,img_stim' '10,3,2,perception,img_stim'\n",
      " '10,3,2,imagery,img_stim' '10,3,3,perception,img_stim'\n",
      " '10,3,3,imagery,img_stim' '10,4,Fixation' '10,4,1,perception,img_stim'\n",
      " '10,4,1,imagery,img_stim' '10,4,2,perception,img_stim'\n",
      " '10,4,2,imagery,img_stim' '10,4,3,perception,img_stim'\n",
      " '10,4,3,imagery,img_stim' '10,5,Fixation' '10,5,1,perception,img_stim'\n",
      " '10,5,1,imagery,img_stim' '10,5,2,perception,img_stim'\n",
      " '10,5,2,imagery,img_stim' '10,5,3,perception,img_stim'\n",
      " '10,5,3,imagery,img_stim']\n"
     ]
    }
   ],
   "source": [
    "print(df_visual['Marker'].unique())"
   ]
  },
  {
   "cell_type": "markdown",
   "id": "express-manor",
   "metadata": {},
   "source": [
    "Since we set our marker to have 4 info: #block, #trial, label, time.  We gonna split and get the class for the markers.   **Note that we shall reserve 0 for no event for raw mne, thus we shall represent class 0-9 using label 1-10.**"
   ]
  },
  {
   "cell_type": "markdown",
   "id": "cordless-massage",
   "metadata": {},
   "source": [
    "#### 2.1 Visual"
   ]
  },
  {
   "cell_type": "code",
   "execution_count": 16,
   "id": "sensitive-contact",
   "metadata": {},
   "outputs": [
    {
     "name": "stdout",
     "output_type": "stream",
     "text": [
      "['0' '1' '2' '3']\n"
     ]
    }
   ],
   "source": [
    "#use numpy as another view of the pandas columns for faster operation\n",
    "marker_np_visual = df_visual['Marker'].values\n",
    "marker_np_visual = marker_np_visual.astype(str)\n",
    "\n",
    "for idx, marker in enumerate(marker_np_visual):\n",
    "    if marker != '0':\n",
    "        m = marker.split(\",\")\n",
    "        if \"Fixation\" in marker:\n",
    "            marker_np_visual[idx] = 0\n",
    "        elif \"imagery\" in marker: # remove black --> visual\n",
    "            marker_np_visual[idx] = 0\n",
    "        elif \",\" in marker:\n",
    "            marker_np_visual[idx] = m[2] # get classes\n",
    "        else:\n",
    "            marker_np_visual[idx] = 0\n",
    "\n",
    "print(np.unique(marker_np_visual))\n",
    "df_visual['Marker']= marker_np_visual.astype(int)"
   ]
  },
  {
   "cell_type": "code",
   "execution_count": 17,
   "id": "extensive-bobby",
   "metadata": {},
   "outputs": [
    {
     "name": "stdout",
     "output_type": "stream",
     "text": [
      "           F3      F8     F7      F4     P3      P4      T4      T3     Fp2  \\\n",
      "Marker                                                                        \n",
      "0       40899  127539  75322  125538  57708  111195  137814  124828  108844   \n",
      "1          50      50     50      50     50      50      50      50      50   \n",
      "2          50      50     50      50     50      50      50      50      50   \n",
      "3          50      50     50      50     50      50      50      50      50   \n",
      "\n",
      "           Fp1     C4     C3      T6     T5      O1      O2  \n",
      "Marker                                                       \n",
      "0       118284  81718  86070  121589  92418  116755  133433  \n",
      "1           50     50     50      50     50      50      50  \n",
      "2           50     50     50      50     50      50      50  \n",
      "3           50     50     50      50     50      50      50  \n"
     ]
    }
   ],
   "source": [
    "print(df_visual.groupby('Marker').nunique())"
   ]
  },
  {
   "cell_type": "markdown",
   "id": "early-greenhouse",
   "metadata": {},
   "source": [
    "#### 2.2 Imagery"
   ]
  },
  {
   "cell_type": "code",
   "execution_count": 18,
   "id": "determined-corner",
   "metadata": {},
   "outputs": [
    {
     "name": "stdout",
     "output_type": "stream",
     "text": [
      "['0' '1' '2' '3']\n"
     ]
    }
   ],
   "source": [
    "#use numpy as another view of the pandas columns for faster operation\n",
    "marker_np_imagery = df_imagery['Marker'].values\n",
    "marker_np_imagery = marker_np_imagery.astype(str)\n",
    "\n",
    "for idx, marker in enumerate(marker_np_imagery):\n",
    "    if marker != '0':\n",
    "        m = marker.split(\",\")\n",
    "        if \"Fixation\" in marker:\n",
    "            marker_np_imagery[idx] = 0\n",
    "        elif \"perception\" in marker: # remove black --> visual\n",
    "            marker_np_imagery[idx] = 0\n",
    "        elif \",\" in marker:\n",
    "            marker_np_imagery[idx] = m[2] # get classes\n",
    "        else:\n",
    "            marker_np_imagery[idx] = 0\n",
    "\n",
    "print(np.unique(marker_np_imagery))\n",
    "df_imagery['Marker']= marker_np_imagery.astype(int)"
   ]
  },
  {
   "cell_type": "code",
   "execution_count": 19,
   "id": "romance-nutrition",
   "metadata": {},
   "outputs": [
    {
     "name": "stdout",
     "output_type": "stream",
     "text": [
      "           F3      F8     F7      F4     P3      P4      T4      T3     Fp2  \\\n",
      "Marker                                                                        \n",
      "0       40899  127541  75327  125541  57700  111200  137809  124826  108854   \n",
      "1          50      50     50      50     50      50      50      50      50   \n",
      "2          50      50     50      50     50      50      50      50      50   \n",
      "3          50      50     50      50     50      50      50      50      50   \n",
      "\n",
      "           Fp1     C4     C3      T6     T5      O1      O2  \n",
      "Marker                                                       \n",
      "0       118284  81725  86071  121597  92427  116759  133425  \n",
      "1           50     49     50      50     50      50      50  \n",
      "2           50     50     50      50     50      50      50  \n",
      "3           50     50     50      50     50      50      50  \n"
     ]
    }
   ],
   "source": [
    "print(df_imagery.groupby('Marker').nunique())"
   ]
  },
  {
   "cell_type": "markdown",
   "id": "textile-guidance",
   "metadata": {},
   "source": [
    "### 3. Save Data"
   ]
  },
  {
   "cell_type": "code",
   "execution_count": 20,
   "id": "empirical-nutrition",
   "metadata": {},
   "outputs": [],
   "source": [
    "df_visual.to_pickle(\"../data/pd/round2/{par}/{file}_visual.pkl\".format(par=par, file=file))\n",
    "df_imagery.to_pickle(\"../data/pd/round2/{par}/{file}_imagery.pkl\".format(par=par, file=file))"
   ]
  },
  {
   "cell_type": "code",
   "execution_count": null,
   "id": "difficult-dialogue",
   "metadata": {},
   "outputs": [],
   "source": []
  }
 ],
 "metadata": {
  "kernelspec": {
   "display_name": "Python 3",
   "language": "python",
   "name": "python3"
  },
  "language_info": {
   "codemirror_mode": {
    "name": "ipython",
    "version": 3
   },
   "file_extension": ".py",
   "mimetype": "text/x-python",
   "name": "python",
   "nbconvert_exporter": "python",
   "pygments_lexer": "ipython3",
   "version": "3.6.9"
  }
 },
 "nbformat": 4,
 "nbformat_minor": 5
}
