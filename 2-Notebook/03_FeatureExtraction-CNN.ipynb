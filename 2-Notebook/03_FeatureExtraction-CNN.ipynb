{
 "cells": [
  {
   "cell_type": "markdown",
   "metadata": {},
   "source": [
    "## 03 Feature Extraction"
   ]
  },
  {
   "cell_type": "code",
   "execution_count": 1,
   "metadata": {},
   "outputs": [],
   "source": [
    "import numpy as np\n",
    "import pandas as pd\n",
    "import matplotlib.pyplot as plt\n",
    "from IPython.display import clear_output\n",
    "import torch\n",
    "import time\n",
    "import torch\n",
    "import torch.nn as nn\n",
    "import torch.nn.functional as F\n",
    "import fnmatch\n",
    "import yaml"
   ]
  },
  {
   "cell_type": "markdown",
   "metadata": {},
   "source": [
    "#### Check GPU availability"
   ]
  },
  {
   "cell_type": "code",
   "execution_count": 2,
   "metadata": {},
   "outputs": [
    {
     "name": "stdout",
     "output_type": "stream",
     "text": [
      "Configured device:  cuda:1\n"
     ]
    }
   ],
   "source": [
    "from chosen_gpu import get_freer_gpu\n",
    "device = torch.device(get_freer_gpu()) \n",
    "print(\"Configured device: \", device)"
   ]
  },
  {
   "cell_type": "markdown",
   "metadata": {},
   "source": [
    "#### File name"
   ]
  },
  {
   "cell_type": "code",
   "execution_count": 3,
   "metadata": {},
   "outputs": [],
   "source": [
    "# 1-Chaichan_1_2021-04-07-06.24.14\n",
    "# 2-Dipesh_2_2021-04-07-07.19.01\n",
    "# 3-Witoon_3_2021-04-07-08.24.44\n",
    "# 13-Suhel_1_2021-04-09-07.17.43\n",
    "# 5-Siraphat_2_2021-04-07-11.55.30\n",
    "# 6-Nuttasit_3_2021-04-07-12.34.46\n",
    "# 7-Suyogya_1_2021-04-08-08.42.34\n",
    "# 8-Alok_2_2021-04-08-09.27.31\n",
    "# 9-Flim_3_2021-04-08-10.21.20\n",
    "# 10-View_1_2021-04-08-11.03.34\n",
    "# 11-Pumphat_2_2021-04-08-12.09.09\n",
    "# 12-Nuclear_3_2021-04-09-06.37.36\n",
    "# 13-Suhel_1_2021-04-09-07.17.43\n",
    "# 14-Gon_2_2021-04-09-08.15.26\n",
    "# 15-Aung_3_2021-04-09-08.57.37\n",
    "# 16-Rom_1_2021-04-09-10.33.02\n",
    "# 17-Tawan_2_2021-04-09-11.13.20\n",
    "# 18-Arthit_3_2021-04-09-11.56.29\n",
    "# 19-Ankit_1_2021-04-09-12.27.22\n",
    "# 20-Name_2_2021-04-09-13.54.06\n",
    "# Missing"
   ]
  },
  {
   "cell_type": "markdown",
   "metadata": {},
   "source": [
    "### 1. Loading Data"
   ]
  },
  {
   "cell_type": "code",
   "execution_count": 4,
   "metadata": {},
   "outputs": [],
   "source": [
    "par = sys.argv[1]\n",
    "file = sys.argv[2]\n",
    "# visual, imagery\n",
    "task = sys.argv[3]\n",
    "model_name = \"cnn\"\n",
    "drift = \"drift\"\n",
    "\n",
    "X = np.load('../data/preprocessed_np/round2/{par}/{drift}/{file}_{task}_X.npy'.format(par=par,drift = drift,file=file, task=task), allow_pickle=True)\n",
    "y = np.load('../data/preprocessed_np/round2/{par}/{drift}/{file}_{task}_y.npy'.format(par=par,drift = drift,file=file, task=task), allow_pickle=True)"
   ]
  },
  {
   "cell_type": "markdown",
   "metadata": {},
   "source": [
    "#### 1.1 Check shape"
   ]
  },
  {
   "cell_type": "code",
   "execution_count": 5,
   "metadata": {},
   "outputs": [
    {
     "name": "stdout",
     "output_type": "stream",
     "text": [
      "(150, 16, 49)\n",
      "(150,)\n"
     ]
    }
   ],
   "source": [
    "# [# stim, # electrod, # datapoint]\n",
    "print(X.shape)\n",
    "print(y.shape)"
   ]
  },
  {
   "cell_type": "markdown",
   "metadata": {},
   "source": [
    "#### 1.2 Plot"
   ]
  },
  {
   "cell_type": "code",
   "execution_count": 6,
   "metadata": {},
   "outputs": [],
   "source": [
    "# ### Plot to see wheter eegs have drift or not\n",
    "# print(X[100][0].shape)\n",
    "# fig, ax = plt.subplots(16,1,figsize=(20,50),sharex=True)\n",
    "\n",
    "# for i in range(data.shape[1]):\n",
    "#     ax[i].plot(X[100][i])"
   ]
  },
  {
   "cell_type": "markdown",
   "metadata": {},
   "source": [
    "### 2. Reserve data for Real TEST\n",
    "- test_size: 0.1\n",
    "- 10% of data is reserved for the real test --> X_test, y_test\n",
    "- 90% will be again divided into (train,test,val) --> X_model, y_model"
   ]
  },
  {
   "cell_type": "markdown",
   "metadata": {},
   "source": [
    "<img src=\"img/Split.jpg\" width=300 height=300 />"
   ]
  },
  {
   "cell_type": "markdown",
   "metadata": {},
   "source": [
    "#### 2.1 Reserve some data for REAL TEST"
   ]
  },
  {
   "cell_type": "code",
   "execution_count": 7,
   "metadata": {},
   "outputs": [],
   "source": [
    "from sklearn.model_selection import train_test_split\n",
    "\n",
    "X_model, X_real_test, y_model, y_real_test = train_test_split( X, y, test_size=0.1, random_state=42, stratify= y)"
   ]
  },
  {
   "cell_type": "markdown",
   "metadata": {},
   "source": [
    "##### Check if number of classes is equal"
   ]
  },
  {
   "cell_type": "code",
   "execution_count": 8,
   "metadata": {},
   "outputs": [],
   "source": [
    "def check_split(X1, X2, y1, y2, name1, name2):\n",
    "    unique1, count1 = np.unique(y1, return_counts=True)\n",
    "    unique2, count2 = np.unique(y2, return_counts=True)\n",
    "    \n",
    "    assert count1[0] == count1[1] == count1[2]\n",
    "    assert count2[0] == count2[1] == count2[2]\n",
    "    \n",
    "    print('='*20,name1,'='*20)\n",
    "    print(f\"Shape of X_{name1}: \", X1.shape)\n",
    "    print(f\"Shape of y_{name1}: \",y1.shape)\n",
    "    print(f\"Classes of y_{name1}: \",unique1)\n",
    "    print(f\"Counts of y_{name1} classes: \",count1)\n",
    "    print('='*20,name2,'='*20)\n",
    "    print(f\"Shape of X_{name2}: \",X2.shape)\n",
    "    print(f\"Shape of y_{name2}: \",y2.shape)\n",
    "    print(f\"Classes of y_{name2}: \",unique2)\n",
    "    print(f\"Counts of y_{name2} classes: \",count2)"
   ]
  },
  {
   "cell_type": "code",
   "execution_count": 9,
   "metadata": {},
   "outputs": [
    {
     "name": "stdout",
     "output_type": "stream",
     "text": [
      "==================== model ====================\n",
      "Shape of X_model:  (135, 16, 49)\n",
      "Shape of y_model:  (135,)\n",
      "Classes of y_model:  [0 1 2]\n",
      "Counts of y_model classes:  [45 45 45]\n",
      "==================== real test ====================\n",
      "Shape of X_real test:  (15, 16, 49)\n",
      "Shape of y_real test:  (15,)\n",
      "Classes of y_real test:  [0 1 2]\n",
      "Counts of y_real test classes:  [5 5 5]\n"
     ]
    }
   ],
   "source": [
    "check_split(X_model, X_real_test, y_model, y_real_test,'model','real test')"
   ]
  },
  {
   "cell_type": "markdown",
   "metadata": {},
   "source": [
    "### 3. Prepare Train Val Test Data "
   ]
  },
  {
   "cell_type": "markdown",
   "metadata": {},
   "source": [
    "- 10 can be thought of as totally new eeg records and will be used as the real evaluation of our model.\n",
    "- For X : Chunking eeg to lengh of 10 data point in each stimuli's eeg\n",
    "- For y(lebels) : Filled the lebels in y because we chunk X ( 1 stimuli into 6 chunk). We have 500 labels before but now we need 500 x 6 = 3000 labels"
   ]
  },
  {
   "cell_type": "markdown",
   "metadata": {},
   "source": [
    "#### 3.1 Chunking"
   ]
  },
  {
   "cell_type": "code",
   "execution_count": 10,
   "metadata": {},
   "outputs": [],
   "source": [
    "import sys\n",
    "np.set_printoptions(threshold=sys.maxsize)\n",
    "\n",
    "def chunk_data(data, size):\n",
    "    data_keep = data.shape[2] - (data.shape[2]%size)\n",
    "    #print(f'{data.shape}')\n",
    "    data = data[:,:,:data_keep]\n",
    "    #print(f'{data.shape}')\n",
    "    #print(data[0,0,:20])\n",
    "    data = data.reshape(-1,data.shape[1],data.shape[2]//size,size)\n",
    "    #print(f'{data.shape}')\n",
    "    #print(data[0,0,:2,:])\n",
    "    data = np.transpose(data, (0, 2, 1, 3)  )\n",
    "    #print(f'{data.shape}')\n",
    "    #print(data[0,:2,0,:])\n",
    "    return data\n",
    "\n",
    "def filled_y(y, chunk_num):\n",
    "    yy = np.array([[i] *chunk_num for i in  y ]).ravel()\n",
    "    return yy"
   ]
  },
  {
   "cell_type": "code",
   "execution_count": 11,
   "metadata": {},
   "outputs": [
    {
     "name": "stdout",
     "output_type": "stream",
     "text": [
      "=================== X ==================\n",
      "Oringinal X shape (135, 16, 49)\n",
      "Chunked X : (135, 4, 16, 10)\n",
      "Reshape X to : (540, 16, 10)\n",
      "=================== y ==================\n",
      "Shape of y : (135,)\n",
      "Shape of new y : (540,)\n"
     ]
    }
   ],
   "source": [
    "chunk_size = 10\n",
    "\n",
    "print('=================== X ==================')\n",
    "print(f'Oringinal X shape {X_model.shape}')\n",
    "X = chunk_data(X_model, chunk_size)\n",
    "print(f'Chunked X : {X.shape}') # (#stim, #chunks, #electrodes, #datapoint per chunk)\n",
    "chunk_per_stim = X.shape[1]\n",
    "X = X.reshape(-1,16,chunk_size)\n",
    "print(f'Reshape X to : {X.shape}')\n",
    "print('=================== y ==================')\n",
    "print(f'Shape of y : {y_model.shape}')\n",
    "y_filled = filled_y(y_model, chunk_per_stim)\n",
    "y = y_filled\n",
    "print(f'Shape of new y : {y.shape}')"
   ]
  },
  {
   "cell_type": "markdown",
   "metadata": {},
   "source": [
    "#### 3.2 Train Test Val Split and Prepare X and y in correct shape\n",
    "\n",
    "- For X, pytorch (if set batch_first) LSTM requires to be (batch, seq_len, features).  Thus, for us, it should be (100, 75, 16).\n",
    "- For y, nothing is special\n",
    "- So let's convert our numpy to pytorch, and then reshape using view"
   ]
  },
  {
   "cell_type": "markdown",
   "metadata": {},
   "source": [
    "##### 3.2.1 Train Test Val Split"
   ]
  },
  {
   "cell_type": "code",
   "execution_count": 12,
   "metadata": {},
   "outputs": [
    {
     "name": "stdout",
     "output_type": "stream",
     "text": [
      "==================== train ====================\n",
      "Shape of X_train:  (378, 16, 10)\n",
      "Shape of y_train:  (378,)\n",
      "Classes of y_train:  [0 1 2]\n",
      "Counts of y_train classes:  [126 126 126]\n",
      "==================== val_test ====================\n",
      "Shape of X_val_test:  (162, 16, 10)\n",
      "Shape of y_val_test:  (162,)\n",
      "Classes of y_val_test:  [0 1 2]\n",
      "Counts of y_val_test classes:  [54 54 54]\n"
     ]
    }
   ],
   "source": [
    "X_train, X_val_test, y_train, y_val_test = train_test_split( X, y, test_size=0.3, random_state=42, stratify= y)\n",
    "check_split(X_train, X_val_test, y_train, y_val_test,'train','val_test')"
   ]
  },
  {
   "cell_type": "code",
   "execution_count": 13,
   "metadata": {},
   "outputs": [
    {
     "name": "stdout",
     "output_type": "stream",
     "text": [
      "==================== val ====================\n",
      "Shape of X_val:  (108, 16, 10)\n",
      "Shape of y_val:  (108,)\n",
      "Classes of y_val:  [0 1 2]\n",
      "Counts of y_val classes:  [36 36 36]\n",
      "==================== test ====================\n",
      "Shape of X_test:  (54, 16, 10)\n",
      "Shape of y_test:  (54,)\n",
      "Classes of y_test:  [0 1 2]\n",
      "Counts of y_test classes:  [18 18 18]\n"
     ]
    }
   ],
   "source": [
    "X_val, X_test, y_val, y_test = train_test_split( X_val_test, y_val_test, test_size=0.33, random_state=42, stratify= y_val_test)\n",
    "check_split(X_val, X_test, y_val, y_test ,'val','test')"
   ]
  },
  {
   "cell_type": "markdown",
   "metadata": {},
   "source": [
    "##### 3.2.2 Convert to torch"
   ]
  },
  {
   "cell_type": "code",
   "execution_count": 14,
   "metadata": {},
   "outputs": [],
   "source": [
    "def check_torch_shape(torch_X, torch_y, name):\n",
    "    print('='*20,name,'='*20)\n",
    "    print(f\"Shape of torch_X_{name}: \",torch_X.shape)\n",
    "    print(f\"Shape of torch_y_{name}: \",torch_y.shape)    "
   ]
  },
  {
   "cell_type": "code",
   "execution_count": 15,
   "metadata": {},
   "outputs": [
    {
     "name": "stdout",
     "output_type": "stream",
     "text": [
      "==================== train ====================\n",
      "Shape of torch_X_train:  torch.Size([378, 16, 10])\n",
      "Shape of torch_y_train:  torch.Size([378, 16, 10])\n",
      "==================== val ====================\n",
      "Shape of torch_X_val:  torch.Size([108, 16, 10])\n",
      "Shape of torch_y_val:  torch.Size([108])\n",
      "==================== test ====================\n",
      "Shape of torch_X_test:  torch.Size([54, 16, 10])\n",
      "Shape of torch_y_test:  torch.Size([54])\n"
     ]
    }
   ],
   "source": [
    "torch_X_train = torch.from_numpy(X_train)\n",
    "torch_y_train = torch.from_numpy(y_train)\n",
    "check_torch_shape(torch_X_train,torch_X_train,'train')\n",
    "\n",
    "torch_X_val = torch.from_numpy(X_val)\n",
    "torch_y_val = torch.from_numpy(y_val)\n",
    "check_torch_shape(torch_X_val,torch_y_val,'val')\n",
    "\n",
    "torch_X_test = torch.from_numpy(X_test)\n",
    "torch_y_test = torch.from_numpy(y_test)\n",
    "check_torch_shape(torch_X_test,torch_y_test,'test')"
   ]
  },
  {
   "cell_type": "markdown",
   "metadata": {},
   "source": [
    "##### 3.2.3 Reshape"
   ]
  },
  {
   "cell_type": "markdown",
   "metadata": {},
   "source": [
    "CNN requires the input shape as (batch, channel, height, width)"
   ]
  },
  {
   "cell_type": "code",
   "execution_count": 16,
   "metadata": {},
   "outputs": [
    {
     "name": "stdout",
     "output_type": "stream",
     "text": [
      "Converted torch_X_train to  torch.Size([378, 16, 1, 10])\n",
      "Converted torch_X_val to  torch.Size([108, 16, 1, 10])\n",
      "Converted torch_X_test to  torch.Size([54, 16, 1, 10])\n"
     ]
    }
   ],
   "source": [
    "torch_X_train_reshaped = torch_X_train.reshape(torch_X_train.shape[0],torch_X_train.shape[1],1,torch_X_train.shape[2])\n",
    "print(\"Converted torch_X_train to \", torch_X_train_reshaped.size())\n",
    "\n",
    "torch_X_val_reshaped = torch_X_val.reshape(torch_X_val.shape[0],torch_X_val.shape[1],1,torch_X_val.shape[2])\n",
    "print(\"Converted torch_X_val to \", torch_X_val_reshaped.size())\n",
    "\n",
    "torch_X_test_reshaped = torch_X_test.reshape(torch_X_test.shape[0],torch_X_test.shape[1],1,torch_X_test.shape[2])\n",
    "print(\"Converted torch_X_test to \", torch_X_test_reshaped.size())\n"
   ]
  },
  {
   "cell_type": "markdown",
   "metadata": {},
   "source": [
    "### 4. Dataset and DataLoader"
   ]
  },
  {
   "cell_type": "code",
   "execution_count": 17,
   "metadata": {},
   "outputs": [],
   "source": [
    "from torch.utils.data import TensorDataset\n",
    "\n",
    "BATCH_SIZE = 128 #keeping it binary so it fits GPU\n",
    "\n",
    "#Train set loader\n",
    "train_dataset = TensorDataset(torch_X_train_reshaped, torch_y_train)\n",
    "train_iterator = torch.utils.data.DataLoader(dataset=train_dataset, \n",
    "                                           batch_size=BATCH_SIZE, \n",
    "                                           shuffle=True)\n",
    "#Val set loader\n",
    "val_dataset = TensorDataset(torch_X_val_reshaped, torch_y_val)\n",
    "valid_iterator = torch.utils.data.DataLoader(dataset=val_dataset, \n",
    "                                           batch_size=BATCH_SIZE, \n",
    "                                           shuffle=True)\n",
    "#Test set loader\n",
    "test_dataset = TensorDataset(torch_X_test_reshaped, torch_y_test)\n",
    "test_iterator = torch.utils.data.DataLoader(dataset=test_dataset, \n",
    "                                           batch_size=BATCH_SIZE, \n",
    "                                           shuffle=True)\n"
   ]
  },
  {
   "cell_type": "markdown",
   "metadata": {},
   "source": [
    "### 5. Training for Feature Extraction \n"
   ]
  },
  {
   "cell_type": "markdown",
   "metadata": {},
   "source": [
    "#### 5.1 Define functions for calculating time, plotting and counting model params"
   ]
  },
  {
   "cell_type": "code",
   "execution_count": 18,
   "metadata": {},
   "outputs": [],
   "source": [
    "def epoch_time(start_time, end_time):\n",
    "    elapsed_time = end_time - start_time\n",
    "    elapsed_mins = int(elapsed_time / 60)\n",
    "    elapsed_secs = int(elapsed_time - (elapsed_mins * 60))\n",
    "    return elapsed_mins, elapsed_secs\n",
    "\n",
    "def do_plot(train_losses, valid_losses):\n",
    "    plt.figure(figsize=(25,5))\n",
    "#     clear_output(wait=True)\n",
    "    plt.plot(train_losses, label='Train Loss')\n",
    "    plt.plot(valid_losses, label='Valid Loss')\n",
    "    plt.title('Train and Val loss')\n",
    "    plt.legend()\n",
    "    plt.show()\n",
    "    \n",
    "#Count the parameters for writing papers\n",
    "def count_parameters(model):\n",
    "    return sum(p.numel() for p in model.parameters() if p.requires_grad)"
   ]
  },
  {
   "cell_type": "markdown",
   "metadata": {},
   "source": [
    "#### 5.2 Define model parameters\n",
    "- Count model parameters\n",
    "- optimizer\n",
    "- loss function\n",
    "- GPU"
   ]
  },
  {
   "cell_type": "code",
   "execution_count": 19,
   "metadata": {},
   "outputs": [],
   "source": [
    "from models import EEGEncoder"
   ]
  },
  {
   "cell_type": "code",
   "execution_count": 20,
   "metadata": {},
   "outputs": [
    {
     "name": "stdout",
     "output_type": "stream",
     "text": [
      "The model EEGEncoder has 150,627 trainable parameters\n"
     ]
    }
   ],
   "source": [
    "model_EEGEncoder = EEGEncoder()\n",
    "model_EEGEncoder = model_EEGEncoder.float() #define precision as float to reduce running time\n",
    "models = [model_EEGEncoder]\n",
    "\n",
    "for model in models:\n",
    "    print(f'The model {type(model).__name__} has {count_parameters(model):,} trainable parameters')# Train the model\n"
   ]
  },
  {
   "cell_type": "markdown",
   "metadata": {},
   "source": [
    "#### 5.3 Train the model"
   ]
  },
  {
   "cell_type": "code",
   "execution_count": 21,
   "metadata": {},
   "outputs": [],
   "source": [
    "from train import train\n",
    "from evaluate import evaluate"
   ]
  },
  {
   "cell_type": "code",
   "execution_count": 22,
   "metadata": {},
   "outputs": [],
   "source": [
    "import torch.optim as optim\n",
    "\n",
    "best_valid_loss = float('inf')\n",
    "train_losses    = []\n",
    "valid_losses    = []\n",
    "\n",
    "learning_rate = 0.0001\n",
    "N_EPOCHS      = 1000          ## best is 10k\n",
    "criterion     = nn.CrossEntropyLoss()\n",
    "optimizer     = torch.optim.Adam(model.parameters(), lr=learning_rate)\n",
    "\n",
    "\n",
    "for model in models:\n",
    "    model = model.to(device)\n",
    "criterion = criterion.to(device)\n"
   ]
  },
  {
   "cell_type": "code",
   "execution_count": 23,
   "metadata": {},
   "outputs": [
    {
     "name": "stdout",
     "output_type": "stream",
     "text": [
      "Epoch: 1000/1000  |\tTrain Loss: 0.01658  | Train Acc: 99.47%  |\t Val. Loss: 0.82760  | Val. Acc: 81.48%\n"
     ]
    },
    {
     "data": {
      "image/png": "[encoded data removed]",
      "text/plain": [
       "<Figure size 1800x360 with 1 Axes>"
      ]
     },
     "metadata": {
      "needs_background": "light"
     },
     "output_type": "display_data"
    }
   ],
   "source": [
    "model.is_debug = False\n",
    "iteration = 0\n",
    "classes = np.array(('Red', 'Green', 'Blue'))\n",
    "for i, model in enumerate(models):\n",
    "    print(f\"Training {type(model).__name__}\")\n",
    "    \n",
    "    start_time = time.time()\n",
    "\n",
    "    for epoch in range(N_EPOCHS):\n",
    "        start_time = time.time()\n",
    "\n",
    "        train_loss, train_acc, train_predicted    = train(model, train_iterator, optimizer, criterion, device)\n",
    "        valid_loss, valid_acc, valid_predicted, _ = evaluate(model, valid_iterator, criterion, classes, device)\n",
    "        \n",
    "        train_losses.append(train_loss)\n",
    "        valid_losses.append(valid_loss)\n",
    "        \n",
    "        end_time = time.time()\n",
    "\n",
    "        epoch_mins, epoch_secs = epoch_time(start_time, end_time)\n",
    "        \n",
    "        iteration     += 1\n",
    "        \n",
    "        if (epoch+1) % 50 == 0:\n",
    "            clear_output(wait=True)\n",
    "            print(f'Epoch: {epoch+1:02}/{N_EPOCHS}  |',end='')\n",
    "            print(f'\\tTrain Loss: {train_loss:.5f}  | Train Acc: {train_acc:.2f}%  |', end='')\n",
    "            print(f'\\t Val. Loss: {valid_loss:.5f}  | Val. Acc: {valid_acc:.2f}%')\n",
    "            do_plot(train_losses, valid_losses)\n",
    "          \n",
    "\n",
    "        if valid_loss < best_valid_loss:\n",
    "            best_valid_loss = valid_loss\n",
    "            print(\"Model:{} saved.\".format(type(model).__name__))\n",
    "            torch.save(model.state_dict(), \"../model/feature_extraction/round2/{par}/{model_name}/{drift}/EEG_ENCODER_{task}.pt.tar\".format(par=par, model_name=model_name,drift=drift,task=task))\n",
    "            best_model_index = i"
   ]
  },
  {
   "cell_type": "markdown",
   "metadata": {},
   "source": [
    "### 6. Evaluation [Test set]\n",
    "using test set"
   ]
  },
  {
   "cell_type": "code",
   "execution_count": 24,
   "metadata": {},
   "outputs": [],
   "source": [
    "def squeeze_to_list(_tmp):\n",
    "    from functools import reduce\n",
    "    import operator\n",
    "    xx = [ i.cpu().detach().numpy().ravel().tolist() for i in _tmp]\n",
    "    xx = reduce(operator.concat, xx)\n",
    "    return xx"
   ]
  },
  {
   "cell_type": "markdown",
   "metadata": {},
   "source": [
    "#### Define classes"
   ]
  },
  {
   "cell_type": "code",
   "execution_count": 25,
   "metadata": {},
   "outputs": [
    {
     "data": {
      "text/plain": [
       "<All keys matched successfully>"
      ]
     },
     "execution_count": 25,
     "metadata": {},
     "output_type": "execute_result"
    }
   ],
   "source": [
    "classes = np.array(('Red', 'Green', 'Blue'))\n",
    "model = EEGEncoder()\n",
    "model = model.float()\n",
    "model = model.to(device)\n",
    "model.load_state_dict(torch.load('../model/feature_extraction/round2/{par}/{model_name}/{drift}/EEG_ENCODER_{task}.pt.tar'.format(par=par,model_name=model_name,drift=drift,task=task)))"
   ]
  },
  {
   "cell_type": "code",
   "execution_count": 26,
   "metadata": {},
   "outputs": [
    {
     "name": "stdout",
     "output_type": "stream",
     "text": [
      "Accuracy of   Red : 88 %\n",
      "Accuracy of Green : 88 %\n",
      "Accuracy of  Blue : 83 %\n",
      "Test Loss: 0.438 | Test Acc: 87.04%\n",
      "---------------\n",
      " (Actual y , Predicted y)\n",
      "[(1, 1), (0, 1), (1, 1), (2, 2), (1, 1), (2, 2), (1, 1), (1, 1), (2, 2), (2, 2), (1, 0), (0, 2), (0, 0), (0, 0), (1, 1), (2, 2), (2, 2), (2, 2), (2, 2), (2, 2), (0, 0), (1, 1), (1, 1), (0, 0), (1, 1), (2, 2), (0, 0), (0, 0), (1, 0), (0, 0), (2, 1), (0, 0), (0, 0), (2, 2), (0, 0), (1, 1), (1, 1), (0, 0), (1, 1), (1, 1), (1, 1), (2, 2), (0, 0), (0, 0), (2, 2), (0, 0), (2, 0), (2, 2), (2, 2), (2, 0), (0, 0), (1, 1), (0, 0), (1, 1)]\n"
     ]
    }
   ],
   "source": [
    "test_loss, test_acc , predicted, actual_labels, acc_class_test = evaluate(model, test_iterator, criterion, classes, device, test = True)\n",
    "print(f'Test Loss: {test_loss:.3f} | Test Acc: {test_acc:.2f}%')\n",
    "print(\"---------------\")\n",
    "print(\" (Actual y , Predicted y)\")\n",
    "\n",
    "y_test_t = squeeze_to_list(actual_labels)\n",
    "y_hat_test_t = squeeze_to_list(predicted)\n",
    "\n",
    "out_test = zip(y_test_t, y_hat_test_t)\n",
    "\n",
    "print(list(out_test))"
   ]
  },
  {
   "cell_type": "markdown",
   "metadata": {},
   "source": [
    "### 7. Evaluation [Real Test]"
   ]
  },
  {
   "cell_type": "code",
   "execution_count": 27,
   "metadata": {},
   "outputs": [
    {
     "name": "stdout",
     "output_type": "stream",
     "text": [
      "Chucked X_test:  (60, 16, 10)\n",
      "y_filled_test:  (60,)\n"
     ]
    }
   ],
   "source": [
    "# print(x_test)\n",
    "X_real_test = chunk_data(X_real_test, chunk_size)\n",
    "chunk_per_stim = X_real_test.shape[1]\n",
    "X_real_test = X_real_test.reshape(-1,16,chunk_size)\n",
    "y_filled_real_test = filled_y(y_real_test, chunk_per_stim)\n",
    "\n",
    "print(\"Chucked X_test: \",X_real_test.shape )\n",
    "print(\"y_filled_test: \",y_filled_real_test.shape )"
   ]
  },
  {
   "cell_type": "code",
   "execution_count": 28,
   "metadata": {},
   "outputs": [
    {
     "name": "stdout",
     "output_type": "stream",
     "text": [
      "==================== test ====================\n",
      "Shape of torch_X_test:  torch.Size([60, 16, 10])\n",
      "Shape of torch_y_test:  torch.Size([60])\n",
      "Shape of torch_X:  torch.Size([60, 16, 10])\n",
      "Shape of torch_y:  torch.Size([60])\n"
     ]
    }
   ],
   "source": [
    "torch_X_real_test = torch.from_numpy(X_real_test)\n",
    "torch_y_real_test = torch.from_numpy(y_filled_real_test)\n",
    "check_torch_shape(torch_X_real_test,torch_y_real_test,'test')\n",
    "\n",
    "print(\"Shape of torch_X: \",torch_X_real_test.shape)\n",
    "print(\"Shape of torch_y: \",torch_y_real_test.shape)"
   ]
  },
  {
   "cell_type": "code",
   "execution_count": 29,
   "metadata": {},
   "outputs": [
    {
     "name": "stdout",
     "output_type": "stream",
     "text": [
      "Converted X to  torch.Size([60, 16, 1, 10])\n"
     ]
    }
   ],
   "source": [
    "torch_X_real_test_reshaped = torch_X_real_test.reshape(torch_X_real_test.shape[0],torch_X_real_test.shape[1],1,torch_X_real_test.shape[2])\n",
    "print(\"Converted X to \", torch_X_real_test_reshaped.size())"
   ]
  },
  {
   "cell_type": "code",
   "execution_count": 30,
   "metadata": {},
   "outputs": [],
   "source": [
    "real_test_dataset = TensorDataset(torch_X_real_test_reshaped, torch_y_real_test)\n",
    "#Test set loader\n",
    "real_test_iterator = torch.utils.data.DataLoader(dataset=real_test_dataset, \n",
    "                                          batch_size=BATCH_SIZE, \n",
    "                                          shuffle=True)"
   ]
  },
  {
   "cell_type": "code",
   "execution_count": 31,
   "metadata": {},
   "outputs": [
    {
     "data": {
      "text/plain": [
       "<All keys matched successfully>"
      ]
     },
     "execution_count": 31,
     "metadata": {},
     "output_type": "execute_result"
    }
   ],
   "source": [
    "model = EEGEncoder()\n",
    "model = model.float()\n",
    "model = model.to(device)\n",
    "model.load_state_dict(torch.load('../model/feature_extraction/round2/{par}/{model_name}/{drift}/EEG_ENCODER_{task}.pt.tar'.format(par=par,model_name=model_name,drift=drift,task=task)))"
   ]
  },
  {
   "cell_type": "code",
   "execution_count": 32,
   "metadata": {},
   "outputs": [
    {
     "name": "stdout",
     "output_type": "stream",
     "text": [
      "Accuracy of   Red : 50 %\n",
      "Accuracy of Green : 20 %\n",
      "Accuracy of  Blue : 30 %\n",
      "Test Loss: 2.292 | Test Acc: 33.33%\n",
      "---------------\n",
      " (Actual y , Predicted y)\n",
      "[(1, 1), (1, 2), (0, 0), (2, 0), (0, 1), (2, 2), (2, 1), (0, 0), (1, 2), (0, 1), (1, 2), (0, 1), (1, 0), (0, 1), (2, 1), (2, 1), (2, 0), (1, 2), (1, 0), (0, 0), (2, 2), (2, 0), (0, 0), (2, 0), (1, 0), (2, 1), (2, 1), (2, 0), (1, 2), (0, 2), (0, 1), (2, 0), (2, 2), (1, 2), (1, 1), (2, 1), (0, 0), (2, 2), (1, 0), (0, 2), (0, 0), (2, 2), (0, 0), (0, 0), (2, 2), (1, 2), (0, 1), (1, 0), (1, 1), (0, 1), (0, 0), (1, 2), (2, 1), (1, 0), (0, 0), (1, 0), (1, 2), (1, 1), (0, 1), (2, 0)]\n"
     ]
    }
   ],
   "source": [
    "test_loss, real_test_acc , predicted, actual_labels, acc_class_real_test = evaluate(model, real_test_iterator, criterion, classes, device, test=True)\n",
    "print(f'Test Loss: {test_loss:.3f} | Test Acc: {real_test_acc:.2f}%')\n",
    "print(\"---------------\")\n",
    "print(\" (Actual y , Predicted y)\")\n",
    "\n",
    "y_test_rt    = squeeze_to_list(actual_labels)\n",
    "y_hat_test_rt = squeeze_to_list(predicted)\n",
    "\n",
    "out_real_test = zip(y_test_rt, y_hat_test_rt)\n",
    "\n",
    "print(list(out_real_test))"
   ]
  },
  {
   "cell_type": "markdown",
   "metadata": {},
   "source": [
    "### 8. Extracted Features\n",
    "\n",
    "- train + val"
   ]
  },
  {
   "cell_type": "code",
   "execution_count": 33,
   "metadata": {},
   "outputs": [
    {
     "name": "stdout",
     "output_type": "stream",
     "text": [
      "(486, 16, 10)\n",
      "(486,)\n"
     ]
    }
   ],
   "source": [
    "X_train_val = np.concatenate((X_train,X_val))\n",
    "y_train_val = np.concatenate((y_train,y_val))\n",
    "\n",
    "print(X_train_val.shape)\n",
    "print(y_train_val.shape)"
   ]
  },
  {
   "cell_type": "code",
   "execution_count": 34,
   "metadata": {},
   "outputs": [
    {
     "name": "stdout",
     "output_type": "stream",
     "text": [
      "==================== train_val ====================\n",
      "Shape of torch_X_train_val:  torch.Size([486, 16, 10])\n",
      "Shape of torch_y_train_val:  torch.Size([486])\n",
      "Converted X to  torch.Size([486, 16, 1, 10])\n"
     ]
    }
   ],
   "source": [
    "torch_X_train_val = torch.from_numpy(X_train_val)\n",
    "torch_y_train_val = torch.from_numpy(y_train_val)\n",
    "check_torch_shape(torch_X_train_val,torch_y_train_val,'train_val')\n",
    "\n",
    "torch_X_train_val_reshaped = torch_X_train_val.reshape(torch_X_train_val.shape[0],torch_X_train_val.shape[1],1,torch_X_train_val.shape[2])\n",
    "print(\"Converted X to \", torch_X_train_val_reshaped.size())"
   ]
  },
  {
   "cell_type": "code",
   "execution_count": 35,
   "metadata": {},
   "outputs": [],
   "source": [
    "# save extracted features\n",
    "eeg_encode = model_EEGEncoder.get_latent(torch_X_train_val_reshaped.to(device).float())\n",
    "eeg_extracted_features = eeg_encode.detach().cpu().numpy()"
   ]
  },
  {
   "cell_type": "markdown",
   "metadata": {},
   "source": [
    "### 9. SAVE"
   ]
  },
  {
   "cell_type": "code",
   "execution_count": 36,
   "metadata": {},
   "outputs": [],
   "source": [
    "# Save Real Test\n",
    "np.save(\"../data/participants/{par}/{task}/X_real_test\".format(par=par,task=task),X_real_test)\n",
    "np.save(\"../data/participants/{par}/{task}/y_real_test\".format(par=par,task=task),y_filled_real_test)\n",
    "\n",
    "# Save Train\n",
    "np.save(\"../data/participants/{par}/{task}/X_train\".format(par=par,task=task),X_train)\n",
    "np.save(\"../data/participants/{par}/{task}/y_train\".format(par=par,task=task),y_train)\n",
    "\n",
    "# Save Test\n",
    "np.save(\"../data/participants/{par}/{task}/X_test\".format(par=par,task=task),X_test)\n",
    "np.save(\"../data/participants/{par}/{task}/y_test\".format(par=par,task=task),y_test)\n",
    "\n",
    "# Save Val\n",
    "np.save(\"../data/participants/{par}/{task}/X_val\".format(par=par,task=task),X_val)\n",
    "np.save(\"../data/participants/{par}/{task}/y_val\".format(par=par,task=task),y_val)\n",
    "\n",
    "# Save Extracted Features\n",
    "np.save('../data/participants/{par}/{task}/extracted_features_X'.format(par=par,task=task), eeg_extracted_features )\n",
    "np.save('../data/participants/{par}/{task}/extracted_features_y'.format(par=par,task=task), y_train_val)"
   ]
  },
  {
   "cell_type": "markdown",
   "metadata": {},
   "source": [
    "### 10. Results"
   ]
  },
  {
   "cell_type": "code",
   "execution_count": 37,
   "metadata": {},
   "outputs": [
    {
     "name": "stdout",
     "output_type": "stream",
     "text": [
      "Train Acc:  99.47089947089947\n",
      "Valid Acc:  81.48148148148148\n",
      "Test Acc:  87.03703703703704\n",
      "==============================\n",
      "Acc per class for test\n",
      "Red: [88.88888888888889]\n",
      "Green: [88.88888888888889]\n",
      "Blue: [83.33333333333333]\n"
     ]
    }
   ],
   "source": [
    "print(\"Train Acc: \",train_acc)\n",
    "print(\"Valid Acc: \",valid_acc)\n",
    "print(\"Test Acc: \",test_acc)\n",
    "print(\"Real test Acc: \",real_test_acc)\n",
    "print('='*30)\n",
    "print(\"Acc per class for test\")\n",
    "for v,k in acc_class_test.items():\n",
    "    print(f\"{v}: {k}\")"
   ]
  },
  {
   "cell_type": "code",
   "execution_count": 38,
   "metadata": {},
   "outputs": [
    {
     "name": "stdout",
     "output_type": "stream",
     "text": [
      "Real test Acc:  33.33333333333333\n",
      "==============================\n",
      "Acc per class for real test\n",
      "Red: [50.0]\n",
      "Green: [20.0]\n",
      "Blue: [30.0]\n"
     ]
    }
   ],
   "source": [
    "print('='*30)\n",
    "print(\"Acc per class for test\")\n",
    "for v,k in acc_class_test.items():\n",
    "    print(f\"{v}: {k}\")\n",
    "    \n",
    "print('='*30)\n",
    "print(\"Acc per class for real test\")\n",
    "for v,k in acc_class_real_test.items():\n",
    "    print(f\"{v}: {k}\")"
   ]
  },
  {
   "cell_type": "code",
   "execution_count": 39,
   "metadata": {},
   "outputs": [],
   "source": [
    "# from sklearn.metrics import classification_report\n",
    "# target_names = ['R', 'G', 'B']\n",
    "# print('='*27,'TEST','='*27)\n",
    "# print(classification_report(y_test_, y_hat_test_, target_names=target_names, digits=4))\n",
    "# print('='*25,'REAL TEST','='*25)\n",
    "# print(classification_report(y_test, y_hat_test, target_names=target_names, digits=4))"
   ]
  }
 ],
 "metadata": {
  "kernelspec": {
   "display_name": "Python 3",
   "language": "python",
   "name": "python3"
  },
  "language_info": {
   "codemirror_mode": {
    "name": "ipython",
    "version": 3
   },
   "file_extension": ".py",
   "mimetype": "text/x-python",
   "name": "python",
   "nbconvert_exporter": "python",
   "pygments_lexer": "ipython3",
   "version": "3.6.9"
  }
 },
 "nbformat": 4,
 "nbformat_minor": 4
}
