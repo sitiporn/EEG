{
 "cells": [
  {
   "cell_type": "markdown",
   "metadata": {},
   "source": [
    "## 04 EEG Image Reconstruction"
   ]
  },
  {
   "cell_type": "code",
   "execution_count": 1,
   "metadata": {},
   "outputs": [],
   "source": [
    "import pandas as pd\n",
    "\n",
    "import torch\n",
    "import torch.nn as nn\n",
    "import torch.nn.functional as F\n",
    "\n",
    "from torch.utils.data import DataLoader, Dataset, TensorDataset\n",
    "from torch.optim import *\n",
    "\n",
    "import torchvision\n",
    "import torchvision.transforms as transforms\n",
    "\n",
    "import matplotlib.pyplot as plt\n",
    "import numpy as np\n",
    "\n",
    "import os\n",
    "import random\n",
    "import warnings\n",
    "warnings.filterwarnings(\"ignore\")\n",
    "\n",
    "from IPython.display import clear_output\n",
    "%matplotlib inline\n",
    "from chosen_gpu import get_freer_gpu"
   ]
  },
  {
   "cell_type": "markdown",
   "metadata": {},
   "source": [
    "#### Check GPU availability"
   ]
  },
  {
   "cell_type": "code",
   "execution_count": 2,
   "metadata": {},
   "outputs": [
    {
     "name": "stdout",
     "output_type": "stream",
     "text": [
      "Configured device:  cuda:0\n"
     ]
    }
   ],
   "source": [
    "device = torch.device(get_freer_gpu()) \n",
    "print(\"Configured device: \", device)"
   ]
  },
  {
   "cell_type": "markdown",
   "metadata": {},
   "source": [
    "### Define stuffs"
   ]
  },
  {
   "cell_type": "code",
   "execution_count": 3,
   "metadata": {},
   "outputs": [],
   "source": [
    "par = \"par1\"\n",
    "file = \"1-Chaichan_1_2021-04-07-06.24.14\" \n",
    "task = \"_visual\"\n",
    "model_name = \"cnn\"\n",
    "drift = \"drift\""
   ]
  },
  {
   "cell_type": "markdown",
   "metadata": {},
   "source": [
    "### 1. Load Data\n",
    "***"
   ]
  },
  {
   "cell_type": "markdown",
   "metadata": {},
   "source": [
    "#### 1.1 Load Stimulus Data\n",
    "\n",
    "* 1 = Red\n",
    "* 2 = Green\n",
    "* 3 = Blue"
   ]
  },
  {
   "cell_type": "code",
   "execution_count": 4,
   "metadata": {},
   "outputs": [
    {
     "name": "stdout",
     "output_type": "stream",
     "text": [
      "torch.Size([3, 3, 28, 28])\n",
      "tensor([0, 1, 2])\n"
     ]
    }
   ],
   "source": [
    "batch_size = 3 # ideal batch size ranges from 32 to 128\n",
    "image_size = 28\n",
    "img_nc     = 1\n",
    "\n",
    "trsfm = transforms.Compose([transforms.Resize(image_size), \n",
    "                            transforms.CenterCrop(image_size),\n",
    "                            transforms.ToTensor()])\n",
    "\n",
    "from PIL import Image\n",
    "real_images_fabby = torch.zeros((3,3,28,28))\n",
    "# print(real_images_fabby[0].shape)\n",
    "\n",
    "red = Image.open('../2-HCI_stimuli/stimulus/cylinder/R/1.png')\n",
    "red = trsfm(red.convert('RGB'))\n",
    "green = Image.open('../2-HCI_stimuli/stimulus/cylinder/G/2.png')\n",
    "green = trsfm(green.convert('RGB'))\n",
    "blue = Image.open('../2-HCI_stimuli/stimulus/cylinder/B/3.png')\n",
    "blue = trsfm(blue.convert('RGB'))\n",
    "\n",
    "real_images_fabby[0] = red\n",
    "real_images_fabby[1] = green\n",
    "real_images_fabby[2] = blue\n",
    "real_images = real_images_fabby\n",
    "print(real_images.shape)\n",
    "\n",
    "actual_y = [0,1,2]\n",
    "actual_y = torch.Tensor(actual_y).long()\n",
    "print(actual_y)"
   ]
  },
  {
   "cell_type": "markdown",
   "metadata": {},
   "source": [
    "#### 1.2 Load the latent EEG features and y labels\n"
   ]
  },
  {
   "cell_type": "code",
   "execution_count": 7,
   "metadata": {},
   "outputs": [
    {
     "name": "stdout",
     "output_type": "stream",
     "text": [
      "Shape of EEG_latent:  (540, 32)\n",
      "y:  [2 2 2 2 2 2 2 2 0 0 0 0 1 1 1 1 0 0 0 0]\n"
     ]
    }
   ],
   "source": [
    "# EEG_latent = np.load('../weights/HCI/EEG_feature/par1_X.npy')\n",
    "# y          = np.load('../weights/HCI/EEG_feature/par1_y.npy')\n",
    "EEG_latent = np.load('../data/extracted_features/round2/{par}/{file}{task}_X.npy'.format(par=par,file=file,task=task))\n",
    "y          = np.load('../data/extracted_features/round2/{par}/{file}{task}_y.npy'.format(par=par,file=file,task=task))\n",
    "\n",
    "print(\"Shape of EEG_latent: \",EEG_latent.shape)\n",
    "print(\"y: \",y[:20])"
   ]
  },
  {
   "cell_type": "markdown",
   "metadata": {},
   "source": [
    "##### 1.2.1 Convert to torch"
   ]
  },
  {
   "cell_type": "code",
   "execution_count": 8,
   "metadata": {},
   "outputs": [
    {
     "name": "stdout",
     "output_type": "stream",
     "text": [
      "Shape of torch_X:  torch.Size([540, 32])\n",
      "Shape of torch_y:  torch.Size([540])\n"
     ]
    }
   ],
   "source": [
    "torch_X = torch.from_numpy(EEG_latent)\n",
    "torch_y = torch.from_numpy(y)\n",
    "print(\"Shape of torch_X: \", torch_X.shape)\n",
    "print(\"Shape of torch_y: \", torch_y.shape)\n",
    "# print(torch_y)"
   ]
  },
  {
   "cell_type": "markdown",
   "metadata": {},
   "source": [
    "##### 1.2.2 Dataloader"
   ]
  },
  {
   "cell_type": "code",
   "execution_count": 9,
   "metadata": {},
   "outputs": [],
   "source": [
    "ds = TensorDataset(torch_X, torch_y)\n",
    "\n",
    "latent_loader = DataLoader(ds,\n",
    "                batch_size = batch_size,\n",
    "                drop_last  = True, # Drop the last batch if it is not enough for the batch size\n",
    "                shuffle    = True,\n",
    "                pin_memory = True) # True = copy Tensors into CUDA pinned memory before returning them"
   ]
  },
  {
   "cell_type": "code",
   "execution_count": 10,
   "metadata": {},
   "outputs": [
    {
     "name": "stdout",
     "output_type": "stream",
     "text": [
      "number of batches:  180\n",
      "Shape of latents:  torch.Size([3, 32])\n",
      "Shape of labels:  torch.Size([3])\n"
     ]
    }
   ],
   "source": [
    "dataiter        = iter(latent_loader)\n",
    "latents, labels = dataiter.next()\n",
    "print(\"number of batches: \",len(latent_loader))\n",
    "print(\"Shape of latents: \",latents.shape)\n",
    "print(\"Shape of labels: \",labels.shape)"
   ]
  },
  {
   "cell_type": "markdown",
   "metadata": {},
   "source": [
    "### 2. Define Model\n",
    "***"
   ]
  },
  {
   "cell_type": "code",
   "execution_count": 11,
   "metadata": {},
   "outputs": [],
   "source": [
    "import torch\n",
    "import torch.nn as nn\n",
    "import torch.nn.functional as F\n",
    "import fnmatch"
   ]
  },
  {
   "cell_type": "code",
   "execution_count": 12,
   "metadata": {},
   "outputs": [],
   "source": [
    "class Generator(nn.Module):\n",
    "    \"\"\"\n",
    "    Input : random noise / latent vector of any size\n",
    "    Output : Fake images same size as Real images \n",
    "    \"\"\"\n",
    "    def __init__(self, input_size, hidden_size, output_size):\n",
    "        super(Generator, self).__init__()\n",
    "        \n",
    "        self.activation = nn.LeakyReLU()\n",
    "        \n",
    "        self.fc1 = nn.Sequential (nn.Linear(input_size    , hidden_size )  , self.activation, nn.Dropout(0.3) )\n",
    "        self.fc2 = nn.Sequential (nn.Linear(hidden_size   , hidden_size*2) , self.activation, nn.Dropout(0.3) )\n",
    "        self.fc3 = nn.Sequential (nn.Linear(hidden_size*2 , hidden_size*4) , self.activation, nn.Dropout(0.3) )\n",
    "        self.fc4 = nn.Sequential (nn.Linear(hidden_size*4 , output_size )  , self.activation                  )    \n",
    "    \n",
    "    def forward(self, X, noise):\n",
    "#         print('GENERATOR')\n",
    "        X = torch.cat([X, noise], dim = 1)\n",
    "        X = self.fc1(X)\n",
    "        X = self.fc2(X)\n",
    "        X = self.fc3(X)\n",
    "        X = self.fc4(X)\n",
    "        X = X.reshape(-1, 3, 28, 28)\n",
    "        \n",
    "        return X\n",
    "    \n",
    "class Discriminator(nn.Module):\n",
    "    \"\"\"\n",
    "    Input : Real / Fake images\n",
    "    Output : Classification Real = 1 / Fake = 0\n",
    "    \"\"\"\n",
    "    def __init__(self, input_size, hidden_size):\n",
    "        super(Discriminator, self).__init__()\n",
    "        \n",
    "        self.activation = nn.LeakyReLU()\n",
    "        \n",
    "        self.fc1 = nn.Sequential (nn.Linear(input_size, hidden_size*6)      , self.activation, nn.Dropout(0.3))\n",
    "        self.fc2 = nn.Sequential (nn.Linear(hidden_size*6, hidden_size*4)   , self.activation, nn.Dropout(0.3))\n",
    "        self.fc3 = nn.Sequential (nn.Linear(hidden_size*4, hidden_size*2)   , self.activation  , nn.Dropout(0.3))\n",
    "        self.fc4 = nn.Sequential (nn.Linear((hidden_size*2)+32, hidden_size), self.activation  , nn.Dropout(0.3))\n",
    "        \n",
    "        self.fc5_0 = nn.Sequential (nn.Linear(hidden_size, 32), self.activation  , nn.Dropout(0.3) )  # for real / fake\n",
    "        self.fc5_1 = nn.Sequential (nn.Linear(32, 16), self.activation  , nn.Dropout(0.3) )\n",
    "        self.fc5_2 = nn.Sequential (nn.Linear(16, 8),self.activation  , nn.Dropout(0.3)  ) \n",
    "        self.fc5_3 = nn.Sequential (nn.Linear(8, 1)  )\n",
    "        \n",
    "        self.fc6_0 = nn.Sequential (nn.Linear(hidden_size, 32) , self.activation  , nn.Dropout(0.3)  ) # for number classification\n",
    "        self.fc6_1 = nn.Sequential (nn.Linear(32, 3) )\n",
    "    \n",
    "    def forward(self, X, latent):\n",
    "#         print('DISCRIMINATOR')\n",
    "               \n",
    "        X = X.flatten(start_dim = 1)\n",
    "\n",
    "        X = self.fc1(X)\n",
    "        X = self.fc2(X)\n",
    "        X = self.fc3(X)\n",
    "        X = torch.cat([X, latent], dim = 1)                          \n",
    "        X = self.fc4(X)\n",
    "        \n",
    "        rf_decision = self.fc5_0(X)\n",
    "        rf_decision = self.fc5_1(rf_decision)\n",
    "        rf_decision = self.fc5_2(rf_decision)\n",
    "        rf_decision = self.fc5_3(rf_decision)\n",
    "        \n",
    "        num_decision = self.fc6_0(X)\n",
    "        num_decision = self.fc6_1(num_decision)\n",
    "        \n",
    "        return rf_decision, num_decision"
   ]
  },
  {
   "cell_type": "code",
   "execution_count": 13,
   "metadata": {},
   "outputs": [],
   "source": [
    "def do_plot(d_losses, g_losses):\n",
    "    plt.figure(figsize=(25,5))\n",
    "#     clear_output(wait=True)\n",
    "    plt.plot(d_losses, label='Discriminator')\n",
    "    plt.plot(g_losses, label='Generator')\n",
    "    plt.title('GAN loss')\n",
    "    plt.legend()\n",
    "    plt.show()\n",
    "    \n",
    "def random_2D_noise(m,n):\n",
    "    \"\"\"\n",
    "    Random an 2d array of random noise\n",
    "    =======================\n",
    "    m = # of samples\n",
    "    n = # of features\n",
    "    \"\"\"\n",
    "#     mu    = 0 \n",
    "#     sigma = 1\n",
    "#     z     = np.random.normal(mu, sigma , size=[m,n])\n",
    "    z     = np.random.uniform(-1, 1, size=(m,n))\n",
    "    z     = torch.from_numpy(z).float()\n",
    "#     z     = z.to(device)\n",
    "    return z"
   ]
  },
  {
   "cell_type": "markdown",
   "metadata": {},
   "source": [
    "#### 2.1 Test Generator and discriminator"
   ]
  },
  {
   "cell_type": "code",
   "execution_count": 14,
   "metadata": {},
   "outputs": [
    {
     "name": "stdout",
     "output_type": "stream",
     "text": [
      "Shape of noise:  torch.Size([3, 16])\n",
      "Shape of fake_img:  torch.Size([3, 3, 28, 28])\n"
     ]
    }
   ],
   "source": [
    "G_net = Generator(input_size = 48, hidden_size = 96 , output_size = 2352).to(device)\n",
    "\n",
    "noise_size = 16\n",
    "noise = random_2D_noise(batch_size, noise_size)\n",
    "noise = noise.to(device)\n",
    "fake_img = G_net(latents.to(device), noise)\n",
    "\n",
    "print(\"Shape of noise: \",noise.shape)\n",
    "print(\"Shape of fake_img: \",fake_img.shape)"
   ]
  },
  {
   "cell_type": "code",
   "execution_count": 15,
   "metadata": {},
   "outputs": [
    {
     "name": "stdout",
     "output_type": "stream",
     "text": [
      "Shape of rf_decision_fake:  torch.Size([3, 1])\n",
      "Shape of num_decision_fake:  torch.Size([3, 3])\n",
      "Shape of rf_decision_real:  torch.Size([3, 1])\n",
      "Shape of num_decision_real:  torch.Size([3, 3])\n"
     ]
    }
   ],
   "source": [
    "D_net = Discriminator(input_size = 2352, hidden_size = 64).to(device)\n",
    "\n",
    "rf_decision_fake, num_decision_fake = D_net(fake_img, latents.to(device))\n",
    "print(\"Shape of rf_decision_fake: \",rf_decision_fake.shape) # r/f\n",
    "print(\"Shape of num_decision_fake: \",num_decision_fake.shape) # which class\n",
    "\n",
    "rf_decision_real, num_decision_real = D_net(real_images.to(device), latents.to(device) )\n",
    "print(\"Shape of rf_decision_real: \",rf_decision_real.shape) # r/f\n",
    "print(\"Shape of num_decision_real: \",num_decision_real.shape) # which class"
   ]
  },
  {
   "cell_type": "markdown",
   "metadata": {},
   "source": [
    "### 3. Training Parameters \n",
    "***"
   ]
  },
  {
   "cell_type": "markdown",
   "metadata": {},
   "source": [
    "#### 3.1 Models"
   ]
  },
  {
   "cell_type": "code",
   "execution_count": 16,
   "metadata": {},
   "outputs": [],
   "source": [
    "G_net = Generator(input_size = 48, hidden_size = 96 , output_size = 2352).to(device)\n",
    "D_net = Discriminator(input_size = 2352, hidden_size = 64).to(device)"
   ]
  },
  {
   "cell_type": "markdown",
   "metadata": {},
   "source": [
    "#### 3.2 Optimizers"
   ]
  },
  {
   "cell_type": "code",
   "execution_count": 17,
   "metadata": {},
   "outputs": [],
   "source": [
    "lr = 0.0002\n",
    "G_optimizer = torch.optim.Adam(G_net.parameters(), lr=lr)\n",
    "D_optimizer = torch.optim.Adam(D_net.parameters(), lr=lr)\n",
    "                 \n",
    "gamma = 0.5\n",
    "G_lr_scheduler = torch.optim.lr_scheduler.ExponentialLR(G_optimizer, gamma=gamma)\n",
    "D_lr_scheduler = torch.optim.lr_scheduler.ExponentialLR(D_optimizer, gamma=gamma)"
   ]
  },
  {
   "cell_type": "markdown",
   "metadata": {},
   "source": [
    "#### 3.3 Loss functions"
   ]
  },
  {
   "cell_type": "code",
   "execution_count": 18,
   "metadata": {},
   "outputs": [],
   "source": [
    "BCE_loss_criterion = nn.BCEWithLogitsLoss().to(device) # use with rf_decision\n",
    "d_classify_criterion = nn.CrossEntropyLoss().to(device) # use with num_decision\n",
    "lamda = 0.01\n",
    "semantic_criterion = nn.MSELoss().to(device)"
   ]
  },
  {
   "cell_type": "markdown",
   "metadata": {},
   "source": [
    "#### 3.4 Epochs"
   ]
  },
  {
   "cell_type": "code",
   "execution_count": 19,
   "metadata": {},
   "outputs": [],
   "source": [
    "# Number of iterations\n",
    "NUM_EPOCH   = 100       ## > 50 epoch\n",
    "print_every = 400\n",
    "g_best_valid_loss = float('inf')\n",
    "d_best_valid_loss = float('inf')"
   ]
  },
  {
   "cell_type": "markdown",
   "metadata": {},
   "source": [
    "#### 3.5 Plots"
   ]
  },
  {
   "cell_type": "code",
   "execution_count": 20,
   "metadata": {},
   "outputs": [],
   "source": [
    "# For plotting\n",
    "d_losses    = []\n",
    "g_losses    = []\n",
    "\n",
    "g_recon_image_list   = []\n",
    "eeg_original_labels  = []\n",
    "gd_class_decision_from_fake_image_list = []\n",
    "# samples_z = []\n",
    "\n",
    "# fixed_latent = []\n",
    "# for i in range(10):\n",
    "#     temp = latent[torch_y==i]\n",
    "#     fixed_latent.append(temp)\n",
    "\n",
    "# fixed_latent = np.array(fixed_latent[0].cpu())\n",
    "# fixed_latent = torch.from_numpy(fixed_latent).to(device).squeeze()\n",
    "# fixed_noise = create2D_noise(10, 100) # create 10 noise to check the model performance"
   ]
  },
  {
   "cell_type": "markdown",
   "metadata": {},
   "source": [
    "#### 3.6 Noise"
   ]
  },
  {
   "cell_type": "code",
   "execution_count": 21,
   "metadata": {},
   "outputs": [],
   "source": [
    "noise_size = 16\n",
    "noise_size_latent = 32"
   ]
  },
  {
   "cell_type": "markdown",
   "metadata": {},
   "source": [
    "## 6. Train"
   ]
  },
  {
   "cell_type": "code",
   "execution_count": 22,
   "metadata": {},
   "outputs": [
    {
     "name": "stdout",
     "output_type": "stream",
     "text": [
      "Epoch : 100/100 | Iteration : 17821 | d_loss: 0.000520 | g_loss: 9.382560\n"
     ]
    },
    {
     "data": {
      "image/png": "[encoded data removed]",
      "text/plain": [
       "<Figure size 1800x360 with 1 Axes>"
      ]
     },
     "metadata": {
      "needs_background": "light"
     },
     "output_type": "display_data"
    }
   ],
   "source": [
    "# set G and D in TRAIN MODE ( DO dropout )\n",
    "G_net.train()\n",
    "D_net.train()\n",
    "# noise_latent = random_2D_noise(batch_size, 32)\n",
    "# zero_latent = torch.from_numpy(np.zeros((batch_size,32) )).to(device).float()\n",
    "\n",
    "iteration = 0\n",
    "for epoch in range(NUM_EPOCH):\n",
    "    \n",
    "    for batch_i , (eeg_latent, labels ) in enumerate(latent_loader):\n",
    "        \n",
    "        G_net.train()\n",
    "        D_net.train()\n",
    "        \n",
    "        # ======== TRAIN DISCRIMINATOR ===========\n",
    "        D_net.zero_grad()\n",
    "        G_net.zero_grad()\n",
    "        D_optimizer.zero_grad()\n",
    "        \n",
    "        eeg_latent = eeg_latent.to(device)\n",
    "        labels     = labels.to(device)\n",
    "       \n",
    "        #---------- create all noises -------\n",
    "        noise_latent = random_2D_noise(batch_size, noise_size_latent)\n",
    "        noise_latent = noise_latent.to(device)\n",
    "\n",
    "        noise_d = random_2D_noise(batch_size, noise_size)\n",
    "        noise_d = noise_d.to(device)\n",
    "\n",
    "        noise_g = random_2D_noise(batch_size, noise_size)\n",
    "        noise_g = noise_g.to(device)\n",
    "        \n",
    "        #---------- Train with real image -------\n",
    "        real_images = real_images.to(device)\n",
    "        actual_y = actual_y.to(device)\n",
    "        \n",
    "        #rf_decision_real_image, num_decision_real_image = D_net(real_images, noise_latent)   \n",
    "        d_decision_out, d_class_out = D_net(real_images, noise_latent)   \n",
    "        all_real_labels = torch.from_numpy(np.ones(d_decision_out.shape)).to(device)\n",
    "        \n",
    "        d_loss_with_real_img = BCE_loss_criterion( d_decision_out  ,  all_real_labels  )\n",
    "        d_classify_loss = d_classify_criterion(     d_class_out  ,    actual_y         )\n",
    "        \n",
    "        \n",
    "        #---------- Train with fake image -------\n",
    "        d_recon_image = G_net(eeg_latent, noise_d)\n",
    "        d_decision_out, d_class_out = D_net(d_recon_image, eeg_latent) \n",
    "        all_fake_labels = torch.from_numpy(np.zeros(d_decision_out.shape)).to(device)\n",
    "        \n",
    "        d_loss_with_fake_img  = BCE_loss_criterion(d_decision_out, all_fake_labels)\n",
    "        d_loss = (d_loss_with_real_img + d_classify_loss + d_loss_with_fake_img)/3\n",
    "        \n",
    "        d_loss.backward()\n",
    "        D_optimizer.step()\n",
    "#         D_lr_scheduler.step()  \n",
    "        \n",
    "        d_losses.append(d_loss.item())\n",
    "    \n",
    "        # ======== TRAIN GENERATOR ===========\n",
    "        D_net.zero_grad()\n",
    "        G_net.zero_grad()  \n",
    "        G_optimizer.zero_grad()\n",
    "        \n",
    "        G_recon_image = G_net(eeg_latent, noise_g)\n",
    "        gd_decision_out, gd_class_decision_from_fake_image = D_net(G_recon_image , eeg_latent)\n",
    "        gd_class_decision_from_fake_image_list.append(gd_class_decision_from_fake_image)\n",
    "        \n",
    "        all_real_labels = torch.from_numpy(np.ones(gd_decision_out.shape)).to(device)\n",
    "        \n",
    "#         print('labels: ',labels)\n",
    "# #         print('actual_y: ',actual_y)\n",
    "        \n",
    "        semantic_loss = semantic_criterion(G_recon_image, real_images[labels])\n",
    "        gd_fake_rf_loss = BCE_loss_criterion(gd_decision_out, all_real_labels)\n",
    "        gd_fake_num_loss= d_classify_criterion(gd_class_decision_from_fake_image, labels)\n",
    "        \n",
    "        g_loss = (gd_fake_rf_loss + gd_fake_num_loss + (lamda*semantic_loss))/3\n",
    "\n",
    "#         g_loss = (gd_fake_rf_loss + gd_fake_num_loss)/3\n",
    "        g_loss.backward()\n",
    "        G_optimizer.step()\n",
    "#         G_lr_scheduler.step()\n",
    "        \n",
    "        g_losses.append(g_loss.item())\n",
    "        eeg_original_labels.append(labels)\n",
    "        g_recon_image_list.append(G_recon_image)\n",
    "        \n",
    "        iteration     += 1\n",
    "        \n",
    "        #--------- Display loss---------\n",
    "        if batch_i % print_every == 0:\n",
    "            clear_output(wait=True)\n",
    "            print('Epoch : {:1d}/{:1d} | Iteration : {:1d} | d_loss: {:6.6f} | g_loss: {:6.6f}'.format(epoch+1, NUM_EPOCH, iteration, d_loss.item(), g_loss.item()))\n",
    "            do_plot(d_losses, g_losses)\n",
    "\n",
    "        #------- Save Discriminator ------     \n",
    "        if d_loss < d_best_valid_loss:\n",
    "            d_best_valid_loss = d_loss\n",
    "            print(\"Discriminator saved.\")\n",
    "            torch.save(D_net.state_dict(), \"../model/our_GAN/round2/{par}/{model_name}/{drift}/DISCRIMINATOR{task}.pt.tar\".format(par=par, model_name=model_name,drift=drift,task=task))\n",
    "#             d_best_valid_loss = i\n",
    "        \n",
    "        #--------- Save Generator ---------   \n",
    "        if g_loss < g_best_valid_loss:\n",
    "            g_best_valid_loss = g_loss\n",
    "            print(\"Generator saved.\")\n",
    "            torch.save(G_net.state_dict(), \"../model/our_GAN/round2/{par}/{model_name}/{drift}/GENERATOR{task}.pt.tar\".format(par=par, model_name=model_name,drift=drift,task=task))\n",
    "#             g_best_valid_loss = i  "
   ]
  },
  {
   "cell_type": "code",
   "execution_count": 23,
   "metadata": {},
   "outputs": [],
   "source": [
    "# print(G_recon_image[-1,0].shape)\n",
    "\n",
    "# plt.imshow(G_recon_image[-2,0].cpu().detach().numpy())\n",
    "\n",
    "# print(torch.max(gd_class_decision_from_fake_image_list[-1],dim=1)[1])\n",
    "\n",
    "\n",
    "# torch.save(G_net.state_dict(), 'save/Generator_dict_0.5s.tar')\n",
    "# torch.save(D_net.state_dict(), 'save/Discriminator_dict_0.5s.tar')"
   ]
  },
  {
   "cell_type": "markdown",
   "metadata": {},
   "source": [
    "### 7. Display stim reconstruct of last batch\n",
    "***"
   ]
  },
  {
   "cell_type": "code",
   "execution_count": 24,
   "metadata": {},
   "outputs": [
    {
     "name": "stdout",
     "output_type": "stream",
     "text": [
      "18000\n",
      "Y oringinal tensor([2, 1, 1], device='cuda:0')\n",
      "Y predicted tensor([2, 1, 1], device='cuda:0')\n",
      "\u001b[1m\u001b[34mGenerated image of last batch\u001b[0m\n"
     ]
    },
    {
     "data": {
      "text/plain": [
       "(-0.5, 83.5, 27.5, -0.5)"
      ]
     },
     "execution_count": 24,
     "metadata": {},
     "output_type": "execute_result"
    },
    {
     "data": {
      "image/png": "[encoded data removed]",
      "text/plain": [
       "<Figure size 1440x7200 with 1 Axes>"
      ]
     },
     "metadata": {
      "needs_background": "light"
     },
     "output_type": "display_data"
    }
   ],
   "source": [
    "## Display stim reconstruct of last batch\n",
    "\n",
    "from torchvision.utils import make_grid\n",
    "from termcolor import colored\n",
    "\n",
    "\n",
    "print(len(g_recon_image_list))\n",
    "\n",
    "batch_to_display = 1\n",
    "\n",
    "images = g_recon_image_list[-batch_to_display]\n",
    "images = images.cpu()\n",
    "images = images.reshape(-1, 3, 28, 28)\n",
    "print(f'Y oringinal {eeg_original_labels[-batch_to_display]}')\n",
    "print(f'Y predicted {torch.max(gd_class_decision_from_fake_image_list[-batch_to_display],dim=1)[1]}')\n",
    "print(colored(\"Generated image of last batch\",\"blue\", attrs=['bold']))\n",
    "grid     = make_grid(images, nrow=10, normalize=True, padding=0)\n",
    "fig, ax = plt.subplots(figsize=(20,100))\n",
    "ax.imshow(grid.permute(1, 2, 0).data)\n",
    "ax.axis('off')"
   ]
  },
  {
   "cell_type": "markdown",
   "metadata": {},
   "source": [
    "### 8. Evaluate\n",
    "***\n",
    "Test pipline:\n",
    "\n",
    "eeg_test_set --> encoder--> latent --> Generator --> reconstructed_image --> Discriminator --> h_hat (class) --> calculate accuracy"
   ]
  },
  {
   "cell_type": "code",
   "execution_count": 25,
   "metadata": {},
   "outputs": [],
   "source": [
    "class EEGEncoder(nn.Module):\n",
    "    '''\n",
    "    Expected Input Shape: (batch, channels, height , width)\n",
    "    '''\n",
    "    def __init__(self):\n",
    "        super().__init__()\n",
    "        \n",
    "        self.activation = nn.Tanh()\n",
    "        \n",
    "        self.conv1 = nn.Sequential(    nn.Conv1d(16, 32, kernel_size=(1,3),   padding=(0,0), stride=(1,1))  ,  self.activation )\n",
    "        self.conv2 = nn.Sequential(    nn.Conv1d(32, 64, kernel_size=(1,3) ,  padding=(0,0), stride=(1,1))  ,  self.activation )\n",
    "        # nn.Linear(XY,256) need to be changed!\n",
    "        self.fc1   = nn.Sequential(    nn.Linear(384,256),  self.activation ,nn.Dropout(0.1)   ,nn.BatchNorm1d(256)   )\n",
    "        self.fc2   = nn.Sequential(    nn.Linear(256,128),  self.activation ,nn.Dropout(0.1)   ,nn.BatchNorm1d(128) )\n",
    "        self.fc3   = nn.Sequential(    nn.Linear(128,64),  self.activation  ,nn.Dropout(0.1)   ,nn.BatchNorm1d(64) )\n",
    "        self.fc4   = nn.Sequential(    nn.Linear(64,32),  self.activation   ,nn.Dropout(0.1)   ,nn.BatchNorm1d(32) )\n",
    "        self.fc5   = nn.Sequential(    nn.Linear(32,3)   )\n",
    "\n",
    "        \n",
    "        \n",
    "    \n",
    "        self.is_debug= False\n",
    "        \n",
    "    def encode(self, X):\n",
    "        if self.is_debug  : print('--------Convolute--------'); print(X.shape) \n",
    "            \n",
    "        X = self.conv1(X)\n",
    "        if self.is_debug  : print(X.shape) \n",
    "            \n",
    "        X = self.conv2(X)\n",
    "        if self.is_debug  : print(X.shape) \n",
    "            \n",
    "        X = X.flatten(start_dim = 1)\n",
    "\n",
    "        X = self.fc1(X)\n",
    "        if self.is_debug : print('--------Flatten--------') ; print(X.shape) \n",
    "\n",
    "        X = self.fc2(X)\n",
    "        if self.is_debug  : print(X.shape) \n",
    "\n",
    "        X = self.fc3(X)\n",
    "        if self.is_debug  : print(X.shape) \n",
    "        \n",
    "        X = self.fc4(X)\n",
    "        if self.is_debug  : print(X.shape) \n",
    "\n",
    "        X = self.fc5(X)\n",
    "        if self.is_debug  : print(X.shape)          \n",
    "        return X\n",
    "        \n",
    "    def forward(self,X):\n",
    "        X = self.encode(X)\n",
    "        return X\n",
    "    \n",
    "    def get_latent( self, X):\n",
    "        if self.is_debug  : print('--------Convolute--------'); print(X.shape) \n",
    "            \n",
    "        X = self.conv1(X)\n",
    "        if self.is_debug  : print(X.shape) \n",
    "            \n",
    "        X = self.conv2(X)\n",
    "        if self.is_debug  : print(X.shape) \n",
    "            \n",
    "        X = X.flatten(start_dim = 1)\n",
    "        if self.is_debug  : print('--------Flatten--------') ; print(X.shape) \n",
    " \n",
    "        X = self.fc1(X)\n",
    "        if self.is_debug : print('--------Flatten--------') ; print(X.shape) \n",
    "\n",
    "        X = self.fc2(X)\n",
    "        if self.is_debug  : print(X.shape) \n",
    "\n",
    "        X = self.fc3(X)\n",
    "        if self.is_debug  : print(X.shape) \n",
    "        \n",
    "        X = self.fc4(X)\n",
    "        if self.is_debug  : print(X.shape) \n",
    "        \n",
    "        return X\n",
    "    \n",
    "    def classifier(self, latent):\n",
    "        return self.fc5(latent)"
   ]
  },
  {
   "cell_type": "code",
   "execution_count": 26,
   "metadata": {},
   "outputs": [],
   "source": [
    "### load X_test, labels\n",
    "# X_test            = torch.load('save/eeg_X_test_0.5.pt.tar')\n",
    "X_test_np = np.load('../data/real_test_np/{par}/X_test{task}.npy'.format(par=par,task=task))\n",
    "y_test_np = np.load('../data/real_test_np/{par}/y_test{task}.npy'.format(par=par,task=task))\n",
    "X_test = torch.from_numpy(X_test_np)\n",
    "X_test_reshaped = X_test.reshape(X_test.shape[0],X_test.shape[1],1,X_test.shape[2])\n",
    "y_test = torch.from_numpy(y_test_np)\n",
    "ds = TensorDataset(X_test_reshaped, y_test)\n",
    "real_test_loader = torch.utils.data.DataLoader(ds, batch_size=6)\n",
    "itertest = iter(real_test_loader)\n",
    "eeg_X_test , labels = itertest.next()\n",
    "eeg_X_test = eeg_X_test.to(device).float()\n",
    "labels     = labels.to(device)"
   ]
  },
  {
   "cell_type": "code",
   "execution_count": 27,
   "metadata": {},
   "outputs": [],
   "source": [
    "### Feed eeg to encoder\n",
    "# model_eeg_encoder = torch.load('save/model_EEGEncoder_network_0.5s.pt.tar').to(device)\n",
    "model_eeg_encoder = EEGEncoder()\n",
    "model_eeg_encoder.load_state_dict(torch.load('../model/feature_extraction/round2/{par}/{model_name}/{drift}/EEG_ENCODER{task}.pt.tar'.format(par=par,model_name=model_name,drift=drift,task=task)))#.to(device)\n",
    "model_eeg_encoder.eval().to(device)\n",
    "X_test_latent     = model_eeg_encoder.get_latent(eeg_X_test)"
   ]
  },
  {
   "cell_type": "code",
   "execution_count": 28,
   "metadata": {},
   "outputs": [],
   "source": [
    "### Feed latent to Generator\n",
    "G_net_test       = Generator(input_size = 48, hidden_size = 96, output_size = 2352).to(device)\n",
    "G_net_test.eval()\n",
    "noise            = random_2D_noise(X_test_latent.shape[0], noise_size)\n",
    "noise = noise.to(device)\n",
    "G_net_test.eval()\n",
    "G_net_test.load_state_dict(torch.load('../model/our_GAN/round2/{par}/{model_name}/{drift}/GENERATOR{task}.pt.tar'.format(par=par,model_name=model_name,drift=drift,task=task)))\n",
    "g_imag_recon     = G_net_test(X_test_latent, noise)\n"
   ]
  },
  {
   "cell_type": "code",
   "execution_count": 29,
   "metadata": {},
   "outputs": [],
   "source": [
    "\n",
    "#### Feed image reconstruction to discriminator\n",
    "D_net_test      = Discriminator(input_size = 2352, hidden_size = 64 ).to(device)\n",
    "D_net_test.eval()\n",
    "D_net_test.load_state_dict(torch.load('../model/our_GAN/round2/{par}/{model_name}/{drift}/DISCRIMINATOR{task}.pt.tar'.format(par=par,model_name=model_name,drift=drift,task=task)))\n",
    "d_test_decision , d_class_decision_from_fake_image = D_net(g_imag_recon , X_test_latent)\n"
   ]
  },
  {
   "cell_type": "code",
   "execution_count": 30,
   "metadata": {},
   "outputs": [
    {
     "name": "stdout",
     "output_type": "stream",
     "text": [
      "Generator won scrore  :\t 0.0000 %\n"
     ]
    }
   ],
   "source": [
    "# Generator Cheating score\n",
    "sigmoid        = nn.Sigmoid()\n",
    "decision       = torch.round(sigmoid(d_test_decision))\n",
    "decision       = decision.cpu().detach().numpy()\n",
    "generator_won  = np.count_nonzero(decision)*100/decision.shape[0]\n",
    "print(f'Generator won scrore  :\\t {generator_won:4.4f} %')\n"
   ]
  },
  {
   "cell_type": "code",
   "execution_count": 31,
   "metadata": {},
   "outputs": [
    {
     "name": "stdout",
     "output_type": "stream",
     "text": [
      "Classifier accuracy   :\t 50.0000 %\n"
     ]
    }
   ],
   "source": [
    "# Accuracy of class decision\n",
    "LogSoftMax     = nn.LogSoftmax()\n",
    "d_class        = LogSoftMax(d_class_decision_from_fake_image)\n",
    "_ , d_class    = torch.max(d_class, dim=1)\n",
    "class_correct  = (d_class == labels).sum().item()  #.item() give the raw number\n",
    "class_acc      = 100 * (class_correct / len(labels))\n",
    "print(f'Classifier accuracy   :\\t {class_acc:4.4f} %')"
   ]
  },
  {
   "cell_type": "code",
   "execution_count": 32,
   "metadata": {},
   "outputs": [],
   "source": [
    "torch.cuda.empty_cache()"
   ]
  }
 ],
 "metadata": {
  "kernelspec": {
   "display_name": "Python 3",
   "language": "python",
   "name": "python3"
  },
  "language_info": {
   "codemirror_mode": {
    "name": "ipython",
    "version": 3
   },
   "file_extension": ".py",
   "mimetype": "text/x-python",
   "name": "python",
   "nbconvert_exporter": "python",
   "pygments_lexer": "ipython3",
   "version": "3.6.9"
  }
 },
 "nbformat": 4,
 "nbformat_minor": 4
}
