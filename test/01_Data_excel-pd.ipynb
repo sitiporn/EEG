{
 "cells": [
  {
   "cell_type": "markdown",
<<<<<<< HEAD
   "id": "developed-trainer",
=======
   "id": "destroyed-warehouse",
>>>>>>> c90928df5a778a0a15bfe822bd2e9900be7e7ec0
   "metadata": {},
   "source": [
    "## 01 Data_Excel-pd"
   ]
  },
  {
   "cell_type": "code",
<<<<<<< HEAD
   "execution_count": 1,
   "id": "charitable-ordinary",
=======
   "execution_count": 31,
   "id": "grateful-hypothetical",
>>>>>>> c90928df5a778a0a15bfe822bd2e9900be7e7ec0
   "metadata": {},
   "outputs": [],
   "source": [
    "import numpy as np\n",
    "import pandas as pd\n",
    "import matplotlib.pyplot as plt\n",
    "import random\n",
    "from IPython.display import clear_output"
   ]
  },
  {
   "cell_type": "markdown",
<<<<<<< HEAD
   "id": "cosmetic-consistency",
=======
   "id": "decreased-mediterranean",
>>>>>>> c90928df5a778a0a15bfe822bd2e9900be7e7ec0
   "metadata": {},
   "source": [
    "### 1. Loading Data"
   ]
  },
  {
   "cell_type": "markdown",
<<<<<<< HEAD
   "id": "weighted-concept",
=======
   "id": "solar-underground",
>>>>>>> c90928df5a778a0a15bfe822bd2e9900be7e7ec0
   "metadata": {},
   "source": [
    "#### Load CSV"
   ]
  },
  {
   "cell_type": "code",
<<<<<<< HEAD
   "execution_count": 2,
   "id": "chronic-granny",
   "metadata": {},
   "outputs": [],
   "source": [
    "par = \"par17\"\n",
    "file = \"17-Tawan_2_2021-04-09-11.13.20\"\n",
    "path = \"../data/csv/round2/{file}.csv\".format(file = file)"
=======
   "execution_count": 32,
   "id": "coordinated-petersburg",
   "metadata": {},
   "outputs": [],
   "source": [
    "par = \"par1\"\n",
    "file = \"1-Chaichan_1_2021-04-07-06.24.14\"\n",
    "path = \"../data/{file}.csv\".format(file = file)"
>>>>>>> c90928df5a778a0a15bfe822bd2e9900be7e7ec0
   ]
  },
  {
   "cell_type": "markdown",
<<<<<<< HEAD
   "id": "hidden-percentage",
=======
   "id": "assigned-luxembourg",
>>>>>>> c90928df5a778a0a15bfe822bd2e9900be7e7ec0
   "metadata": {},
   "source": [
    "Load CSV and remove timestamps"
   ]
  },
  {
   "cell_type": "markdown",
<<<<<<< HEAD
   "id": "fifty-genealogy",
=======
   "id": "global-listening",
>>>>>>> c90928df5a778a0a15bfe822bd2e9900be7e7ec0
   "metadata": {},
   "source": [
    "#### 1.1 Visual"
   ]
  },
  {
   "cell_type": "code",
<<<<<<< HEAD
   "execution_count": 3,
   "id": "clean-denver",
=======
   "execution_count": 33,
   "id": "economic-charleston",
>>>>>>> c90928df5a778a0a15bfe822bd2e9900be7e7ec0
   "metadata": {},
   "outputs": [],
   "source": [
    "df_visual = pd.read_csv(path)\n",
    "df_visual = df_visual.drop([\"timestamps\"], axis=1)"
   ]
  },
  {
   "cell_type": "markdown",
<<<<<<< HEAD
   "id": "horizontal-proposal",
=======
   "id": "beautiful-aging",
>>>>>>> c90928df5a778a0a15bfe822bd2e9900be7e7ec0
   "metadata": {},
   "source": [
    "#### 1.2 Imagery"
   ]
  },
  {
   "cell_type": "code",
<<<<<<< HEAD
   "execution_count": 4,
   "id": "emotional-sacramento",
=======
   "execution_count": 34,
   "id": "hydraulic-custom",
>>>>>>> c90928df5a778a0a15bfe822bd2e9900be7e7ec0
   "metadata": {},
   "outputs": [],
   "source": [
    "df_imagery = pd.read_csv(path)\n",
    "df_imagery = df_imagery.drop([\"timestamps\"], axis=1)\n",
    "# df_visual_1.head()"
   ]
  },
  {
   "cell_type": "markdown",
<<<<<<< HEAD
   "id": "roman-jesus",
=======
   "id": "toxic-restoration",
>>>>>>> c90928df5a778a0a15bfe822bd2e9900be7e7ec0
   "metadata": {},
   "source": [
    "### 2. Checking Markers"
   ]
  },
  {
   "cell_type": "markdown",
<<<<<<< HEAD
   "id": "falling-portugal",
=======
   "id": "american-helicopter",
>>>>>>> c90928df5a778a0a15bfe822bd2e9900be7e7ec0
   "metadata": {},
   "source": [
    "Let's look at how the marker was generated.  Here is the format:\n",
    "\n",
    "- [block, trial, index, task, type] <br>\n",
    "index = 1,2,3 <br>\n",
    "task = perception(visual), imagery <br>\n",
    "type = Fixation, img_stim (last index) <br>"
   ]
  },
  {
   "cell_type": "code",
<<<<<<< HEAD
   "execution_count": 5,
   "id": "embedded-mills",
=======
   "execution_count": 35,
   "id": "democratic-adaptation",
>>>>>>> c90928df5a778a0a15bfe822bd2e9900be7e7ec0
   "metadata": {},
   "outputs": [
    {
     "output_type": "stream",
     "name": "stdout",
     "text": [
      "['0' 'Training' '1,1,Fixation' '1,1,1,perception,img_stim'\n '1,1,1,imagery,img_stim' '1,1,2,perception,img_stim'\n '1,1,2,imagery,img_stim' '1,1,3,perception,img_stim'\n '1,1,3,imagery,img_stim' '1,2,Fixation' '1,2,1,perception,img_stim'\n '1,2,1,imagery,img_stim' '1,2,2,perception,img_stim'\n '1,2,2,imagery,img_stim' '1,2,3,perception,img_stim'\n '1,2,3,imagery,img_stim' '1,3,Fixation' '1,3,1,perception,img_stim'\n '1,3,1,imagery,img_stim' '1,3,2,perception,img_stim'\n '1,3,2,imagery,img_stim' '1,3,3,perception,img_stim'\n '1,3,3,imagery,img_stim' '1,4,Fixation' '1,4,1,perception,img_stim'\n '1,4,1,imagery,img_stim' '1,4,2,perception,img_stim'\n '1,4,2,imagery,img_stim' '1,4,3,perception,img_stim'\n '1,4,3,imagery,img_stim' '1,5,Fixation' '1,5,1,perception,img_stim'\n '1,5,1,imagery,img_stim' '1,5,2,perception,img_stim'\n '1,5,2,imagery,img_stim' '1,5,3,perception,img_stim'\n '1,5,3,imagery,img_stim' '2,1,Fixation' '2,1,1,perception,img_stim'\n '2,1,1,imagery,img_stim' '2,1,2,perception,img_stim'\n '2,1,2,imagery,img_stim' '2,1,3,perception,img_stim'\n '2,1,3,imagery,img_stim' '2,2,Fixation' '2,2,1,perception,img_stim'\n '2,2,1,imagery,img_stim' '2,2,2,perception,img_stim'\n '2,2,2,imagery,img_stim' '2,2,3,perception,img_stim'\n '2,2,3,imagery,img_stim' '2,3,Fixation' '2,3,1,perception,img_stim'\n '2,3,1,imagery,img_stim' '2,3,2,perception,img_stim'\n '2,3,2,imagery,img_stim' '2,3,3,perception,img_stim'\n '2,3,3,imagery,img_stim' '2,4,Fixation' '2,4,1,perception,img_stim'\n '2,4,1,imagery,img_stim' '2,4,2,perception,img_stim'\n '2,4,2,imagery,img_stim' '2,4,3,perception,img_stim'\n '2,4,3,imagery,img_stim' '2,5,Fixation' '2,5,1,perception,img_stim'\n '2,5,1,imagery,img_stim' '2,5,2,perception,img_stim'\n '2,5,2,imagery,img_stim' '2,5,3,perception,img_stim'\n '2,5,3,imagery,img_stim' '3,1,Fixation' '3,1,1,perception,img_stim'\n '3,1,1,imagery,img_stim' '3,1,2,perception,img_stim'\n '3,1,2,imagery,img_stim' '3,1,3,perception,img_stim'\n '3,1,3,imagery,img_stim' '3,2,Fixation' '3,2,1,perception,img_stim'\n '3,2,1,imagery,img_stim' '3,2,2,perception,img_stim'\n '3,2,2,imagery,img_stim' '3,2,3,perception,img_stim'\n '3,2,3,imagery,img_stim' '3,3,Fixation' '3,3,1,perception,img_stim'\n '3,3,1,imagery,img_stim' '3,3,2,perception,img_stim'\n '3,3,2,imagery,img_stim' '3,3,3,perception,img_stim'\n '3,3,3,imagery,img_stim' '3,4,Fixation' '3,4,1,perception,img_stim'\n '3,4,1,imagery,img_stim' '3,4,2,perception,img_stim'\n '3,4,2,imagery,img_stim' '3,4,3,perception,img_stim'\n '3,4,3,imagery,img_stim' '3,5,Fixation' '3,5,1,perception,img_stim'\n '3,5,1,imagery,img_stim' '3,5,2,perception,img_stim'\n '3,5,2,imagery,img_stim' '3,5,3,perception,img_stim'\n '3,5,3,imagery,img_stim' '4,1,Fixation' '4,1,1,perception,img_stim'\n '4,1,1,imagery,img_stim' '4,1,2,perception,img_stim'\n '4,1,2,imagery,img_stim' '4,1,3,perception,img_stim'\n '4,1,3,imagery,img_stim' '4,2,Fixation' '4,2,1,perception,img_stim'\n '4,2,1,imagery,img_stim' '4,2,2,perception,img_stim'\n '4,2,2,imagery,img_stim' '4,2,3,perception,img_stim'\n '4,2,3,imagery,img_stim' '4,3,Fixation' '4,3,1,perception,img_stim'\n '4,3,1,imagery,img_stim' '4,3,2,perception,img_stim'\n '4,3,2,imagery,img_stim' '4,3,3,perception,img_stim'\n '4,3,3,imagery,img_stim' '4,4,Fixation' '4,4,1,perception,img_stim'\n '4,4,1,imagery,img_stim' '4,4,2,perception,img_stim'\n '4,4,2,imagery,img_stim' '4,4,3,perception,img_stim'\n '4,4,3,imagery,img_stim' '4,5,Fixation' '4,5,1,perception,img_stim'\n '4,5,1,imagery,img_stim' '4,5,2,perception,img_stim'\n '4,5,2,imagery,img_stim' '4,5,3,perception,img_stim'\n '4,5,3,imagery,img_stim' '5,1,Fixation' '5,1,1,perception,img_stim'\n '5,1,1,imagery,img_stim' '5,1,2,perception,img_stim'\n '5,1,2,imagery,img_stim' '5,1,3,perception,img_stim'\n '5,1,3,imagery,img_stim' '5,2,Fixation' '5,2,1,perception,img_stim'\n '5,2,1,imagery,img_stim' '5,2,2,perception,img_stim'\n '5,2,2,imagery,img_stim' '5,2,3,perception,img_stim'\n '5,2,3,imagery,img_stim' '5,3,Fixation' '5,3,1,perception,img_stim'\n '5,3,1,imagery,img_stim' '5,3,2,perception,img_stim'\n '5,3,2,imagery,img_stim' '5,3,3,perception,img_stim'\n '5,3,3,imagery,img_stim' '5,4,Fixation' '5,4,1,perception,img_stim'\n '5,4,1,imagery,img_stim' '5,4,2,perception,img_stim'\n '5,4,2,imagery,img_stim' '5,4,3,perception,img_stim'\n '5,4,3,imagery,img_stim' '5,5,Fixation' '5,5,1,perception,img_stim'\n '5,5,1,imagery,img_stim' '5,5,2,perception,img_stim'\n '5,5,2,imagery,img_stim' '5,5,3,perception,img_stim'\n '5,5,3,imagery,img_stim' '6,1,Fixation' '6,1,1,perception,img_stim'\n '6,1,1,imagery,img_stim' '6,1,2,perception,img_stim'\n '6,1,2,imagery,img_stim' '6,1,3,perception,img_stim'\n '6,1,3,imagery,img_stim' '6,2,Fixation' '6,2,1,perception,img_stim'\n '6,2,1,imagery,img_stim' '6,2,2,perception,img_stim'\n '6,2,2,imagery,img_stim' '6,2,3,perception,img_stim'\n '6,2,3,imagery,img_stim' '6,3,Fixation' '6,3,1,perception,img_stim'\n '6,3,1,imagery,img_stim' '6,3,2,perception,img_stim'\n '6,3,2,imagery,img_stim' '6,3,3,perception,img_stim'\n '6,3,3,imagery,img_stim' '6,4,Fixation' '6,4,1,perception,img_stim'\n '6,4,1,imagery,img_stim' '6,4,2,perception,img_stim'\n '6,4,2,imagery,img_stim' '6,4,3,perception,img_stim'\n '6,4,3,imagery,img_stim' '6,5,Fixation' '6,5,1,perception,img_stim'\n '6,5,1,imagery,img_stim' '6,5,2,perception,img_stim'\n '6,5,2,imagery,img_stim' '6,5,3,perception,img_stim'\n '6,5,3,imagery,img_stim' '7,1,Fixation' '7,1,1,perception,img_stim'\n '7,1,1,imagery,img_stim' '7,1,2,perception,img_stim'\n '7,1,2,imagery,img_stim' '7,1,3,perception,img_stim'\n '7,1,3,imagery,img_stim' '7,2,Fixation' '7,2,1,perception,img_stim'\n '7,2,1,imagery,img_stim' '7,2,2,perception,img_stim'\n '7,2,2,imagery,img_stim' '7,2,3,perception,img_stim'\n '7,2,3,imagery,img_stim' '7,3,Fixation' '7,3,1,perception,img_stim'\n '7,3,1,imagery,img_stim' '7,3,2,perception,img_stim'\n '7,3,2,imagery,img_stim' '7,3,3,perception,img_stim'\n '7,3,3,imagery,img_stim' '7,4,Fixation' '7,4,1,perception,img_stim'\n '7,4,1,imagery,img_stim' '7,4,2,perception,img_stim'\n '7,4,2,imagery,img_stim' '7,4,3,perception,img_stim'\n '7,4,3,imagery,img_stim' '7,5,Fixation' '7,5,1,perception,img_stim'\n '7,5,1,imagery,img_stim' '7,5,2,perception,img_stim'\n '7,5,2,imagery,img_stim' '7,5,3,perception,img_stim'\n '7,5,3,imagery,img_stim' '8,1,Fixation' '8,1,1,perception,img_stim'\n '8,1,1,imagery,img_stim' '8,1,2,perception,img_stim'\n '8,1,2,imagery,img_stim' '8,1,3,perception,img_stim'\n '8,1,3,imagery,img_stim' '8,2,Fixation' '8,2,1,perception,img_stim'\n '8,2,1,imagery,img_stim' '8,2,2,perception,img_stim'\n '8,2,2,imagery,img_stim' '8,2,3,perception,img_stim'\n '8,2,3,imagery,img_stim' '8,3,Fixation' '8,3,1,perception,img_stim'\n '8,3,1,imagery,img_stim' '8,3,2,perception,img_stim'\n '8,3,2,imagery,img_stim' '8,3,3,perception,img_stim'\n '8,3,3,imagery,img_stim' '8,4,Fixation' '8,4,1,perception,img_stim'\n '8,4,1,imagery,img_stim' '8,4,2,perception,img_stim'\n '8,4,2,imagery,img_stim' '8,4,3,perception,img_stim'\n '8,4,3,imagery,img_stim' '8,5,Fixation' '8,5,1,perception,img_stim'\n '8,5,1,imagery,img_stim' '8,5,2,perception,img_stim'\n '8,5,2,imagery,img_stim' '8,5,3,perception,img_stim'\n '8,5,3,imagery,img_stim' '9,1,Fixation' '9,1,1,perception,img_stim'\n '9,1,1,imagery,img_stim' '9,1,2,perception,img_stim'\n '9,1,2,imagery,img_stim' '9,1,3,perception,img_stim'\n '9,1,3,imagery,img_stim' '9,2,Fixation' '9,2,1,perception,img_stim'\n '9,2,1,imagery,img_stim' '9,2,2,perception,img_stim'\n '9,2,2,imagery,img_stim' '9,2,3,perception,img_stim'\n '9,2,3,imagery,img_stim' '9,3,Fixation' '9,3,1,perception,img_stim'\n '9,3,1,imagery,img_stim' '9,3,2,perception,img_stim'\n '9,3,2,imagery,img_stim' '9,3,3,perception,img_stim'\n '9,3,3,imagery,img_stim' '9,4,Fixation' '9,4,1,perception,img_stim'\n '9,4,1,imagery,img_stim' '9,4,2,perception,img_stim'\n '9,4,2,imagery,img_stim' '9,4,3,perception,img_stim'\n '9,4,3,imagery,img_stim' '9,5,Fixation' '9,5,1,perception,img_stim'\n '9,5,1,imagery,img_stim' '9,5,2,perception,img_stim'\n '9,5,2,imagery,img_stim' '9,5,3,perception,img_stim'\n '9,5,3,imagery,img_stim' '10,1,Fixation' '10,1,1,perception,img_stim'\n '10,1,1,imagery,img_stim' '10,1,2,perception,img_stim'\n '10,1,2,imagery,img_stim' '10,1,3,perception,img_stim'\n '10,1,3,imagery,img_stim' '10,2,Fixation' '10,2,1,perception,img_stim'\n '10,2,1,imagery,img_stim' '10,2,2,perception,img_stim'\n '10,2,2,imagery,img_stim' '10,2,3,perception,img_stim'\n '10,2,3,imagery,img_stim' '10,3,Fixation' '10,3,1,perception,img_stim'\n '10,3,1,imagery,img_stim' '10,3,2,perception,img_stim'\n '10,3,2,imagery,img_stim' '10,3,3,perception,img_stim'\n '10,3,3,imagery,img_stim' '10,4,Fixation' '10,4,1,perception,img_stim'\n '10,4,1,imagery,img_stim' '10,4,2,perception,img_stim'\n '10,4,2,imagery,img_stim' '10,4,3,perception,img_stim'\n '10,4,3,imagery,img_stim' '10,5,Fixation' '10,5,1,perception,img_stim'\n '10,5,1,imagery,img_stim' '10,5,2,perception,img_stim'\n '10,5,2,imagery,img_stim' '10,5,3,perception,img_stim'\n '10,5,3,imagery,img_stim']\n"
     ]
    }
   ],
   "source": [
    "print(df_visual['Marker'].unique())"
   ]
  },
  {
   "cell_type": "markdown",
<<<<<<< HEAD
   "id": "complex-joint",
=======
   "id": "accessible-tenant",
>>>>>>> c90928df5a778a0a15bfe822bd2e9900be7e7ec0
   "metadata": {},
   "source": [
    "Since we set our marker to have 4 info: #block, #trial, label, time.  We gonna split and get the class for the markers.   **Note that we shall reserve 0 for no event for raw mne, thus we shall represent class 0-9 using label 1-10.**"
   ]
  },
  {
   "cell_type": "markdown",
<<<<<<< HEAD
   "id": "collective-glossary",
=======
   "id": "secret-objective",
>>>>>>> c90928df5a778a0a15bfe822bd2e9900be7e7ec0
   "metadata": {},
   "source": [
    "#### 2.1 Visual"
   ]
  },
  {
   "cell_type": "code",
<<<<<<< HEAD
   "execution_count": 6,
   "id": "cathedral-terry",
=======
   "execution_count": 36,
   "id": "becoming-outside",
>>>>>>> c90928df5a778a0a15bfe822bd2e9900be7e7ec0
   "metadata": {},
   "outputs": [
    {
     "output_type": "stream",
     "name": "stdout",
     "text": [
      "['0' '1' '2' '3']\n"
     ]
    }
   ],
   "source": [
    "#use numpy as another view of the pandas columns for faster operation\n",
    "marker_np_visual = df_visual['Marker'].values\n",
    "marker_np_visual = marker_np_visual.astype(str)\n",
    "\n",
    "for idx, marker in enumerate(marker_np_visual):\n",
    "    if marker != '0':\n",
    "        m = marker.split(\",\")\n",
    "        if \"Fixation\" in marker:\n",
    "            marker_np_visual[idx] = 0\n",
    "        elif \"imagery\" in marker: # remove black --> visual\n",
    "            marker_np_visual[idx] = 0\n",
    "        elif \",\" in marker:\n",
    "            marker_np_visual[idx] = m[2] # get classes\n",
    "        else:\n",
    "            marker_np_visual[idx] = 0\n",
    "\n",
    "print(np.unique(marker_np_visual))\n",
    "df_visual['Marker']= marker_np_visual.astype(int)"
   ]
  },
  {
   "cell_type": "code",
<<<<<<< HEAD
   "execution_count": 7,
   "id": "colonial-sending",
=======
   "execution_count": 37,
   "id": "accomplished-minute",
>>>>>>> c90928df5a778a0a15bfe822bd2e9900be7e7ec0
   "metadata": {},
   "outputs": [
    {
     "output_type": "stream",
     "name": "stdout",
     "text": [
<<<<<<< HEAD
      "           F3     F8     F7     F4     P3     P4     T4     T3     Fp2  \\\n",
      "Marker                                                                   \n",
      "0       86688  89463  84633  90705  95324  86014  92628  80204  108428   \n",
      "1          50     50     50     50     50     50     50     50      50   \n",
      "2          50     50     50     50     49     50     50     50      50   \n",
      "3          50     50     50     50     50     50     50     50      50   \n",
      "\n",
      "           Fp1     C4     C3      T6     T5     O1     O2  \n",
      "Marker                                                     \n",
      "0       116500  86425  92187  101416  81132  75563  81448  \n",
      "1           50     50     50      50     50     50     50  \n",
      "2           50     50     50      50     50     50     50  \n",
      "3           50     50     50      50     50     50     50  \n"
=======
      "           F3      F8     F7      F4     P3      P4      T4      T3     Fp2  \\\nMarker                                                                        \n0       40891  127447  75299  125442  57661  111174  137714  124781  108788   \n1          50      50     50      50     50      50      50      50      50   \n2          50      50     50      50     50      50      50      50      50   \n3          50      50     50      50     50      50      50      50      50   \n\n           Fp1     C4     C3      T6     T5      O1      O2  \nMarker                                                       \n0       118223  81664  86057  121545  92398  116691  133355  \n1           50     50     50      50     50      50      50  \n2           50     50     50      50     50      50      50  \n3           50     50     50      50     50      50      50  \n"
>>>>>>> c90928df5a778a0a15bfe822bd2e9900be7e7ec0
     ]
    }
   ],
   "source": [
    "print(df_visual.groupby('Marker').nunique())"
   ]
  },
  {
   "cell_type": "markdown",
<<<<<<< HEAD
   "id": "homeless-equity",
=======
   "id": "handed-robin",
>>>>>>> c90928df5a778a0a15bfe822bd2e9900be7e7ec0
   "metadata": {},
   "source": [
    "#### 2.2 Imagery"
   ]
  },
  {
   "cell_type": "code",
<<<<<<< HEAD
   "execution_count": 8,
   "id": "heated-context",
=======
   "execution_count": 38,
   "id": "opponent-leave",
>>>>>>> c90928df5a778a0a15bfe822bd2e9900be7e7ec0
   "metadata": {},
   "outputs": [
    {
     "output_type": "stream",
     "name": "stdout",
     "text": [
      "['0' '1' '2' '3']\n"
     ]
    }
   ],
   "source": [
    "#use numpy as another view of the pandas columns for faster operation\n",
    "marker_np_imagery = df_imagery['Marker'].values\n",
    "marker_np_imagery = marker_np_imagery.astype(str)\n",
    "\n",
    "for idx, marker in enumerate(marker_np_imagery):\n",
    "    if marker != '0':\n",
    "        m = marker.split(\",\")\n",
    "        if \"Fixation\" in marker:\n",
    "            marker_np_imagery[idx] = 0\n",
    "        elif \"perception\" in marker: # remove black --> visual\n",
    "            marker_np_imagery[idx] = 0\n",
    "        elif \",\" in marker:\n",
    "            marker_np_imagery[idx] = m[2] # get classes\n",
    "        else:\n",
    "            marker_np_imagery[idx] = 0\n",
    "\n",
    "print(np.unique(marker_np_imagery))\n",
    "df_imagery['Marker']= marker_np_imagery.astype(int)"
   ]
  },
  {
   "cell_type": "code",
<<<<<<< HEAD
   "execution_count": 9,
   "id": "consistent-system",
=======
   "execution_count": 39,
   "id": "duplicate-celebration",
>>>>>>> c90928df5a778a0a15bfe822bd2e9900be7e7ec0
   "metadata": {},
   "outputs": [
    {
     "output_type": "stream",
     "name": "stdout",
     "text": [
<<<<<<< HEAD
      "           F3     F8     F7     F4     P3     P4     T4     T3     Fp2  \\\n",
      "Marker                                                                   \n",
      "0       86693  89464  84636  90709  95328  86015  92632  80207  108436   \n",
      "1          50     50     50     50     50     50     50     50      50   \n",
      "2          50     50     50     50     50     50     50     50      50   \n",
      "3          50     50     50     50     50     50     50     50      50   \n",
      "\n",
      "           Fp1     C4     C3      T6     T5     O1     O2  \n",
      "Marker                                                     \n",
      "0       116503  86426  92194  101427  81135  75568  81435  \n",
      "1           50     50     50      50     50     50     50  \n",
      "2           50     50     50      50     50     50     50  \n",
      "3           50     50     50      50     50     50     50  \n"
=======
      "           F3      F8     F7      F4     P3      P4      T4      T3     Fp2  \\\nMarker                                                                        \n0       40891  127449  75304  125445  57653  111179  137709  124779  108798   \n1          50      50     50      50     50      50      50      50      50   \n2          50      50     50      50     50      50      50      50      50   \n3          50      50     50      50     50      50      50      50      50   \n\n           Fp1     C4     C3      T6     T5      O1      O2  \nMarker                                                       \n0       118223  81671  86058  121552  92407  116695  133347  \n1           50     49     50      50     50      50      50  \n2           50     50     50      50     50      50      50  \n3           50     50     50      50     50      50      50  \n"
>>>>>>> c90928df5a778a0a15bfe822bd2e9900be7e7ec0
     ]
    }
   ],
   "source": [
    "print(df_imagery.groupby('Marker').nunique())"
   ]
  },
  {
   "cell_type": "markdown",
<<<<<<< HEAD
   "id": "recognized-apple",
=======
   "id": "mysterious-steal",
>>>>>>> c90928df5a778a0a15bfe822bd2e9900be7e7ec0
   "metadata": {},
   "source": [
    "### 3. Save Data"
   ]
  },
  {
   "cell_type": "code",
<<<<<<< HEAD
   "execution_count": 10,
   "id": "invalid-arrangement",
=======
   "execution_count": 40,
   "id": "expressed-wrong",
>>>>>>> c90928df5a778a0a15bfe822bd2e9900be7e7ec0
   "metadata": {},
   "outputs": [],
   "source": [
    "df_visual.to_pickle(\"../data/pd/round2/{par}/{file}_visual.pkl\".format(par=par, file=file))\n",
    "df_imagery.to_pickle(\"../data/pd/round2/{par}/{file}_imagery.pkl\".format(par=par, file=file))"
   ]
  },
  {
   "cell_type": "code",
   "execution_count": null,
<<<<<<< HEAD
   "id": "protective-sharp",
=======
>>>>>>> c90928df5a778a0a15bfe822bd2e9900be7e7ec0
   "metadata": {},
   "outputs": [],
   "source": []
  }
 ],
 "metadata": {
  "kernelspec": {
   "name": "python383jvsc74a57bd079652166b85e064c74bdc64c68d9e67da1dbb1ffba32aa2f0f19cf20f81347a4",
   "display_name": "Python 3.8.3 64-bit ('base': conda)"
  },
  "language_info": {
   "codemirror_mode": {
    "name": "ipython",
    "version": 3
   },
   "file_extension": ".py",
   "mimetype": "text/x-python",
   "name": "python",
   "nbconvert_exporter": "python",
   "pygments_lexer": "ipython3",
   "version": "3.8.3"
  }
 },
 "nbformat": 4,
 "nbformat_minor": 5
}