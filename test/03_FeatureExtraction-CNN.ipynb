{
 "cells": [
  {
   "cell_type": "markdown",
   "metadata": {},
   "source": [
    "## 03 Feature Extraction"
   ]
  },
  {
   "cell_type": "code",
   "execution_count": 1,
   "metadata": {},
   "outputs": [],
   "source": [
    "import numpy as np\n",
    "import pandas as pd\n",
    "import matplotlib.pyplot as plt\n",
    "from IPython.display import clear_output\n",
    "import torch\n",
    "import time"
   ]
  },
  {
   "cell_type": "markdown",
   "metadata": {},
   "source": [
    "#### Check GPU availability"
   ]
  },
  {
   "cell_type": "code",
   "execution_count": 2,
   "metadata": {},
   "outputs": [
    {
     "name": "stdout",
     "output_type": "stream",
     "text": [
      "Configured device:  cuda:3\n"
     ]
    }
   ],
   "source": [
    "from chosen_gpu import get_freer_gpu\n",
    "device = torch.device(get_freer_gpu()) \n",
    "print(\"Configured device: \", device)"
   ]
  },
  {
   "cell_type": "markdown",
   "metadata": {},
   "source": [
    "### 1. Loading Data"
   ]
  },
  {
   "cell_type": "code",
   "execution_count": 3,
   "metadata": {},
   "outputs": [],
   "source": [
    "par = \"par20\"\n",
    "file = \"20-Name_2_2021-04-09-13.54.06\" \n",
    "task = \"_imagery\"\n",
    "model_name = \"cnn\"\n",
    "drift = \"drift\"\n",
    "# path = '../data/np/{par}/{file}{task}.npy'.format(par=par,file=file, task=task)\n",
    "\n",
    "X = np.load('../data/np/round2/{par}/{drift}/{file}{task}_X.npy'.format(par=par,drift = drift,file=file, task=task), allow_pickle=True)\n",
    "y = np.load('../data/np/round2/{par}/{drift}/{file}{task}_y.npy'.format(par=par,drift = drift,file=file, task=task), allow_pickle=True)"
   ]
  },
  {
   "cell_type": "markdown",
   "metadata": {},
   "source": [
    "#### 1.1 Check shape"
   ]
  },
  {
   "cell_type": "code",
   "execution_count": 4,
   "metadata": {},
   "outputs": [
    {
     "name": "stdout",
     "output_type": "stream",
     "text": [
      "(150, 16, 49)\n",
      "(150,)\n"
     ]
    }
   ],
   "source": [
    "# [# stim, # electrod, # datapoint]\n",
    "print(X.shape)\n",
    "print(y.shape)"
   ]
  },
  {
   "cell_type": "markdown",
   "metadata": {},
   "source": [
    "#### 1.2 Plot"
   ]
  },
  {
   "cell_type": "code",
   "execution_count": 5,
   "metadata": {},
   "outputs": [],
   "source": [
    "# ### Plot to see wheter eegs have drift or not\n",
    "# print(X[100][0].shape)\n",
    "# fig, ax = plt.subplots(16,1,figsize=(20,50),sharex=True)\n",
    "\n",
    "# for i in range(data.shape[1]):\n",
    "#     ax[i].plot(X[100][i])"
   ]
  },
  {
   "cell_type": "markdown",
   "metadata": {},
   "source": [
    "### 2. Split data\n",
    "- test_size: 0.1\n",
    "- 10% of data is reserved for the real test --> X_test, y_test\n",
    "- 90% will be again divided into (train,test,val) --> X_model, y_model"
   ]
  },
  {
   "cell_type": "markdown",
   "metadata": {},
   "source": [
    "#### 2.1 Reserve some data for REAL TEST"
   ]
  },
  {
   "cell_type": "code",
   "execution_count": 6,
   "metadata": {},
   "outputs": [],
   "source": [
    "from sklearn.model_selection import train_test_split\n",
    "\n",
    "X_model, X_test, y_model, y_test = train_test_split( X, y, test_size=0.1, random_state=42)"
   ]
  },
  {
   "cell_type": "code",
   "execution_count": 7,
   "metadata": {},
   "outputs": [
    {
     "name": "stdout",
     "output_type": "stream",
     "text": [
      "Shape of X_model:  (135, 16, 49)\n",
      "Shape of X_test:  (15, 16, 49)\n",
      "Shape of y_model:  (135,)\n",
      "Shape of y_test:  (15,)\n"
     ]
    }
   ],
   "source": [
    "print(\"Shape of X_model: \", X_model.shape)\n",
    "print(\"Shape of X_test: \",X_test.shape)\n",
    "print(\"Shape of y_model: \",y_model.shape)\n",
    "print(\"Shape of y_test: \",y_test.shape)"
   ]
  },
  {
   "cell_type": "markdown",
   "metadata": {},
   "source": [
    "#### 2.2 Chunking"
   ]
  },
  {
   "cell_type": "markdown",
   "metadata": {},
   "source": [
    "- 10 can be thought of as totally new eeg records and will be used as the real evaluation of our model.\n",
    "- For X : Chunking eeg to lengh of 10 data point in each stimuli's eeg\n",
    "- For y(lebels) : Filled the lebels in y because we chunk X ( 1 stimuli into 6 chunk). We have 500 labels before but now we need 500 x 6 = 3000 labels"
   ]
  },
  {
   "cell_type": "code",
   "execution_count": 8,
   "metadata": {},
   "outputs": [],
   "source": [
    "import sys\n",
    "np.set_printoptions(threshold=sys.maxsize)\n",
    "\n",
    "def chunk_data(data, size):\n",
    "    data_keep = data.shape[2] - (data.shape[2]%size)\n",
    "    #print(f'{data.shape}')\n",
    "    data = data[:,:,:data_keep]\n",
    "    #print(f'{data.shape}')\n",
    "    #print(data[0,0,:20])\n",
    "    data = data.reshape(-1,data.shape[1],data.shape[2]//size,size)\n",
    "    #print(f'{data.shape}')\n",
    "    #print(data[0,0,:2,:])\n",
    "    data = np.transpose(data, (0, 2, 1, 3)  )\n",
    "    #print(f'{data.shape}')\n",
    "    #print(data[0,:2,0,:])\n",
    "    return data\n",
    "\n",
    "def filled_y(y, chunk_num):\n",
    "    yy = np.array([[i] *chunk_num for i in  y ]).ravel()\n",
    "    return yy"
   ]
  },
  {
   "cell_type": "code",
   "execution_count": 9,
   "metadata": {},
   "outputs": [
    {
     "name": "stdout",
     "output_type": "stream",
     "text": [
      "=================== X ==================\n",
      "Oringinal X shape (135, 16, 49)\n",
      "Chunked X : (135, 4, 16, 10)\n",
      "Reshape X to : (540, 16, 10)\n",
      "=================== y ==================\n",
      "Shape of y : (135,)\n",
      "Shape of new y : (540,)\n"
     ]
    }
   ],
   "source": [
    "chunk_size = 10\n",
    "\n",
    "print('=================== X ==================')\n",
    "print(f'Oringinal X shape {X_model.shape}')\n",
    "X = chunk_data(X_model, chunk_size)\n",
    "print(f'Chunked X : {X.shape}') # (#stim, #chunks, #electrodes, #datapoint per chunk)\n",
    "chunk_per_stim = X.shape[1]\n",
    "X = X.reshape(-1,16,chunk_size)\n",
    "print(f'Reshape X to : {X.shape}')\n",
    "print('=================== y ==================')\n",
    "print(f'Shape of y : {y_model.shape}')\n",
    "\n",
    "# y_new = np.zeros(2430) #100 labels, 62 chunks per label\n",
    "# print(y_new.shape)\n",
    "# size = 25\n",
    "# for i,marker in enumerate(y_model):\n",
    "# #     print(marker)\n",
    "#     y_new[i*size:(i+1)*size] = y_model[i]\n",
    "# y = y_new\n",
    "# print(y)\n",
    "# print(y_new)\n",
    "y_filled = filled_y(y_model, chunk_per_stim)\n",
    "y = y_filled\n",
    "# print(y_filled)\n",
    "print(f'Shape of new y : {y.shape}')"
   ]
  },
  {
   "cell_type": "markdown",
   "metadata": {},
   "source": [
    "### 3. Define Model"
   ]
  },
  {
   "cell_type": "code",
   "execution_count": 10,
   "metadata": {},
   "outputs": [],
   "source": [
    "import torch\n",
    "import torch.nn as nn\n",
    "import torch.nn.functional as F\n",
    "\n",
    "import fnmatch"
   ]
  },
  {
   "cell_type": "code",
   "execution_count": 11,
   "metadata": {},
   "outputs": [],
   "source": [
    "class EEGEncoder(nn.Module):\n",
    "    '''\n",
    "    Expected Input Shape: (batch, channels, height , width)\n",
    "    '''\n",
    "    def __init__(self):\n",
    "        super().__init__()\n",
    "        \n",
    "        self.activation = nn.Tanh()\n",
    "        \n",
    "        self.conv1 = nn.Sequential(    nn.Conv1d(16, 32, kernel_size=(1,3),   padding=(0,0), stride=(1,1))  ,  self.activation )\n",
    "        self.conv2 = nn.Sequential(    nn.Conv1d(32, 64, kernel_size=(1,3) ,  padding=(0,0), stride=(1,1))  ,  self.activation )\n",
    "        # nn.Linear(XY,256) need to be changed!\n",
    "        self.fc1   = nn.Sequential(    nn.Linear(384,256),  self.activation ,nn.Dropout(0.1)   ,nn.BatchNorm1d(256)   )\n",
    "        self.fc2   = nn.Sequential(    nn.Linear(256,128),  self.activation ,nn.Dropout(0.1)   ,nn.BatchNorm1d(128) )\n",
    "        self.fc3   = nn.Sequential(    nn.Linear(128,64),  self.activation  ,nn.Dropout(0.1)   ,nn.BatchNorm1d(64) )\n",
    "        self.fc4   = nn.Sequential(    nn.Linear(64,32),  self.activation   ,nn.Dropout(0.1)   ,nn.BatchNorm1d(32) )\n",
    "        self.fc5   = nn.Sequential(    nn.Linear(32,3)   )\n",
    "\n",
    "        \n",
    "        \n",
    "    \n",
    "        self.is_debug= False\n",
    "        \n",
    "    def encode(self, X):\n",
    "        \n",
    "        \n",
    "        if self.is_debug  : print('--------Convolute--------'); print(X.shape) \n",
    "            \n",
    "        X = self.conv1(X)\n",
    "        if self.is_debug  : print(X.shape) \n",
    "            \n",
    "        X = self.conv2(X)\n",
    "        if self.is_debug  : print(X.shape) \n",
    "            \n",
    "        X = X.flatten(start_dim = 1)\n",
    "\n",
    "        # print(X.shape) \n",
    " \n",
    "        X = self.fc1(X)\n",
    "        if self.is_debug : print('--------Flatten--------') ; print(X.shape) \n",
    "\n",
    "        X = self.fc2(X)\n",
    "        if self.is_debug  : print(X.shape) \n",
    "\n",
    "        X = self.fc3(X)\n",
    "        if self.is_debug  : print(X.shape) \n",
    "        \n",
    "        X = self.fc4(X)\n",
    "        if self.is_debug  : print(X.shape) \n",
    "\n",
    "        X = self.fc5(X)\n",
    "        if self.is_debug  : print(X.shape) \n",
    "\n",
    "            \n",
    "        return X\n",
    "        \n",
    "    def forward(self,X):\n",
    "        X = self.encode(X)\n",
    "        return X\n",
    "    \n",
    "    def get_latent( self, X):\n",
    "        if self.is_debug  : print('--------Convolute--------'); print(X.shape) \n",
    "            \n",
    "        X = self.conv1(X)\n",
    "        if self.is_debug  : print(X.shape) \n",
    "            \n",
    "        X = self.conv2(X)\n",
    "        if self.is_debug  : print(X.shape) \n",
    "            \n",
    "        X = X.flatten(start_dim = 1)\n",
    "        if self.is_debug  : print('--------Flatten--------') ; print(X.shape) \n",
    " \n",
    "        X = self.fc1(X)\n",
    "        if self.is_debug : print('--------Flatten--------') ; print(X.shape) \n",
    "\n",
    "        X = self.fc2(X)\n",
    "        if self.is_debug  : print(X.shape) \n",
    "\n",
    "        X = self.fc3(X)\n",
    "        if self.is_debug  : print(X.shape) \n",
    "        \n",
    "        X = self.fc4(X)\n",
    "        if self.is_debug  : print(X.shape) \n",
    "        \n",
    "        return X\n",
    "    \n",
    "    def classifier(self, latent):\n",
    "        return self.fc5(latent)"
   ]
  },
  {
   "cell_type": "markdown",
   "metadata": {},
   "source": [
    "### 4. Define Training function"
   ]
  },
  {
   "cell_type": "markdown",
   "metadata": {},
   "source": [
    "Define the training process\n",
    "\n",
    "We set `model.train()` so dropout is applied."
   ]
  },
  {
   "cell_type": "code",
   "execution_count": 12,
   "metadata": {},
   "outputs": [],
   "source": [
    "def train(model, iterator, optimizer, criterion):\n",
    "    total = 0\n",
    "    correct = 0\n",
    "    epoch_loss = 0\n",
    "    epoch_acc = 0\n",
    "    predicted_list = []\n",
    "    model.train()\n",
    "    \n",
    "    for batch, labels in iterator:\n",
    "        \n",
    "        #Move tensors to the configured device\n",
    "        batch  = batch.to(device)\n",
    "        labels = labels.to(device)\n",
    "       \n",
    "        \n",
    "        #Forward pass\n",
    "        outputs = model(batch.float())\n",
    "        outputs = outputs.to(device)\n",
    "        \n",
    "        loss = criterion(outputs, labels.long()).to(device)\n",
    "\n",
    "        \n",
    "        # Backward and optimize\n",
    "        optimizer.zero_grad()\n",
    "        loss.backward()\n",
    "        optimizer.step()\n",
    "                \n",
    "        #check accuracy\n",
    "        predictions = model(batch.float())\n",
    "        _, predicted = torch.max(predictions.data, 1)  #returns max value, indices\n",
    "        total += labels.size(0)  #keep track of total\n",
    "        correct += (predicted == labels).sum().item()  #.item() give the raw number\n",
    "        acc = 100 * (correct / total)\n",
    "                \n",
    "        epoch_loss += loss.item()\n",
    "        epoch_acc = acc\n",
    "        predicted_list.append(predicted)\n",
    "        \n",
    "    return epoch_loss / len(iterator), epoch_acc, predicted_list\n",
    "\n",
    "\n",
    "def evaluate(model, iterator, criterion):\n",
    "    \n",
    "    total = 0\n",
    "    correct = 0\n",
    "    epoch_loss = 0\n",
    "    epoch_acc = 0\n",
    "    predicted_list = []\n",
    "    labels_list    = []\n",
    "        \n",
    "    model.eval()\n",
    "    \n",
    "    with torch.no_grad():\n",
    "    \n",
    "        for batch, labels in iterator:\n",
    "            \n",
    "            #Move tensors to the configured device\n",
    "            batch = batch.to(device)\n",
    "            labels = labels.to(device)\n",
    "            \n",
    "            #print(labels)\n",
    "            \n",
    "\n",
    "            predictions = model(batch.float())\n",
    "            loss = criterion(predictions, labels.long())\n",
    "            \n",
    "            \n",
    "            _, predicted = torch.max(predictions.data, 1)  #returns max value, indices\n",
    "            #print(predicted)\n",
    "#             clear_output(wait=True)\n",
    "#             print('================== Predicted y ====================')\n",
    "#             print(predicted) \n",
    "#             print('==================    True y   ====================')\n",
    "#             print(labels)  \n",
    "            \n",
    "            total += labels.size(0)  #keep track of total\n",
    "            correct += (predicted == labels).sum().item()  #.item() give the raw number\n",
    "            acc = 100 * (correct / total)\n",
    "            \n",
    "            epoch_loss += loss.item()\n",
    "            epoch_acc += acc\n",
    "            \n",
    "            labels_list.append(labels)\n",
    "            predicted_list.append(predicted)\n",
    "           \n",
    "\n",
    "    return epoch_loss / len(iterator), epoch_acc / len(iterator) ,predicted_list, labels_list\n",
    "\n",
    "\n",
    "# define a time function useful for calculating time\n",
    "def epoch_time(start_time, end_time):\n",
    "    elapsed_time = end_time - start_time\n",
    "    elapsed_mins = int(elapsed_time / 60)\n",
    "    elapsed_secs = int(elapsed_time - (elapsed_mins * 60))\n",
    "    return elapsed_mins, elapsed_secs\n",
    "\n",
    "\n",
    "\n",
    "def do_plot(train_losses, valid_losses):\n",
    "    plt.figure(figsize=(25,5))\n",
    "#     clear_output(wait=True)\n",
    "    plt.plot(train_losses, label='Train Loss')\n",
    "    plt.plot(valid_losses, label='Valid Loss')\n",
    "    plt.title('Train and Val loss')\n",
    "    plt.legend()\n",
    "    plt.show()"
   ]
  },
  {
   "cell_type": "markdown",
   "metadata": {},
   "source": [
    "### 5. Actual Training for Feature Extraction \n"
   ]
  },
  {
   "cell_type": "markdown",
   "metadata": {},
   "source": [
    "#### 5.1 Define model parameters\n",
    "- Count model parameters\n",
    "- optimizer\n",
    "- loss function\n",
    "- GPU"
   ]
  },
  {
   "cell_type": "code",
   "execution_count": 13,
   "metadata": {},
   "outputs": [
    {
     "name": "stdout",
     "output_type": "stream",
     "text": [
      "The model EEGEncoder has 150,627 trainable parameters\n"
     ]
    }
   ],
   "source": [
    "#Create the model from class\n",
    "model_EEGEncoder = EEGEncoder()\n",
    "model_EEGEncoder = model_EEGEncoder.float() #define precision as float to reduce running time\n",
    "models = [model_EEGEncoder]\n",
    "\n",
    "\n",
    "#Count the parameters for writing papers\n",
    "def count_parameters(model):\n",
    "    return sum(p.numel() for p in model.parameters() if p.requires_grad)\n",
    "\n",
    "for model in models:\n",
    "    print(f'The model {type(model).__name__} has {count_parameters(model):,} trainable parameters')# Train the model\n"
   ]
  },
  {
   "cell_type": "markdown",
   "metadata": {},
   "source": [
    "#### 5.2 Prepare X and y in correct shape\n",
    "\n",
    "- For X, pytorch (if set batch_first) LSTM requires to be (batch, seq_len, features).  Thus, for us, it should be (100, 75, 16).\n",
    "- For y, nothing is special\n",
    "- So let's convert our numpy to pytorch, and then reshape using view"
   ]
  },
  {
   "cell_type": "code",
   "execution_count": 14,
   "metadata": {},
   "outputs": [
    {
     "name": "stdout",
     "output_type": "stream",
     "text": [
      "Shape of torch_X:  torch.Size([540, 16, 10])\n",
      "Shape of torch_y:  torch.Size([540])\n"
     ]
    }
   ],
   "source": [
    "torch_X = torch.from_numpy(X)\n",
    "torch_y = torch.from_numpy(y)\n",
    "\n",
    "print(\"Shape of torch_X: \",torch_X.shape)\n",
    "print(\"Shape of torch_y: \",torch_y.shape)"
   ]
  },
  {
   "cell_type": "code",
   "execution_count": 15,
   "metadata": {},
   "outputs": [
    {
     "name": "stdout",
     "output_type": "stream",
     "text": [
      "Original X:  torch.Size([540, 16, 10])\n"
     ]
    }
   ],
   "source": [
    "print(\"Original X: \", torch_X.size())"
   ]
  },
  {
   "cell_type": "markdown",
   "metadata": {},
   "source": [
    "CNN requires the input shape as (batch, channel, height, width)"
   ]
  },
  {
   "cell_type": "code",
   "execution_count": 16,
   "metadata": {},
   "outputs": [
    {
     "name": "stdout",
     "output_type": "stream",
     "text": [
      "Converted X to  torch.Size([540, 16, 1, 10])\n"
     ]
    }
   ],
   "source": [
    "torch_X_reshaped = torch_X.reshape(torch_X.shape[0],torch_X.shape[1],1,torch_X.shape[2])\n",
    "print(\"Converted X to \", torch_X_reshaped.size())"
   ]
  },
  {
   "cell_type": "markdown",
   "metadata": {},
   "source": [
    "#### 5.3 Split test train set, and load them into a DataLoader"
   ]
  },
  {
   "cell_type": "code",
   "execution_count": 17,
   "metadata": {},
   "outputs": [],
   "source": [
    "from torch.utils.data import TensorDataset\n",
    "\n",
    "# Define dataset\n",
    "ds = TensorDataset(torch_X_reshaped, torch_y)\n",
    "\n",
    "#Train test split\n",
    "train_size = int(torch_X_reshaped.size()[0] * 0.7)\n",
    "valid_size = int(torch_X_reshaped.size()[0] * 0.2)\n",
    "test_size  = torch_X_reshaped.size()[0] - train_size - valid_size\n",
    "\n",
    "train_set, valid_set, test_set = torch.utils.data.random_split(ds, [train_size, valid_size, test_size])\n",
    "\n",
    "\n",
    "\n",
    "BATCH_SIZE = 128 #keeping it binary so it fits GPU\n",
    "#Train set loader\n",
    "train_iterator = torch.utils.data.DataLoader(dataset=train_set, \n",
    "                                           batch_size=BATCH_SIZE, \n",
    "                                           shuffle=True)\n",
    "\n",
    "#Validation set loader\n",
    "valid_iterator = torch.utils.data.DataLoader(dataset=valid_set, \n",
    "                                           batch_size=BATCH_SIZE, \n",
    "                                           shuffle=True)\n",
    "\n",
    "#Test set loader\n",
    "test_iterator = torch.utils.data.DataLoader(dataset=test_set, \n",
    "                                          batch_size=test_size, \n",
    "                                          shuffle=True)\n"
   ]
  },
  {
   "cell_type": "markdown",
   "metadata": {},
   "source": [
    "#### 5.4 Train the model"
   ]
  },
  {
   "cell_type": "code",
   "execution_count": 18,
   "metadata": {},
   "outputs": [],
   "source": [
    "import torch.optim as optim\n",
    "\n",
    "best_valid_loss = float('inf')\n",
    "train_losses    = []\n",
    "valid_losses    = []\n",
    "\n",
    "learning_rate = 0.0001\n",
    "N_EPOCHS      = 1000          ## best is 10k\n",
    "criterion     = nn.CrossEntropyLoss()\n",
    "optimizer     = torch.optim.Adam(model.parameters(), lr=learning_rate)\n",
    "\n",
    "\n",
    "for model in models:\n",
    "    model = model.to(device)\n",
    "criterion = criterion.to(device)\n"
   ]
  },
  {
   "cell_type": "code",
   "execution_count": 19,
   "metadata": {},
   "outputs": [
    {
     "name": "stdout",
     "output_type": "stream",
     "text": [
      "Epoch: 1000/1000  |\tTrain Loss: 0.04205  | Train Acc: 98.94%  |\t Val. Loss: 1.01871  | Val. Acc: 71.30%\n"
     ]
    },
    {
     "data": {
      "image/png": "[encoded data removed]",
      "text/plain": [
       "<Figure size 1800x360 with 1 Axes>"
      ]
     },
     "metadata": {
      "needs_background": "light"
     },
     "output_type": "display_data"
    }
   ],
   "source": [
    "model.is_debug = False\n",
    "iteration = 0\n",
    "\n",
    "for i, model in enumerate(models):\n",
    "    print(f\"Training {type(model).__name__}\")\n",
    "    \n",
    "    start_time = time.time()\n",
    "\n",
    "    for epoch in range(N_EPOCHS):\n",
    "        start_time = time.time()\n",
    "\n",
    "        train_loss, train_acc, train_predicted    = train(model, train_iterator, optimizer, criterion)\n",
    "        valid_loss, valid_acc, valid_predicted, _ = evaluate(model, valid_iterator, criterion)\n",
    "        \n",
    "        train_losses.append(train_loss)\n",
    "        valid_losses.append(valid_loss)\n",
    "        \n",
    "        end_time = time.time()\n",
    "\n",
    "        epoch_mins, epoch_secs = epoch_time(start_time, end_time)\n",
    "        \n",
    "        iteration     += 1\n",
    "        \n",
    "        if (epoch+1) % 50 == 0:\n",
    "            clear_output(wait=True)\n",
    "            print(f'Epoch: {epoch+1:02}/{N_EPOCHS}  |',end='')\n",
    "            print(f'\\tTrain Loss: {train_loss:.5f}  | Train Acc: {train_acc:.2f}%  |', end='')\n",
    "            print(f'\\t Val. Loss: {valid_loss:.5f}  | Val. Acc: {valid_acc:.2f}%')\n",
    "            do_plot(train_losses, valid_losses)\n",
    "          \n",
    "\n",
    "        if valid_loss < best_valid_loss:\n",
    "            best_valid_loss = valid_loss\n",
    "            print(\"Model:{} saved.\".format(type(model).__name__))\n",
    "            torch.save(model.state_dict(), \"../model/feature_extraction/round2/{par}/{model_name}/{drift}/EEG_ENCODER{task}.pt.tar\".format(par=par, model_name=model_name,drift=drift,task=task))\n",
    "            best_model_index = i"
   ]
  },
  {
   "cell_type": "markdown",
   "metadata": {},
   "source": [
    "### 7. Evaluation (Test model)\n",
    "using test set"
   ]
  },
  {
   "cell_type": "code",
   "execution_count": 20,
   "metadata": {},
   "outputs": [
    {
     "name": "stdout",
     "output_type": "stream",
     "text": [
      "Test Loss: 0.645 | Test Acc: 79.63%\n",
      "---------------\n",
      " (Actual y , Predicted y)\n",
      "[(2, 2), (1, 1), (2, 0), (0, 0), (1, 1), (1, 1), (0, 0), (1, 1), (1, 1), (2, 2), (2, 2), (2, 2), (1, 1), (0, 2), (1, 1), (2, 2), (1, 0), (0, 0), (2, 2), (0, 1), (0, 2), (2, 2), (1, 1), (1, 1), (2, 2), (2, 2), (1, 0), (1, 0), (1, 0), (2, 2), (0, 0), (0, 0), (0, 0), (0, 1), (0, 0), (1, 1), (2, 2), (2, 2), (2, 2), (2, 2), (2, 2), (2, 2), (0, 0), (2, 2), (2, 2), (2, 2), (1, 0), (0, 0), (0, 0), (2, 2), (1, 0), (0, 0), (0, 0), (0, 0)]\n"
     ]
    }
   ],
   "source": [
    "def squeeze_to_list(_tmp):\n",
    "    from functools import reduce\n",
    "    import operator\n",
    "\n",
    "    xx     = [ i.cpu().detach().numpy().ravel().tolist() for i in _tmp]\n",
    "    xx     = reduce(operator.concat, xx)\n",
    "    return xx\n",
    "\n",
    "\n",
    "\n",
    "models[best_model_index].load_state_dict(torch.load('../model/feature_extraction/round2/{par}/{model_name}/{drift}/EEG_ENCODER{task}.pt.tar'.format(par=par,model_name=model_name,drift=drift,task=task)))\n",
    "\n",
    "\n",
    "\n",
    "# test_loss = evaluate(models[best_model_index], test_iterator, criterion)\n",
    "# print(f'Test Loss: {test_loss}') # | Test Acc: {test_acc:.2f}%')\n",
    "\n",
    "test_loss, test_acc , predicted, actual_labels = evaluate(models[best_model_index], test_iterator, criterion)\n",
    "print(f'Test Loss: {test_loss:.3f} | Test Acc: {test_acc:.2f}%')\n",
    "print(\"---------------\")\n",
    "print(\" (Actual y , Predicted y)\")\n",
    "\n",
    "y_test_     = squeeze_to_list(actual_labels)\n",
    "y_hat_test_ = squeeze_to_list(predicted)\n",
    "\n",
    "out = zip(y_test_, y_hat_test_)\n",
    "\n",
    "print(list(out))\n",
    "\n"
   ]
  },
  {
   "cell_type": "markdown",
   "metadata": {},
   "source": [
    "### 8. For REAL TEST"
   ]
  },
  {
   "cell_type": "code",
   "execution_count": 21,
   "metadata": {},
   "outputs": [
    {
     "name": "stdout",
     "output_type": "stream",
     "text": [
      "Chucked X_test:  (60, 16, 10)\n",
      "y_filled_test:  (60,)\n"
     ]
    }
   ],
   "source": [
    "# print(x_test)\n",
    "X_test = chunk_data(X_test, chunk_size)\n",
    "chunk_per_stim = X_test.shape[1]\n",
    "X_test = X_test.reshape(-1,16,chunk_size)\n",
    "y_filled_test = filled_y(y_test, chunk_per_stim)\n",
    "print(\"Chucked X_test: \",X_test.shape )\n",
    "print(\"y_filled_test: \",y_filled_test.shape )"
   ]
  },
  {
   "cell_type": "code",
   "execution_count": 22,
   "metadata": {},
   "outputs": [],
   "source": [
    "#save for real test\n",
    "np.save(\"../data/splits/{par}/X_test{task}\".format(par=par,task=task),X_test)\n",
    "np.save(\"../data/splits/{par}/y_test{task}\".format(par=par,task=task),y_filled_test)"
   ]
  },
  {
   "cell_type": "code",
   "execution_count": 23,
   "metadata": {},
   "outputs": [
    {
     "name": "stdout",
     "output_type": "stream",
     "text": [
      "Shape of torch_X:  torch.Size([60, 16, 10])\n",
      "Shape of torch_y:  torch.Size([60])\n"
     ]
    }
   ],
   "source": [
    "torch_X_test = torch.from_numpy(X_test)\n",
    "torch_y_test = torch.from_numpy(y_filled_test)\n",
    "\n",
    "print(\"Shape of torch_X: \",torch_X_test.shape)\n",
    "print(\"Shape of torch_y: \",torch_y_test.shape)"
   ]
  },
  {
   "cell_type": "code",
   "execution_count": 24,
   "metadata": {},
   "outputs": [
    {
     "name": "stdout",
     "output_type": "stream",
     "text": [
      "Converted X to  torch.Size([60, 16, 1, 10])\n"
     ]
    }
   ],
   "source": [
    "torch_X_test_reshaped = torch_X_test.reshape(torch_X_test.shape[0],torch_X_test.shape[1],1,torch_X_test.shape[2])\n",
    "print(\"Converted X to \", torch_X_test_reshaped.size())"
   ]
  },
  {
   "cell_type": "code",
   "execution_count": 25,
   "metadata": {},
   "outputs": [],
   "source": [
    "ds = TensorDataset(torch_X_test_reshaped, torch_y_test)\n",
    "#Test set loader\n",
    "real_test_iterator = torch.utils.data.DataLoader(dataset=ds, \n",
    "                                          batch_size=test_size, \n",
    "                                          shuffle=True)"
   ]
  },
  {
   "cell_type": "code",
   "execution_count": 26,
   "metadata": {},
   "outputs": [
    {
     "name": "stdout",
     "output_type": "stream",
     "text": [
      "Test Loss: 2.957 | Test Acc: 46.48%\n",
      "---------------\n",
      " (Actual y , Predicted y)\n",
      "[(0, 0), (0, 1), (0, 2), (0, 0), (0, 0), (1, 0), (0, 0), (1, 0), (2, 0), (0, 0), (0, 0), (2, 2), (0, 0), (2, 2), (1, 0), (0, 0), (0, 2), (1, 0), (1, 1), (1, 0), (0, 2), (1, 1), (0, 1), (1, 0), (1, 0), (2, 2), (0, 0), (1, 0), (2, 2), (0, 2), (1, 1), (0, 1), (0, 1), (1, 1), (0, 2), (2, 2), (0, 0), (1, 1), (2, 2), (0, 0), (1, 2), (0, 0), (1, 2), (1, 0), (1, 0), (1, 0), (1, 1), (1, 2), (0, 1), (0, 1), (1, 0), (1, 0), (0, 2), (0, 0), (0, 2), (0, 0), (1, 1), (2, 2), (0, 2), (1, 0)]\n"
     ]
    }
   ],
   "source": [
    "models[best_model_index].load_state_dict(torch.load('../model/feature_extraction/round2/{par}/{model_name}/{drift}/EEG_ENCODER{task}.pt.tar'.format(par=par,model_name=model_name,drift=drift,task=task)))\n",
    "\n",
    "\n",
    "\n",
    "# test_loss = evaluate(models[best_model_index], test_iterator, criterion)\n",
    "# print(f'Test Loss: {test_loss}') # | Test Acc: {test_acc:.2f}%')\n",
    "\n",
    "test_loss, real_test_acc , predicted, actual_labels = evaluate(models[best_model_index], real_test_iterator, criterion)\n",
    "print(f'Test Loss: {test_loss:.3f} | Test Acc: {real_test_acc:.2f}%')\n",
    "print(\"---------------\")\n",
    "print(\" (Actual y , Predicted y)\")\n",
    "\n",
    "y_test     = squeeze_to_list(actual_labels)\n",
    "y_hat_test = squeeze_to_list(predicted)\n",
    "\n",
    "out = zip(y_test, y_hat_test)\n",
    "\n",
    "print(list(out))\n"
   ]
  },
  {
   "cell_type": "markdown",
   "metadata": {},
   "source": [
    "### 8. Save features extracted"
   ]
  },
  {
   "cell_type": "code",
   "execution_count": 27,
   "metadata": {},
   "outputs": [],
   "source": [
    "\n",
    "# encoder_best_model = models[best_model_index].load_state_dict(torch.load(f'save/{type(model).__name__}{i}.pth.tar'))\n",
    "# torch.save(encoder_best_model, 'save/7.1_encoder_best_model.pth.tar')\n",
    "\n",
    "\n",
    "### save Encoder network\n",
    "# torch.save(model_EEGEncoder, 'save/model_EEGEncoder_network_5s.pt.tar')\n",
    "# torch.save(test_iterator,'save/eeg_X_test_5s.pt.tar')\n",
    "\n",
    "\n",
    "# save extracted features\n",
    "eeg_encode = model_EEGEncoder.get_latent(torch_X_reshaped.to(device).float())\n",
    "eeg_extracted_features = eeg_encode.detach().cpu().numpy()\n",
    "np.save('../data/extracted_features/round2/{par}/{file}{task}_X'.format(par=par,file=file, task=task), eeg_extracted_features )\n",
    "np.save('../data/extracted_features/round2/{par}/{file}{task}_y'.format(par=par,file=file, task=task),y )"
   ]
  },
  {
   "cell_type": "markdown",
   "metadata": {},
   "source": [
    "### 9. Results"
   ]
  },
  {
   "cell_type": "code",
   "execution_count": 28,
   "metadata": {},
   "outputs": [
    {
     "name": "stdout",
     "output_type": "stream",
     "text": [
      "Train Acc:  98.94179894179894\n",
      "Valid Acc:  71.29629629629629\n",
      "Test Acc:  79.62962962962963\n",
      "Real test Acc:  46.48148148148148\n"
     ]
    }
   ],
   "source": [
    "print(\"Train Acc: \",train_acc)\n",
    "print(\"Valid Acc: \",valid_acc)\n",
    "print(\"Test Acc: \",test_acc)\n",
    "print(\"Real test Acc: \",real_test_acc)"
   ]
  },
  {
   "cell_type": "code",
   "execution_count": 29,
   "metadata": {},
   "outputs": [
    {
     "name": "stdout",
     "output_type": "stream",
     "text": [
      "=========================== TEST ===========================\n",
      "             precision    recall  f1-score   support\n",
      "\n",
      "          R     0.6500    0.7647    0.7027        17\n",
      "          G     0.8333    0.6250    0.7143        16\n",
      "          B     0.9091    0.9524    0.9302        21\n",
      "\n",
      "avg / total     0.8051    0.7963    0.7946        54\n",
      "\n",
      "========================= REAL TEST =========================\n",
      "             precision    recall  f1-score   support\n",
      "\n",
      "          R     0.4828    0.5000    0.4912        28\n",
      "          G     0.5385    0.2917    0.3784        24\n",
      "          B     0.3889    0.8750    0.5385         8\n",
      "\n",
      "avg / total     0.4925    0.4667    0.4524        60\n",
      "\n"
     ]
    }
   ],
   "source": [
    "from sklearn.metrics import classification_report\n",
    "target_names = ['R', 'G', 'B']\n",
    "print('='*27,'TEST','='*27)\n",
    "print(classification_report(y_test_, y_hat_test_, target_names=target_names, digits=4))\n",
    "print('='*25,'REAL TEST','='*25)\n",
    "print(classification_report(y_test, y_hat_test, target_names=target_names, digits=4))"
   ]
  }
 ],
 "metadata": {
  "kernelspec": {
   "display_name": "Python 3",
   "language": "python",
   "name": "python3"
  },
  "language_info": {
   "codemirror_mode": {
    "name": "ipython",
    "version": 3
   },
   "file_extension": ".py",
   "mimetype": "text/x-python",
   "name": "python",
   "nbconvert_exporter": "python",
   "pygments_lexer": "ipython3",
   "version": "3.6.9"
  }
 },
 "nbformat": 4,
 "nbformat_minor": 4
}
