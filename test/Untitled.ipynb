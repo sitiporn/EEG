{
 "cells": [
  {
   "cell_type": "code",
   "execution_count": 1,
   "id": "grand-harvard",
   "metadata": {},
   "outputs": [],
   "source": [
    "import pandas as pd\n",
    "\n",
    "import torch\n",
    "import torch.nn as nn\n",
    "import torch.nn.functional as F\n",
    "\n",
    "from torch.utils.data import DataLoader, Dataset, TensorDataset\n",
    "from torch.optim import *\n",
    "\n",
    "import torchvision\n",
    "import torchvision.transforms as transforms\n",
    "\n",
    "import matplotlib.pyplot as plt\n",
    "import numpy as np\n",
    "\n",
    "import os\n",
    "import random\n",
    "import warnings\n",
    "warnings.filterwarnings(\"ignore\")\n",
    "\n",
    "from IPython.display import clear_output\n",
    "%matplotlib inline\n",
    "from chosen_gpu import get_freer_gpu"
   ]
  },
  {
   "cell_type": "code",
   "execution_count": 2,
   "id": "emotional-consensus",
   "metadata": {},
   "outputs": [
    {
     "name": "stdout",
     "output_type": "stream",
     "text": [
      "Configured device:  cuda:2\n"
     ]
    }
   ],
   "source": [
    "device = torch.device(get_freer_gpu()) \n",
    "print(\"Configured device: \", device)"
   ]
  },
  {
   "cell_type": "code",
   "execution_count": 3,
   "id": "senior-petite",
   "metadata": {},
   "outputs": [],
   "source": [
    "par = \"par2\"\n",
    "file = \"2-Dipesh_2_2021-04-07-07.19.01\" \n",
    "task = \"_visual\"\n",
    "model_name = \"cnn\"\n",
    "drift = \"drift\""
   ]
  },
  {
   "cell_type": "code",
   "execution_count": 4,
   "id": "protecting-vienna",
   "metadata": {},
   "outputs": [],
   "source": [
    "import torch\n",
    "import torch.nn as nn\n",
    "import torch.nn.functional as F\n",
    "import fnmatch"
   ]
  },
  {
   "cell_type": "code",
   "execution_count": 5,
   "id": "liquid-shannon",
   "metadata": {},
   "outputs": [],
   "source": [
    "class Generator(nn.Module):\n",
    "    \"\"\"\n",
    "    Input : random noise / latent vector of any size\n",
    "    Output : Fake images same size as Real images \n",
    "    \"\"\"\n",
    "    def __init__(self, input_size, hidden_size, output_size):\n",
    "        super(Generator, self).__init__()\n",
    "        \n",
    "        self.activation = nn.LeakyReLU()\n",
    "        \n",
    "        self.fc1 = nn.Sequential (nn.Linear(input_size    , hidden_size )  , self.activation, nn.Dropout(0.3) )\n",
    "        self.fc2 = nn.Sequential (nn.Linear(hidden_size   , hidden_size*2) , self.activation, nn.Dropout(0.3) )\n",
    "        self.fc3 = nn.Sequential (nn.Linear(hidden_size*2 , hidden_size*4) , self.activation, nn.Dropout(0.3) )\n",
    "        self.fc4 = nn.Sequential (nn.Linear(hidden_size*4 , output_size )  , self.activation                  )    \n",
    "    \n",
    "    def forward(self, X, noise):\n",
    "        print('GENERATOR')\n",
    "        X = torch.cat([X, noise], dim = 1)\n",
    "        print(X.shape)\n",
    "    \n",
    "        X = self.fc1(X)\n",
    "        X = self.fc2(X)\n",
    "        X = self.fc3(X)\n",
    "        X = self.fc4(X)\n",
    "        X = X.reshape(-1, 3, 28, 28)\n",
    "        \n",
    "        return X\n",
    "    \n",
    "class Discriminator(nn.Module):\n",
    "    \"\"\"\n",
    "    Input : Real / Fake images\n",
    "    Output : Classification Real = 1 / Fake = 0\n",
    "    \"\"\"\n",
    "    def __init__(self, input_size, hidden_size):\n",
    "        super(Discriminator, self).__init__()\n",
    "        \n",
    "        self.activation = nn.LeakyReLU()\n",
    "        \n",
    "        self.fc1 = nn.Sequential (nn.Linear(input_size, hidden_size*6)      , self.activation, nn.Dropout(0.3))\n",
    "        self.fc2 = nn.Sequential (nn.Linear(hidden_size*6, hidden_size*4)   , self.activation, nn.Dropout(0.3))\n",
    "        self.fc3 = nn.Sequential (nn.Linear(hidden_size*4, hidden_size*2)   , self.activation  , nn.Dropout(0.3))\n",
    "        self.fc4 = nn.Sequential (nn.Linear((hidden_size*2)+32, hidden_size), self.activation  , nn.Dropout(0.3))\n",
    "        \n",
    "        self.fc5_0 = nn.Sequential (nn.Linear(hidden_size, 32), self.activation  , nn.Dropout(0.3) )  # for real / fake\n",
    "        self.fc5_1 = nn.Sequential (nn.Linear(32, 16), self.activation  , nn.Dropout(0.3) )\n",
    "        self.fc5_2 = nn.Sequential (nn.Linear(16, 8),self.activation  , nn.Dropout(0.3)  ) \n",
    "        self.fc5_3 = nn.Sequential (nn.Linear(8, 1)  )\n",
    "        \n",
    "        self.fc6_0 = nn.Sequential (nn.Linear(hidden_size, 32) , self.activation  , nn.Dropout(0.3)  ) # for number classification\n",
    "        self.fc6_1 = nn.Sequential (nn.Linear(32, 3) )\n",
    "    \n",
    "    def forward(self, X, latent):\n",
    "        print('DISCRIMINATOR')\n",
    "               \n",
    "        X = X.flatten(start_dim = 1)\n",
    "\n",
    "        X = self.fc1(X)\n",
    "        X = self.fc2(X)\n",
    "        X = self.fc3(X)\n",
    "        X = torch.cat([X, latent], dim = 1)                          \n",
    "        X = self.fc4(X)\n",
    "        \n",
    "        rf_decision = self.fc5_0(X)\n",
    "        rf_decision = self.fc5_1(rf_decision)\n",
    "        rf_decision = self.fc5_2(rf_decision)\n",
    "        rf_decision = self.fc5_3(rf_decision)\n",
    "        \n",
    "        num_decision = self.fc6_0(X)\n",
    "        num_decision = self.fc6_1(num_decision)\n",
    "        \n",
    "        return rf_decision, num_decision"
   ]
  },
  {
   "cell_type": "code",
   "execution_count": null,
   "id": "expensive-furniture",
   "metadata": {},
   "outputs": [],
   "source": []
  },
  {
   "cell_type": "code",
   "execution_count": null,
   "id": "diverse-violation",
   "metadata": {},
   "outputs": [],
   "source": []
  }
 ],
 "metadata": {
  "kernelspec": {
   "display_name": "Python 3",
   "language": "python",
   "name": "python3"
  },
  "language_info": {
   "codemirror_mode": {
    "name": "ipython",
    "version": 3
   },
   "file_extension": ".py",
   "mimetype": "text/x-python",
   "name": "python",
   "nbconvert_exporter": "python",
   "pygments_lexer": "ipython3",
   "version": "3.6.9"
  }
 },
 "nbformat": 4,
 "nbformat_minor": 5
}
